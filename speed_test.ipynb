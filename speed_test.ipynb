{
 "cells": [
  {
   "cell_type": "markdown",
   "metadata": {},
   "source": [
    "## 测试效果\n",
    "\n",
    "- 测试代码: [speed_test.ipynb](speed_test.ipynb)\n",
    "- 测试环境: Intel i5-12400 CPU, 48GB RAM, 1x NVIDIA GeForce RTX 4070\n",
    "- 运行环境: Ubuntu 24.04.1 LTS, cuda 12.4, python 3.10.16\n",
    "- 测试说明: 单任务执行的数据（非并发测试）\n"
   ]
  },
  {
   "cell_type": "markdown",
   "metadata": {},
   "source": [
    "##### 使用**注意事项**，需要将该文件移动到 cosyvoise 目录下，并安装 Ipython 模块运行"
   ]
  },
  {
   "cell_type": "markdown",
   "metadata": {},
   "source": [
    "## 默认情况下"
   ]
  },
  {
   "cell_type": "code",
   "execution_count": 2,
   "metadata": {},
   "outputs": [
    {
     "name": "stderr",
     "output_type": "stream",
     "text": [
      "Sliding Window Attention is enabled but not implemented for `sdpa`; unexpected results may be encountered.\n",
      "/opt/anaconda3/envs/cosyvoice/lib/python3.10/site-packages/diffusers/models/lora.py:393: FutureWarning: `LoRACompatibleLinear` is deprecated and will be removed in version 1.0.0. Use of `LoRACompatibleLinear` is deprecated. Please switch to PEFT backend by installing PEFT: `pip install peft`.\n",
      "  deprecate(\"LoRACompatibleLinear\", \"1.0.0\", deprecation_message)\n",
      "2025-02-26 14:47:33,166 INFO input frame rate=25\n",
      "/opt/anaconda3/envs/cosyvoice/lib/python3.10/site-packages/onnxruntime/capi/onnxruntime_inference_collection.py:115: UserWarning: Specified provider 'CUDAExecutionProvider' is not in available provider names.Available providers: 'AzureExecutionProvider, CPUExecutionProvider'\n",
      "  warnings.warn(\n",
      "/home/qihua/github/FunAudioLLM-APP/cosyvoice/cosyvoice/cli/frontend.py:59: FutureWarning: You are using `torch.load` with `weights_only=False` (the current default value), which uses the default pickle module implicitly. It is possible to construct malicious pickle data which will execute arbitrary code during unpickling (See https://github.com/pytorch/pytorch/blob/main/SECURITY.md#untrusted-models for more details). In a future release, the default value for `weights_only` will be flipped to `True`. This limits the functions that could be executed during unpickling. Arbitrary objects will no longer be allowed to be loaded via this mode unless they are explicitly allowlisted by the user via `torch.serialization.add_safe_globals`. We recommend you start setting `weights_only=True` for any use case where you don't have full control of the loaded file. Please open an issue on GitHub for any issues related to this experimental feature.\n",
      "  self.spk2info = torch.load(spk2info, map_location=self.device)\n",
      "2025-02-26 14:47:34,392 WETEXT INFO found existing fst: /opt/anaconda3/envs/cosyvoice/lib/python3.10/site-packages/tn/zh_tn_tagger.fst\n",
      "2025-02-26 14:47:34,392 INFO found existing fst: /opt/anaconda3/envs/cosyvoice/lib/python3.10/site-packages/tn/zh_tn_tagger.fst\n",
      "2025-02-26 14:47:34,393 WETEXT INFO                     /opt/anaconda3/envs/cosyvoice/lib/python3.10/site-packages/tn/zh_tn_verbalizer.fst\n",
      "2025-02-26 14:47:34,393 INFO                     /opt/anaconda3/envs/cosyvoice/lib/python3.10/site-packages/tn/zh_tn_verbalizer.fst\n",
      "2025-02-26 14:47:34,393 WETEXT INFO skip building fst for zh_normalizer ...\n",
      "2025-02-26 14:47:34,393 INFO skip building fst for zh_normalizer ...\n",
      "2025-02-26 14:47:34,592 WETEXT INFO found existing fst: /opt/anaconda3/envs/cosyvoice/lib/python3.10/site-packages/tn/en_tn_tagger.fst\n",
      "2025-02-26 14:47:34,592 INFO found existing fst: /opt/anaconda3/envs/cosyvoice/lib/python3.10/site-packages/tn/en_tn_tagger.fst\n",
      "2025-02-26 14:47:34,593 WETEXT INFO                     /opt/anaconda3/envs/cosyvoice/lib/python3.10/site-packages/tn/en_tn_verbalizer.fst\n",
      "2025-02-26 14:47:34,593 INFO                     /opt/anaconda3/envs/cosyvoice/lib/python3.10/site-packages/tn/en_tn_verbalizer.fst\n",
      "2025-02-26 14:47:34,593 WETEXT INFO skip building fst for en_normalizer ...\n",
      "2025-02-26 14:47:34,593 INFO skip building fst for en_normalizer ...\n",
      "/home/qihua/github/FunAudioLLM-APP/cosyvoice/cosyvoice/cli/model.py:70: FutureWarning: You are using `torch.load` with `weights_only=False` (the current default value), which uses the default pickle module implicitly. It is possible to construct malicious pickle data which will execute arbitrary code during unpickling (See https://github.com/pytorch/pytorch/blob/main/SECURITY.md#untrusted-models for more details). In a future release, the default value for `weights_only` will be flipped to `True`. This limits the functions that could be executed during unpickling. Arbitrary objects will no longer be allowed to be loaded via this mode unless they are explicitly allowlisted by the user via `torch.serialization.add_safe_globals`. We recommend you start setting `weights_only=True` for any use case where you don't have full control of the loaded file. Please open an issue on GitHub for any issues related to this experimental feature.\n",
      "  self.llm.load_state_dict(torch.load(llm_model, map_location=self.device), strict=True)\n",
      "/home/qihua/github/FunAudioLLM-APP/cosyvoice/cosyvoice/cli/model.py:72: FutureWarning: You are using `torch.load` with `weights_only=False` (the current default value), which uses the default pickle module implicitly. It is possible to construct malicious pickle data which will execute arbitrary code during unpickling (See https://github.com/pytorch/pytorch/blob/main/SECURITY.md#untrusted-models for more details). In a future release, the default value for `weights_only` will be flipped to `True`. This limits the functions that could be executed during unpickling. Arbitrary objects will no longer be allowed to be loaded via this mode unless they are explicitly allowlisted by the user via `torch.serialization.add_safe_globals`. We recommend you start setting `weights_only=True` for any use case where you don't have full control of the loaded file. Please open an issue on GitHub for any issues related to this experimental feature.\n",
      "  self.flow.load_state_dict(torch.load(flow_model, map_location=self.device), strict=True)\n",
      "/home/qihua/github/FunAudioLLM-APP/cosyvoice/cosyvoice/cli/model.py:75: FutureWarning: You are using `torch.load` with `weights_only=False` (the current default value), which uses the default pickle module implicitly. It is possible to construct malicious pickle data which will execute arbitrary code during unpickling (See https://github.com/pytorch/pytorch/blob/main/SECURITY.md#untrusted-models for more details). In a future release, the default value for `weights_only` will be flipped to `True`. This limits the functions that could be executed during unpickling. Arbitrary objects will no longer be allowed to be loaded via this mode unless they are explicitly allowlisted by the user via `torch.serialization.add_safe_globals`. We recommend you start setting `weights_only=True` for any use case where you don't have full control of the loaded file. Please open an issue on GitHub for any issues related to this experimental feature.\n",
      "  hift_state_dict = {k.replace('generator.', ''): v for k, v in torch.load(hift_model, map_location=self.device).items()}\n"
     ]
    },
    {
     "name": "stdout",
     "output_type": "stream",
     "text": [
      "[02/26/2025-14:47:37] [TRT] [I] Loaded engine size: 158 MiB\n",
      "[02/26/2025-14:47:37] [TRT] [I] [MS] Running engine with multi stream info\n",
      "[02/26/2025-14:47:37] [TRT] [I] [MS] Number of aux streams is 1\n",
      "[02/26/2025-14:47:37] [TRT] [I] [MS] Number of total worker streams is 2\n",
      "[02/26/2025-14:47:37] [TRT] [I] [MS] The main stream provided by execute/enqueue calls is the first worker stream\n",
      "[02/26/2025-14:47:37] [TRT] [I] [MemUsageChange] TensorRT-managed allocation in IExecutionContext creation: CPU +0, GPU +4545, now: CPU 0, GPU 4681 (MiB)\n"
     ]
    }
   ],
   "source": [
    "import time\n",
    "import asyncio\n",
    "import torchaudio\n",
    "\n",
    "import sys\n",
    "sys.path.append('third_party/Matcha-TTS')\n",
    "\n",
    "from cosyvoice.cli.cosyvoice import  CosyVoice2\n",
    "from cosyvoice.utils.file_utils import load_wav\n",
    "\n",
    "prompt_text = '希望你以后能够做得比我还好哟'\n",
    "prompt_speech_16k = load_wav('./asset/zero_shot_prompt.wav', 16000)\n",
    "\n",
    "# cosyvoice = CosyVoice2('./pretrained_models/CosyVoice2-0.5B', load_jit=False, load_trt=False, fp16=True)\n",
    "cosyvoice = CosyVoice2('./pretrained_models/CosyVoice2-0.5B', load_jit=True, load_trt=True, fp16=True)"
   ]
  },
  {
   "cell_type": "code",
   "execution_count": 9,
   "metadata": {},
   "outputs": [
    {
     "name": "stderr",
     "output_type": "stream",
     "text": [
      "  0%|          | 0/1 [00:00<?, ?it/s]"
     ]
    },
    {
     "name": "stderr",
     "output_type": "stream",
     "text": [
      "2025-02-26 14:50:17,298 INFO synthesis text 收到好友从远方寄来的生日礼物，那份意外的惊喜与深深的祝福让我心中充满了甜蜜的快乐，笑容如花儿般绽放。\n",
      "2025-02-26 14:50:20,558 INFO yield speech len 12.52, rtf 0.2603567636812838\n",
      "100%|██████████| 1/1 [00:03<00:00,  3.58s/it]\n"
     ]
    }
   ],
   "source": [
    "for i, j in enumerate(cosyvoice.inference_zero_shot('收到好友从远方寄来的生日礼物，那份意外的惊喜与深深的祝福让我心中充满了甜蜜的快乐，笑容如花儿般绽放。', prompt_text, prompt_speech_16k, stream=False)):\n",
    "    torchaudio.save('zero_shot_{}.wav'.format(i), j['tts_speech'], cosyvoice.sample_rate)"
   ]
  },
  {
   "cell_type": "code",
   "execution_count": 10,
   "metadata": {},
   "outputs": [
    {
     "name": "stderr",
     "output_type": "stream",
     "text": [
      "  0%|          | 0/1 [00:00<?, ?it/s]2025-02-26 14:50:25,638 INFO synthesis text 收到好友从远方寄来的生日礼物，那份意外的惊喜与深深的祝福让我心中充满了甜蜜的快乐，笑容如花儿般绽放。\n",
      "2025-02-26 14:50:26,355 INFO yield speech len 1.84, rtf 0.3896181998045548\n",
      "2025-02-26 14:50:26,884 INFO yield speech len 2.0, rtf 0.2637672424316406\n",
      "2025-02-26 14:50:27,409 INFO yield speech len 2.0, rtf 0.2617619037628174\n",
      "2025-02-26 14:50:27,960 INFO yield speech len 2.0, rtf 0.2750217914581299\n",
      "2025-02-26 14:50:28,433 INFO yield speech len 2.0, rtf 0.23574376106262207\n",
      "2025-02-26 14:50:28,850 INFO yield speech len 1.76, rtf 0.23584352298216385\n",
      "100%|██████████| 1/1 [00:03<00:00,  3.52s/it]\n"
     ]
    }
   ],
   "source": [
    "for i, j in enumerate(cosyvoice.inference_zero_shot('收到好友从远方寄来的生日礼物，那份意外的惊喜与深深的祝福让我心中充满了甜蜜的快乐，笑容如花儿般绽放。', prompt_text, prompt_speech_16k, stream=True)):\n",
    "    torchaudio.save('zero_shot_{}.wav'.format(i), j['tts_speech'], cosyvoice.sample_rate)"
   ]
  },
  {
   "cell_type": "code",
   "execution_count": 11,
   "metadata": {},
   "outputs": [
    {
     "name": "stderr",
     "output_type": "stream",
     "text": [
      "2025-02-26 14:50:55,763 INFO get tts_text generator, will skip text_normalize!\n",
      "  0%|          | 0/1 [00:00<?, ?it/s]2025-02-26 14:50:55,768 INFO get tts_text generator, will return _extract_text_token_generator!\n",
      "2025-02-26 14:50:56,083 INFO synthesis text <generator object text_generator at 0x79821eaa2180>\n",
      "2025-02-26 14:50:56,086 INFO append 5 text token 15 speech token\n",
      "2025-02-26 14:50:56,086 INFO append 5 text token 15 speech token\n",
      "2025-02-26 14:50:56,087 INFO append 5 text token 15 speech token\n",
      "2025-02-26 14:50:56,087 INFO append 5 text token 15 speech token\n",
      "2025-02-26 14:50:56,087 INFO append 5 text token 15 speech token\n",
      "2025-02-26 14:50:56,088 INFO not enough text token to decode, wait for more\n",
      "2025-02-26 14:50:56,088 INFO append 5 text token 12 speech token\n",
      "2025-02-26 14:50:56,211 INFO fill_token index 3 next fill_token index 19\n",
      "2025-02-26 14:50:56,212 INFO get fill token, need to append more text token\n",
      "2025-02-26 14:50:56,213 INFO append 5 text token\n",
      "2025-02-26 14:50:56,389 INFO fill_token index 19 next fill_token index 35\n",
      "2025-02-26 14:50:56,390 INFO get fill token, need to append more text token\n",
      "2025-02-26 14:50:56,390 INFO append 5 text token\n",
      "2025-02-26 14:50:56,550 INFO fill_token index 35 next fill_token index 51\n",
      "2025-02-26 14:50:56,551 INFO no more text token, decode until met eos\n",
      "2025-02-26 14:50:59,270 INFO yield speech len 12.28, rtf 0.25946981355499366\n",
      "100%|██████████| 1/1 [00:03<00:00,  3.51s/it]\n"
     ]
    }
   ],
   "source": [
    "def text_generator():\n",
    "    yield '收到好友从远方寄来的生日礼物，'\n",
    "    yield '那份意外的惊喜与深深的祝福'\n",
    "    yield '让我心中充满了甜蜜的快乐，'\n",
    "    yield '笑容如花儿般绽放。'\n",
    "for i, j in enumerate(cosyvoice.inference_zero_shot(text_generator(), prompt_text, prompt_speech_16k, stream=False)):\n",
    "    torchaudio.save('zero_shot_{}.wav'.format(i), j['tts_speech'], cosyvoice.sample_rate)"
   ]
  },
  {
   "cell_type": "code",
   "execution_count": 12,
   "metadata": {},
   "outputs": [
    {
     "name": "stderr",
     "output_type": "stream",
     "text": [
      "2025-02-26 14:51:07,602 INFO get tts_text generator, will skip text_normalize!\n",
      "  0%|          | 0/1 [00:00<?, ?it/s]2025-02-26 14:51:07,607 INFO get tts_text generator, will return _extract_text_token_generator!\n",
      "2025-02-26 14:51:07,958 INFO synthesis text <generator object text_generator at 0x79821eaa2650>\n",
      "2025-02-26 14:51:07,959 INFO append 5 text token 15 speech token\n",
      "2025-02-26 14:51:07,960 INFO append 5 text token 15 speech token\n",
      "2025-02-26 14:51:07,960 INFO append 5 text token 15 speech token\n",
      "2025-02-26 14:51:07,961 INFO append 5 text token 15 speech token\n",
      "2025-02-26 14:51:07,961 INFO append 5 text token 15 speech token\n",
      "2025-02-26 14:51:07,961 INFO not enough text token to decode, wait for more\n",
      "2025-02-26 14:51:07,962 INFO append 5 text token 12 speech token\n",
      "2025-02-26 14:51:08,076 INFO fill_token index 3 next fill_token index 19\n",
      "2025-02-26 14:51:08,077 INFO get fill token, need to append more text token\n",
      "2025-02-26 14:51:08,078 INFO append 5 text token\n",
      "2025-02-26 14:51:08,365 INFO fill_token index 19 next fill_token index 35\n",
      "2025-02-26 14:51:08,365 INFO get fill token, need to append more text token\n",
      "2025-02-26 14:51:08,366 INFO append 5 text token\n",
      "2025-02-26 14:51:08,636 INFO fill_token index 35 next fill_token index 51\n",
      "2025-02-26 14:51:08,637 INFO no more text token, decode until met eos\n",
      "2025-02-26 14:51:08,945 INFO yield speech len 1.84, rtf 0.5363299794819044\n",
      "2025-02-26 14:51:09,452 INFO yield speech len 2.0, rtf 0.25229954719543457\n",
      "2025-02-26 14:51:10,075 INFO yield speech len 2.0, rtf 0.31104183197021484\n",
      "2025-02-26 14:51:10,725 INFO yield speech len 2.0, rtf 0.3238917589187622\n",
      "2025-02-26 14:51:11,197 INFO yield speech len 2.0, rtf 0.23549187183380127\n",
      "2025-02-26 14:51:11,772 INFO yield speech len 2.0, rtf 0.28693246841430664\n",
      "2025-02-26 14:51:11,971 INFO yield speech len 0.76, rtf 0.25982511670965897\n",
      "100%|██████████| 1/1 [00:04<00:00,  4.37s/it]\n"
     ]
    }
   ],
   "source": [
    "def text_generator():\n",
    "    yield '收到好友从远方寄来的生日礼物，'\n",
    "    yield '那份意外的惊喜与深深的祝福'\n",
    "    yield '让我心中充满了甜蜜的快乐，'\n",
    "    yield '笑容如花儿般绽放。'\n",
    "for i, j in enumerate(cosyvoice.inference_zero_shot(text_generator(), prompt_text, prompt_speech_16k, stream=True)):\n",
    "    torchaudio.save('zero_shot_{}.wav'.format(i), j['tts_speech'], cosyvoice.sample_rate)"
   ]
  },
  {
   "cell_type": "code",
   "execution_count": 13,
   "metadata": {},
   "outputs": [
    {
     "name": "stderr",
     "output_type": "stream",
     "text": [
      "  0%|          | 0/1 [00:00<?, ?it/s]2025-02-26 14:51:27,736 INFO synthesis text 收到好友从远方寄来的生日礼物，那份意外的惊喜与深深的祝福让我心中充满了甜蜜的快乐，笑容如花儿般绽放。\n",
      "2025-02-26 14:51:30,704 INFO yield speech len 11.04, rtf 0.2689106092936751\n",
      "100%|██████████| 1/1 [00:03<00:00,  3.29s/it]\n"
     ]
    }
   ],
   "source": [
    "# instruct usage\n",
    "for i, j in enumerate(cosyvoice.inference_instruct2('收到好友从远方寄来的生日礼物，那份意外的惊喜与深深的祝福让我心中充满了甜蜜的快乐，笑容如花儿般绽放。', '用四川话说这句话', prompt_speech_16k, stream=False)):\n",
    "    torchaudio.save('instruct2_{}.wav'.format(i), j['tts_speech'], cosyvoice.sample_rate)\n"
   ]
  },
  {
   "cell_type": "code",
   "execution_count": 16,
   "metadata": {},
   "outputs": [
    {
     "name": "stderr",
     "output_type": "stream",
     "text": [
      "2025-02-26 14:51:58,201 INFO get tts_text generator, will skip text_normalize!\n",
      "  0%|          | 0/1 [00:00<?, ?it/s]2025-02-26 14:51:58,208 INFO get tts_text generator, will return _extract_text_token_generator!\n",
      "2025-02-26 14:51:58,536 INFO synthesis text <generator object text_generator at 0x79821eaa1ee0>\n",
      "2025-02-26 14:51:58,537 INFO get fill token, need to append more text token\n",
      "2025-02-26 14:51:58,538 INFO append 5 text token\n",
      "2025-02-26 14:51:58,793 INFO fill_token index 15 next fill_token index 31\n",
      "2025-02-26 14:51:58,793 INFO get fill token, need to append more text token\n",
      "2025-02-26 14:51:58,794 INFO append 5 text token\n",
      "2025-02-26 14:51:58,949 INFO fill_token index 31 next fill_token index 47\n",
      "2025-02-26 14:51:58,950 INFO get fill token, need to append more text token\n",
      "2025-02-26 14:51:58,950 INFO append 5 text token\n",
      "2025-02-26 14:51:59,106 INFO fill_token index 47 next fill_token index 63\n",
      "2025-02-26 14:51:59,107 INFO get fill token, need to append more text token\n",
      "2025-02-26 14:51:59,107 INFO append 5 text token\n",
      "2025-02-26 14:51:59,254 INFO fill_token index 63 next fill_token index 79\n",
      "2025-02-26 14:51:59,255 INFO no more text token, decode until met eos\n",
      "2025-02-26 14:52:02,039 INFO yield speech len 13.52, rtf 0.2591414564459987\n",
      "100%|██████████| 1/1 [00:03<00:00,  3.84s/it]\n"
     ]
    }
   ],
   "source": [
    "# instruct usage\n",
    "def text_generator():\n",
    "    yield '收到好友从远方寄来的生日礼物，'\n",
    "    yield '那份意外的惊喜与深深的祝福'\n",
    "    yield '让我心中充满了甜蜜的快乐，'\n",
    "    yield '笑容如花儿般绽放。'\n",
    "for i, j in enumerate(cosyvoice.inference_instruct2(text_generator(), '用四川话说这句话', prompt_speech_16k, stream=False)):\n",
    "    torchaudio.save('instruct2_{}.wav'.format(i), j['tts_speech'], cosyvoice.sample_rate)\n"
   ]
  },
  {
   "cell_type": "markdown",
   "metadata": {},
   "source": [
    "## 使用vllm加速llm推理"
   ]
  },
  {
   "cell_type": "markdown",
   "metadata": {},
   "source": [
    "\n",
    "#### **注意：**\n",
    "\n",
    "在 jupyter notebook 中，如果要运行下列代码，需要将vllm_use_cosyvoice2_model.py正确复制到 vllm 包中，并注册到 _VLLM_MODELS 字典中。\n",
    "\n",
    "运行下面的 code 完成"
   ]
  },
  {
   "cell_type": "code",
   "execution_count": 1,
   "metadata": {},
   "outputs": [
    {
     "name": "stderr",
     "output_type": "stream",
     "text": [
      "/opt/anaconda3/envs/cosyvoice2/lib/python3.10/site-packages/tqdm/auto.py:21: TqdmWarning: IProgress not found. Please update jupyter and ipywidgets. See https://ipywidgets.readthedocs.io/en/stable/user_install.html\n",
      "  from .autonotebook import tqdm as notebook_tqdm\n",
      "2025-02-26 15:21:27,119\tINFO util.py:154 -- Missing packages: ['ipywidgets']. Run `pip install -U ipywidgets`, then restart the notebook server for rich notebook output.\n"
     ]
    },
    {
     "name": "stdout",
     "output_type": "stream",
     "text": [
      "INFO 02-26 15:21:27 __init__.py:207] Automatically detected platform cuda.\n",
      "vllm package path: /opt/anaconda3/envs/cosyvoice2/lib/python3.10/site-packages/vllm\n",
      "Copied ./async_cosyvoice/vllm_use_cosyvoice2_model.py to /opt/anaconda3/envs/cosyvoice2/lib/python3.10/site-packages/vllm/model_executor/models/cosyvoice2.py\n",
      "Successfully updated registry.py\n",
      "All operations completed successfully!\n"
     ]
    }
   ],
   "source": [
    "import os\n",
    "import shutil\n",
    "\n",
    "# 获取vllm包的安装路径\n",
    "try:\n",
    "    import vllm\n",
    "except ImportError:\n",
    "    raise ImportError(\"vllm package not installed\")\n",
    "\n",
    "\n",
    "vllm_path = os.path.dirname(vllm.__file__)\n",
    "print(f\"vllm package path: {vllm_path}\")\n",
    "\n",
    "# 定义目标路径\n",
    "target_dir = os.path.join(vllm_path, \"model_executor\", \"models\")\n",
    "target_file = os.path.join(target_dir, \"cosyvoice2.py\")\n",
    "\n",
    "# 复制模型文件\n",
    "source_file = \"./async_cosyvoice/vllm_use_cosyvoice2_model.py\"\n",
    "if not os.path.exists(source_file):\n",
    "    raise FileNotFoundError(f\"Source file {source_file} not found\")\n",
    "\n",
    "shutil.copy(source_file, target_file)\n",
    "print(f\"Copied {source_file} to {target_file}\")\n",
    "\n",
    "# 修改registry.py文件\n",
    "registry_path = os.path.join(target_dir, \"registry.py\")\n",
    "new_entry = '    \"CosyVoice2Model\": (\"cosyvoice2\", \"CosyVoice2Model\"),  # noqa: E501\\n'\n",
    "\n",
    "# 读取并修改文件内容\n",
    "with open(registry_path, \"r\") as f:\n",
    "    lines = f.readlines()\n",
    "\n",
    "# 检查是否已存在条目\n",
    "entry_exists = any(\"CosyVoice2Model\" in line for line in lines)\n",
    "\n",
    "if not entry_exists:\n",
    "    # 寻找插入位置\n",
    "    insert_pos = None\n",
    "    for i, line in enumerate(lines):\n",
    "        if line.strip().startswith(\"**_FALLBACK_MODEL\"):\n",
    "            insert_pos = i + 1\n",
    "            break\n",
    "    \n",
    "    if insert_pos is None:\n",
    "        raise ValueError(\"Could not find insertion point in registry.py\")\n",
    "    \n",
    "    # 插入新条目\n",
    "    lines.insert(insert_pos, new_entry)\n",
    "    \n",
    "    # 写回文件\n",
    "    with open(registry_path, \"w\") as f:\n",
    "        f.writelines(lines)\n",
    "    print(\"Successfully updated registry.py\")\n",
    "else:\n",
    "    print(\"Entry already exists in registry.py, skipping modification\")\n",
    "\n",
    "print(\"All operations completed successfully!\")"
   ]
  },
  {
   "cell_type": "code",
   "execution_count": 1,
   "metadata": {},
   "outputs": [
    {
     "name": "stderr",
     "output_type": "stream",
     "text": [
      "2025-02-26 16:44:41,290 - modelscope - INFO - PyTorch version 2.5.1 Found.\n",
      "2025-02-26 16:44:41,291 - modelscope - INFO - Loading ast index from /home/qihua/.cache/modelscope/ast_indexer\n",
      "2025-02-26 16:44:41,318 - modelscope - INFO - Loading done! Current index file version is 1.15.0, with md5 fa842134a31dcdbdb54636891ec38df6 and a total number of 980 components indexed\n",
      "/opt/anaconda3/envs/cosyvoice2/lib/python3.10/site-packages/tqdm/auto.py:21: TqdmWarning: IProgress not found. Please update jupyter and ipywidgets. See https://ipywidgets.readthedocs.io/en/stable/user_install.html\n",
      "  from .autonotebook import tqdm as notebook_tqdm\n",
      "2025-02-26 16:44:42,981\tINFO util.py:154 -- Missing packages: ['ipywidgets']. Run `pip install -U ipywidgets`, then restart the notebook server for rich notebook output.\n"
     ]
    },
    {
     "name": "stdout",
     "output_type": "stream",
     "text": [
      "INFO 02-26 16:44:43 __init__.py:207] Automatically detected platform cuda.\n",
      "WARNING 02-26 16:44:43 registry.py:352] Model architecture CosyVoice2Model is already registered, and will be overwritten by the new model class <class 'async_cosyvoice.vllm_use_cosyvoice2_model.CosyVoice2Model'>.\n",
      "failed to import ttsfrd, use WeTextProcessing instead\n"
     ]
    },
    {
     "name": "stderr",
     "output_type": "stream",
     "text": [
      "/opt/anaconda3/envs/cosyvoice2/lib/python3.10/site-packages/diffusers/models/lora.py:393: FutureWarning: `LoRACompatibleLinear` is deprecated and will be removed in version 1.0.0. Use of `LoRACompatibleLinear` is deprecated. Please switch to PEFT backend by installing PEFT: `pip install peft`.\n",
      "  deprecate(\"LoRACompatibleLinear\", \"1.0.0\", deprecation_message)\n",
      "2025-02-26 16:44:46,783 INFO input frame rate=25\n",
      "\u001b[0;93m2025-02-26 16:44:47.808782232 [W:onnxruntime:, transformer_memcpy.cc:74 ApplyImpl] 8 Memcpy nodes are added to the graph main_graph for CUDAExecutionProvider. It might have negative impact on performance (including unable to run CUDA graph). Set session_options.log_severity_level=1 to see the detail logs before this message.\u001b[m\n",
      "\u001b[0;93m2025-02-26 16:44:47.810952056 [W:onnxruntime:, session_state.cc:1166 VerifyEachNodeIsAssignedToAnEp] Some nodes were not assigned to the preferred execution providers which may or may not have an negative impact on performance. e.g. ORT explicitly assigns shape related ops to CPU to improve perf.\u001b[m\n",
      "\u001b[0;93m2025-02-26 16:44:47.810958201 [W:onnxruntime:, session_state.cc:1168 VerifyEachNodeIsAssignedToAnEp] Rerunning with verbose output on a non-minimal build will show node assignments.\u001b[m\n",
      "2025-02-26 16:44:47,960 WETEXT INFO found existing fst: /opt/anaconda3/envs/cosyvoice2/lib/python3.10/site-packages/tn/zh_tn_tagger.fst\n",
      "2025-02-26 16:44:47,960 INFO found existing fst: /opt/anaconda3/envs/cosyvoice2/lib/python3.10/site-packages/tn/zh_tn_tagger.fst\n",
      "2025-02-26 16:44:47,961 WETEXT INFO                     /opt/anaconda3/envs/cosyvoice2/lib/python3.10/site-packages/tn/zh_tn_verbalizer.fst\n",
      "2025-02-26 16:44:47,961 INFO                     /opt/anaconda3/envs/cosyvoice2/lib/python3.10/site-packages/tn/zh_tn_verbalizer.fst\n",
      "2025-02-26 16:44:47,962 WETEXT INFO skip building fst for zh_normalizer ...\n",
      "2025-02-26 16:44:47,962 INFO skip building fst for zh_normalizer ...\n",
      "2025-02-26 16:44:48,159 WETEXT INFO found existing fst: /opt/anaconda3/envs/cosyvoice2/lib/python3.10/site-packages/tn/en_tn_tagger.fst\n",
      "2025-02-26 16:44:48,159 INFO found existing fst: /opt/anaconda3/envs/cosyvoice2/lib/python3.10/site-packages/tn/en_tn_tagger.fst\n",
      "2025-02-26 16:44:48,160 WETEXT INFO                     /opt/anaconda3/envs/cosyvoice2/lib/python3.10/site-packages/tn/en_tn_verbalizer.fst\n",
      "2025-02-26 16:44:48,160 INFO                     /opt/anaconda3/envs/cosyvoice2/lib/python3.10/site-packages/tn/en_tn_verbalizer.fst\n",
      "2025-02-26 16:44:48,160 WETEXT INFO skip building fst for en_normalizer ...\n",
      "2025-02-26 16:44:48,160 INFO skip building fst for en_normalizer ...\n"
     ]
    },
    {
     "name": "stdout",
     "output_type": "stream",
     "text": [
      "INFO 02-26 16:44:48 config.py:549] This model supports multiple tasks: {'reward', 'score', 'classify', 'embed', 'generate'}. Defaulting to 'generate'.\n",
      "INFO 02-26 16:44:48 config.py:1555] Chunked prefill is enabled with max_num_batched_tokens=1024.\n",
      "WARNING 02-26 16:44:49 utils.py:2128] CUDA was previously initialized. We must use the `spawn` multiprocessing start method. Setting VLLM_WORKER_MULTIPROC_METHOD to 'spawn'. See https://docs.vllm.ai/en/latest/getting_started/troubleshooting.html#python-multiprocessing for more information.\n",
      "INFO 02-26 16:44:51 __init__.py:207] Automatically detected platform cuda.\n",
      "INFO 02-26 16:44:52 core.py:50] Initializing a V1 LLM engine (v0.7.3) with config: model='./pretrained_models/CosyVoice2-0.5B', speculative_config=None, tokenizer='./pretrained_models/CosyVoice2-0.5B', skip_tokenizer_init=False, tokenizer_mode=auto, revision=None, override_neuron_config=None, tokenizer_revision=None, trust_remote_code=False, dtype=torch.bfloat16, max_seq_len=1024, download_dir=None, load_format=auto, tensor_parallel_size=1, pipeline_parallel_size=1, disable_custom_all_reduce=False, quantization=None, enforce_eager=False, kv_cache_dtype=auto,  device_config=cuda, decoding_config=DecodingConfig(guided_decoding_backend='xgrammar'), observability_config=ObservabilityConfig(otlp_traces_endpoint=None, collect_model_forward_time=False, collect_model_execute_time=False), seed=0, served_model_name=./pretrained_models/CosyVoice2-0.5B, num_scheduler_steps=1, multi_step_stream_outputs=True, enable_prefix_caching=True, chunked_prefill_enabled=True, use_async_output_proc=True, disable_mm_preprocessor_cache=False, mm_processor_kwargs=None, pooler_config=None, compilation_config={\"level\":3,\"custom_ops\":[\"none\"],\"splitting_ops\":[\"vllm.unified_attention\",\"vllm.unified_attention_with_output\"],\"use_inductor\":true,\"compile_sizes\":[],\"use_cudagraph\":true,\"cudagraph_num_of_warmups\":1,\"cudagraph_capture_sizes\":[512,504,496,488,480,472,464,456,448,440,432,424,416,408,400,392,384,376,368,360,352,344,336,328,320,312,304,296,288,280,272,264,256,248,240,232,224,216,208,200,192,184,176,168,160,152,144,136,128,120,112,104,96,88,80,72,64,56,48,40,32,24,16,8,4,2,1],\"max_capture_size\":512}\n",
      "WARNING 02-26 16:44:52 utils.py:2262] Methods determine_num_available_blocks,device_config,get_cache_block_size_bytes,list_loras,load_config,pin_lora,remove_lora,scheduler_config not implemented in <vllm.v1.worker.gpu_worker.Worker object at 0x761594003cd0>\n",
      "INFO 02-26 16:44:52 gpu_model_runner.py:1049] Starting to load model ./pretrained_models/CosyVoice2-0.5B...\n",
      "INFO 02-26 16:44:52 cuda.py:157] Using Flash Attention backend on V1 engine.\n",
      "WARNING 02-26 16:44:52 topk_topp_sampler.py:46] FlashInfer is not available. Falling back to the PyTorch-native implementation of top-p & top-k sampling. For the best performance, please install FlashInfer.\n",
      "WARNING 02-26 16:44:52 rejection_sampler.py:47] FlashInfer is not available. Falling back to the PyTorch-native implementation of rejection sampling. For the best performance, please install FlashInfer.\n"
     ]
    },
    {
     "name": "stderr",
     "output_type": "stream",
     "text": [
      "/opt/anaconda3/envs/cosyvoice2/lib/python3.10/site-packages/torch/utils/_device.py:106: UserWarning: To copy construct from a tensor, it is recommended to use sourceTensor.clone().detach() or sourceTensor.clone().detach().requires_grad_(True), rather than torch.tensor(sourceTensor).\n",
      "  return func(*args, **kwargs)\n",
      "Loading pt checkpoint shards:   0% Completed | 0/1 [00:00<?, ?it/s]\n",
      "Loading pt checkpoint shards: 100% Completed | 1/1 [00:00<00:00,  1.06it/s]\n",
      "Loading pt checkpoint shards: 100% Completed | 1/1 [00:00<00:00,  1.06it/s]\n",
      "\n"
     ]
    },
    {
     "name": "stdout",
     "output_type": "stream",
     "text": [
      "INFO 02-26 16:44:53 gpu_model_runner.py:1060] Loading model weights took 0.9532 GB\n",
      "INFO 02-26 16:44:57 backends.py:408] Using cache directory: /home/qihua/.cache/vllm/torch_compile_cache/f48b0f0dcc/rank_0 for vLLM's torch.compile\n",
      "INFO 02-26 16:44:57 backends.py:418] Dynamo bytecode transform time: 3.57 s\n",
      "INFO 02-26 16:44:57 backends.py:115] Directly load the compiled graph for shape None from the cache\n",
      "INFO 02-26 16:45:00 monitor.py:33] torch.compile takes 3.57 s in total\n",
      "INFO 02-26 16:45:00 kv_cache_utils.py:522] # GPU blocks: 6888\n",
      "INFO 02-26 16:45:00 kv_cache_utils.py:525] Maximum concurrency for 1024 tokens per request: 107.62x\n",
      "INFO 02-26 16:45:10 gpu_model_runner.py:1339] Graph capturing finished in 10 secs, took 0.34 GiB\n",
      "INFO 02-26 16:45:10 core.py:116] init engine (profile, create kv cache, warmup model) took 16.77 seconds\n",
      "[02/26/2025-16:45:11] [TRT] [I] Loaded engine size: 158 MiB\n",
      "[02/26/2025-16:45:11] [TRT] [I] [MS] Running engine with multi stream info\n",
      "[02/26/2025-16:45:11] [TRT] [I] [MS] Number of aux streams is 1\n",
      "[02/26/2025-16:45:11] [TRT] [I] [MS] Number of total worker streams is 2\n",
      "[02/26/2025-16:45:11] [TRT] [I] [MS] The main stream provided by execute/enqueue calls is the first worker stream\n",
      "[02/26/2025-16:45:11] [TRT] [I] [MemUsageChange] TensorRT-managed allocation in IExecutionContext creation: CPU +0, GPU +4545, now: CPU 0, GPU 4681 (MiB)\n"
     ]
    }
   ],
   "source": [
    "import time\n",
    "import asyncio\n",
    "import torch\n",
    "import torchaudio\n",
    "\n",
    "import sys\n",
    "sys.path.append('third_party/Matcha-TTS')\n",
    "\n",
    "from async_cosyvoice.async_cosyvoice import AsyncCosyVoice2\n",
    "from cosyvoice.utils.file_utils import load_wav\n",
    "\n",
    "prompt_text = '希望你以后能够做得比我还好哟'\n",
    "prompt_speech_16k = load_wav('./asset/zero_shot_prompt.wav', 16000)\n",
    "\n",
    "# cosyvoice = AsyncCosyVoice2('./pretrained_models/CosyVoice2-0.5B', load_jit=False, load_trt=False, fp16=True)\n",
    "cosyvoice = AsyncCosyVoice2('./pretrained_models/CosyVoice2-0.5B', load_jit=True, load_trt=True, fp16=True)"
   ]
  },
  {
   "cell_type": "code",
   "execution_count": 15,
   "metadata": {},
   "outputs": [
    {
     "name": "stderr",
     "output_type": "stream",
     "text": [
      "  0%|          | 0/1 [00:00<?, ?it/s]"
     ]
    },
    {
     "name": "stderr",
     "output_type": "stream",
     "text": [
      "2025-02-26 17:04:30,684 INFO synthesis text 收到好友从远方寄来的生日礼物，那份意外的惊喜与深深的祝福让我心中充满了甜蜜的快乐，笑容如花儿般绽放。\n",
      "2025-02-26 17:04:31,816 INFO llm job done\n",
      "2025-02-26 17:04:32,000 INFO yield speech len 11.6, rtf 0.11350937958421378\n",
      "100%|██████████| 1/1 [00:01<00:00,  1.34s/it]\n"
     ]
    }
   ],
   "source": [
    "i = 0\n",
    "async for j in cosyvoice.inference_sft('收到好友从远方寄来的生日礼物，那份意外的惊喜与深深的祝福让我心中充满了甜蜜的快乐，笑容如花儿般绽放。', spk_id='xiaohe', stream=False):\n",
    "    torchaudio.save('sft_{}.wav'.format(i), j['tts_speech'], cosyvoice.sample_rate)\n",
    "    i += 1\n"
   ]
  },
  {
   "cell_type": "code",
   "execution_count": 16,
   "metadata": {},
   "outputs": [
    {
     "name": "stderr",
     "output_type": "stream",
     "text": [
      "  0%|          | 0/1 [00:00<?, ?it/s]"
     ]
    },
    {
     "name": "stderr",
     "output_type": "stream",
     "text": [
      "2025-02-26 17:04:33,447 INFO synthesis text 国际象棋是一种两人对弈的策略游戏，使用一个八x八的棋盘。每位玩家有十六个棋子，包括国王、皇后、车、象、马和兵。目标是将对方的国王置于无法逃脱的“将死”状态。\n",
      "2025-02-26 17:04:35,251 INFO llm job done\n",
      "2025-02-26 17:04:35,614 INFO yield speech len 18.48, rtf 0.11725152209723666\n",
      "100%|██████████| 1/1 [00:02<00:00,  2.26s/it]"
     ]
    },
    {
     "name": "stdout",
     "output_type": "stream",
     "text": [
      "任务完成，生成 1 个片段\n"
     ]
    },
    {
     "name": "stderr",
     "output_type": "stream",
     "text": [
      "\n"
     ]
    }
   ],
   "source": [
    "task_id = 0\n",
    "\n",
    "tts_text= '国际象棋是一种两人对弈的策略游戏，使用一个8x8的棋盘。每位玩家有16个棋子，包括国王、皇后、车、象、马和兵。目标是将对方的国王置于无法逃脱的“将死”状态。'\n",
    "\n",
    "chunk_num = 0\n",
    "audio_data: torch.Tensor = None\n",
    "async for chunk in cosyvoice.inference_zero_shot(tts_text, prompt_text, prompt_speech_16k, stream=False):\n",
    "    audio_data = torch.concat([audio_data, chunk['tts_speech']], dim=1) if audio_data is not None else chunk['tts_speech']\n",
    "    chunk_num += 1\n",
    "torchaudio.save('zero_shot_{}.wav'.format(task_id), audio_data, cosyvoice.sample_rate)\n",
    "print(f'任务完成，生成 {chunk_num} 个片段')\n"
   ]
  },
  {
   "cell_type": "code",
   "execution_count": 17,
   "metadata": {},
   "outputs": [
    {
     "name": "stderr",
     "output_type": "stream",
     "text": [
      "  0%|          | 0/1 [00:00<?, ?it/s]"
     ]
    },
    {
     "name": "stderr",
     "output_type": "stream",
     "text": [
      "2025-02-26 17:04:38,074 INFO synthesis text 国际象棋不仅是一种娱乐活动，还被视为一种智力运动，能够提高逻辑思维、策略规划和决策能力。\n",
      "2025-02-26 17:04:38,303 INFO yield speech len 0.44, rtf 0.520456379110163\n",
      "2025-02-26 17:04:38,432 INFO yield speech len 0.6, rtf 0.21332025527954102\n",
      "2025-02-26 17:04:38,559 INFO yield speech len 0.6, rtf 0.21065235137939453\n",
      "2025-02-26 17:04:38,697 INFO yield speech len 0.6, rtf 0.22950212160746258\n",
      "2025-02-26 17:04:38,840 INFO yield speech len 0.6, rtf 0.2372248967488607\n",
      "2025-02-26 17:04:38,995 INFO yield speech len 0.6, rtf 0.2562793095906576\n",
      "2025-02-26 17:04:39,146 INFO yield speech len 0.6, rtf 0.2508195241292318\n",
      "2025-02-26 17:04:39,300 INFO yield speech len 0.6, rtf 0.2548849582672119\n",
      "2025-02-26 17:04:39,467 INFO yield speech len 0.6, rtf 0.27798811594645184\n",
      "2025-02-26 17:04:39,636 INFO yield speech len 0.6, rtf 0.27955055236816406\n",
      "2025-02-26 17:04:39,642 INFO llm job done\n",
      "2025-02-26 17:04:39,880 INFO yield speech len 0.6, rtf 0.4057447115580241\n",
      "2025-02-26 17:04:40,030 INFO yield speech len 0.6, rtf 0.2471768856048584\n",
      "2025-02-26 17:04:40,141 INFO yield speech len 0.6, rtf 0.18378496170043945\n",
      "2025-02-26 17:04:40,292 INFO yield speech len 0.6, rtf 0.25049169858296716\n",
      "2025-02-26 17:04:40,423 INFO yield speech len 0.6, rtf 0.21572232246398926\n",
      "2025-02-26 17:04:40,574 INFO yield speech len 0.6, rtf 0.2500784397125244\n",
      "2025-02-26 17:04:40,770 INFO yield speech len 0.36, rtf 0.5414572026994493\n",
      "100%|██████████| 1/1 [00:02<00:00,  2.86s/it]\n"
     ]
    },
    {
     "name": "stdout",
     "output_type": "stream",
     "text": [
      "任务完成，生成 17 个片段\n"
     ]
    }
   ],
   "source": [
    "task_id = 0\n",
    "\n",
    "tts_text = '''如果你能提供更多关于音频流处理的具体细节，我可以给出更为精准的建议。总体来说，如果你处理的是音频流中的小块数据，且这些数据块是技术性分割的，使用“chunk”可能更合适；如果是逻辑上完整的音频片段，使用“segment”可能更合适。'''\n",
    "tts_text = '国际象棋是一种两人对弈的策略游戏，使用一个8x8的棋盘。每位玩家有16个棋子，包括国王、皇后、车、象、马和兵。目标是将对方的国王置于无法逃脱的“将死”状态。'\n",
    "tts_text = '国际象棋不仅是一种娱乐活动，还被视为一种智力运动，能够提高逻辑思维、策略规划和决策能力。'\n",
    "chunk_num = 0\n",
    "audio_data: torch.Tensor = None\n",
    "async for chunk in cosyvoice.inference_zero_shot(tts_text, prompt_text, prompt_speech_16k, stream=True):\n",
    "    audio_data = torch.concat([audio_data, chunk['tts_speech']], dim=1) if audio_data is not None else chunk['tts_speech']\n",
    "    chunk_num += 1\n",
    "torchaudio.save('zero_shot_{}.wav'.format(task_id), audio_data, cosyvoice.sample_rate)\n",
    "print(f'任务完成，生成 {chunk_num} 个片段')\n"
   ]
  },
  {
   "cell_type": "code",
   "execution_count": 18,
   "metadata": {},
   "outputs": [
    {
     "name": "stderr",
     "output_type": "stream",
     "text": [
      "  0%|          | 0/1 [00:00<?, ?it/s]2025-02-26 17:04:50,158 INFO synthesis text 收到好友从远方寄来的生日礼物，那份意外的惊喜与深深的祝福让我心中充满了甜蜜的快乐，笑容如花儿般绽放。\n",
      "2025-02-26 17:04:50,433 INFO yield speech len 0.44, rtf 0.6247867237437855\n",
      "2025-02-26 17:04:50,562 INFO yield speech len 0.6, rtf 0.2129518985748291\n",
      "2025-02-26 17:04:50,690 INFO yield speech len 0.6, rtf 0.21084189414978027\n",
      "2025-02-26 17:04:50,834 INFO yield speech len 0.6, rtf 0.2378360430399577\n",
      "2025-02-26 17:04:50,981 INFO yield speech len 0.6, rtf 0.2426588535308838\n",
      "2025-02-26 17:04:51,128 INFO yield speech len 0.6, rtf 0.2438183625539144\n",
      "2025-02-26 17:04:51,283 INFO yield speech len 0.6, rtf 0.2560381094614665\n",
      "2025-02-26 17:04:51,442 INFO yield speech len 0.6, rtf 0.2633249759674072\n",
      "2025-02-26 17:04:51,614 INFO yield speech len 0.6, rtf 0.2839926878611247\n",
      "2025-02-26 17:04:51,787 INFO yield speech len 0.6, rtf 0.28534531593322754\n",
      "2025-02-26 17:04:51,833 INFO llm job done\n",
      "2025-02-26 17:04:51,974 INFO yield speech len 0.6, rtf 0.31114856402079266\n",
      "2025-02-26 17:04:52,135 INFO yield speech len 0.6, rtf 0.26269515355428064\n",
      "2025-02-26 17:04:52,287 INFO yield speech len 0.6, rtf 0.2520012855529785\n",
      "2025-02-26 17:04:52,467 INFO yield speech len 0.6, rtf 0.29575467109680176\n",
      "2025-02-26 17:04:52,643 INFO yield speech len 0.6, rtf 0.2911798159281413\n",
      "2025-02-26 17:04:52,773 INFO yield speech len 0.6, rtf 0.21396756172180176\n",
      "2025-02-26 17:04:52,925 INFO yield speech len 0.6, rtf 0.25225162506103516\n",
      "2025-02-26 17:04:53,071 INFO yield speech len 0.6, rtf 0.2401113510131836\n",
      "2025-02-26 17:04:53,232 INFO yield speech len 0.44, rtf 0.3649581562389027\n",
      "100%|██████████| 1/1 [00:03<00:00,  3.19s/it]\n"
     ]
    }
   ],
   "source": [
    "i = 0\n",
    "async for j in cosyvoice.inference_zero_shot('收到好友从远方寄来的生日礼物，那份意外的惊喜与深深的祝福让我心中充满了甜蜜的快乐，笑容如花儿般绽放。', prompt_text, prompt_speech_16k, stream=True):\n",
    "    torchaudio.save('zero_shot_{}.wav'.format(i), j['tts_speech'], cosyvoice.sample_rate)\n",
    "    i += 1"
   ]
  },
  {
   "cell_type": "code",
   "execution_count": 19,
   "metadata": {},
   "outputs": [
    {
     "name": "stderr",
     "output_type": "stream",
     "text": [
      "2025-02-26 17:05:05,149 INFO get tts_text generator, will skip text_normalize!\n",
      "  0%|          | 0/1 [00:00<?, ?it/s]2025-02-26 17:05:05,155 INFO get tts_text generator, will return _extract_text_token_generator!\n",
      "2025-02-26 17:05:05,309 INFO synthesis text <generator object text_generator at 0x7b5fbd527a70>\n",
      "2025-02-26 17:05:05,311 INFO not enough text token to decode, wait for more\n",
      "2025-02-26 17:05:05,346 INFO get fill token, need to append more text token\n",
      "2025-02-26 17:05:05,348 INFO append 5 text token\n",
      "2025-02-26 17:05:05,521 INFO get fill token, need to append more text token\n",
      "2025-02-26 17:05:05,522 INFO append 5 text token\n",
      "2025-02-26 17:05:05,596 INFO no more text token, decode until met eos\n",
      "2025-02-26 17:05:06,562 INFO llm job done\n",
      "2025-02-26 17:05:06,775 INFO yield speech len 11.96, rtf 0.12251995877677381\n",
      "100%|██████████| 1/1 [00:01<00:00,  1.62s/it]\n"
     ]
    }
   ],
   "source": [
    "def text_generator():\n",
    "    yield '收到好友从远方寄来的生日礼物，'\n",
    "    yield '那份意外的惊喜与深深的祝福'\n",
    "    yield '让我心中充满了甜蜜的快乐，'\n",
    "    yield '笑容如花儿般绽放。'\n",
    "i = 0\n",
    "async for j in cosyvoice.inference_zero_shot(text_generator(), prompt_text, prompt_speech_16k, stream=False):\n",
    "    torchaudio.save('zero_shot_{}.wav'.format(i), j['tts_speech'], cosyvoice.sample_rate)\n",
    "    i += 1\n"
   ]
  },
  {
   "cell_type": "code",
   "execution_count": 20,
   "metadata": {},
   "outputs": [
    {
     "name": "stderr",
     "output_type": "stream",
     "text": [
      "2025-02-26 17:05:09,148 INFO get tts_text generator, will skip text_normalize!\n",
      "  0%|          | 0/1 [00:00<?, ?it/s]2025-02-26 17:05:09,153 INFO get tts_text generator, will return _extract_text_token_generator!\n"
     ]
    },
    {
     "name": "stderr",
     "output_type": "stream",
     "text": [
      "2025-02-26 17:05:09,246 INFO synthesis text <generator object text_generator at 0x7b5fbd5268f0>\n",
      "2025-02-26 17:05:09,248 INFO not enough text token to decode, wait for more\n",
      "2025-02-26 17:05:09,295 INFO get fill token, need to append more text token\n",
      "2025-02-26 17:05:09,296 INFO append 5 text token\n",
      "2025-02-26 17:05:09,432 INFO get fill token, need to append more text token\n",
      "2025-02-26 17:05:09,433 INFO append 5 text token\n",
      "2025-02-26 17:05:09,530 INFO yield speech len 0.44, rtf 0.6462828679518267\n",
      "2025-02-26 17:05:09,548 INFO no more text token, decode until met eos\n",
      "2025-02-26 17:05:09,698 INFO yield speech len 0.6, rtf 0.2774969736735026\n",
      "2025-02-26 17:05:09,831 INFO yield speech len 0.6, rtf 0.2193133036295573\n",
      "2025-02-26 17:05:09,965 INFO yield speech len 0.6, rtf 0.2232650915781657\n",
      "2025-02-26 17:05:10,115 INFO yield speech len 0.6, rtf 0.24681289990743002\n",
      "2025-02-26 17:05:10,269 INFO yield speech len 0.6, rtf 0.25408506393432617\n",
      "2025-02-26 17:05:10,424 INFO yield speech len 0.6, rtf 0.2571805318196615\n",
      "2025-02-26 17:05:10,580 INFO yield speech len 0.6, rtf 0.2570744355519613\n",
      "2025-02-26 17:05:10,748 INFO yield speech len 0.6, rtf 0.27945399284362793\n",
      "2025-02-26 17:05:10,918 INFO yield speech len 0.6, rtf 0.28102755546569824\n",
      "2025-02-26 17:05:11,093 INFO yield speech len 0.6, rtf 0.2895621458689372\n",
      "2025-02-26 17:05:11,287 INFO yield speech len 0.6, rtf 0.32114505767822266\n",
      "2025-02-26 17:05:11,397 INFO llm job done\n",
      "2025-02-26 17:05:11,466 INFO yield speech len 0.6, rtf 0.29627561569213867\n",
      "2025-02-26 17:05:11,613 INFO yield speech len 0.6, rtf 0.24403651555379233\n",
      "2025-02-26 17:05:11,787 INFO yield speech len 0.6, rtf 0.2866017818450928\n",
      "2025-02-26 17:05:11,958 INFO yield speech len 0.6, rtf 0.28371572494506836\n",
      "2025-02-26 17:05:12,125 INFO yield speech len 0.6, rtf 0.275338093439738\n",
      "2025-02-26 17:05:12,318 INFO yield speech len 0.6, rtf 0.3206153710683187\n",
      "2025-02-26 17:05:12,522 INFO yield speech len 0.6, rtf 0.3343025843302409\n",
      "2025-02-26 17:05:12,699 INFO yield speech len 0.6, rtf 0.29283126195271814\n",
      "2025-02-26 17:05:12,890 INFO yield speech len 0.6, rtf 0.317230224609375\n",
      "2025-02-26 17:05:13,109 INFO yield speech len 0.48, rtf 0.4526833693186442\n",
      "100%|██████████| 1/1 [00:03<00:00,  3.96s/it]\n"
     ]
    }
   ],
   "source": [
    "def text_generator():\n",
    "    yield '收到好友从远方寄来的生日礼物，'\n",
    "    yield '那份意外的惊喜与深深的祝福'\n",
    "    yield '让我心中充满了甜蜜的快乐，'\n",
    "    yield '笑容如花儿般绽放。'\n",
    "i = 0\n",
    "async for j in cosyvoice.inference_zero_shot(text_generator(), prompt_text, prompt_speech_16k, stream=True):\n",
    "    torchaudio.save('zero_shot_{}.wav'.format(i), j['tts_speech'], cosyvoice.sample_rate)\n",
    "    i += 1\n"
   ]
  },
  {
   "cell_type": "code",
   "execution_count": 21,
   "metadata": {},
   "outputs": [
    {
     "name": "stderr",
     "output_type": "stream",
     "text": [
      "  0%|          | 0/1 [00:00<?, ?it/s]2025-02-26 17:06:00,701 INFO synthesis text 收到好友从远方寄来的生日礼物[breath]，那份意外的惊喜与深深的祝福[breath]让我心中充满了甜蜜的快乐，笑容如花儿般绽放。\n",
      "2025-02-26 17:06:01,643 INFO llm job done\n",
      "2025-02-26 17:06:01,835 INFO yield speech len 10.64, rtf 0.10664700565481544\n",
      "100%|██████████| 1/1 [00:01<00:00,  1.29s/it]\n"
     ]
    }
   ],
   "source": [
    "# instruct usage\n",
    "i = 0\n",
    "async for j in cosyvoice.inference_instruct2('收到好友从远方寄来的生日礼物[breath]，那份意外的惊喜与深深的祝福[breath]让我心中充满了甜蜜的快乐，笑容如花儿般绽放。', '用四川话说这句话', prompt_speech_16k, stream=False):\n",
    "    torchaudio.save('instruct2_{}.wav'.format(i), j['tts_speech'], cosyvoice.sample_rate)\n",
    "    i += 1"
   ]
  },
  {
   "cell_type": "code",
   "execution_count": 23,
   "metadata": {},
   "outputs": [
    {
     "name": "stderr",
     "output_type": "stream",
     "text": [
      "  0%|          | 0/1 [00:00<?, ?it/s]2025-02-26 17:06:45,092 INFO synthesis text 收到好友从远方寄来的生日礼物，那份意外的惊喜与深深的祝福让我心中充满了甜蜜的快乐，笑容如花儿般绽放。\n",
      "2025-02-26 17:06:45,322 INFO yield speech len 0.44, rtf 0.5227289416573264\n",
      "2025-02-26 17:06:45,451 INFO yield speech len 0.6, rtf 0.21347681681315106\n",
      "2025-02-26 17:06:45,620 INFO yield speech len 0.6, rtf 0.2787594000498454\n",
      "2025-02-26 17:06:45,803 INFO yield speech len 0.6, rtf 0.30400633811950684\n",
      "2025-02-26 17:06:45,945 INFO yield speech len 0.6, rtf 0.2341278394063314\n",
      "2025-02-26 17:06:46,096 INFO yield speech len 0.6, rtf 0.24927059809366864\n",
      "2025-02-26 17:06:46,249 INFO yield speech len 0.6, rtf 0.2541351318359375\n",
      "2025-02-26 17:06:46,406 INFO yield speech len 0.6, rtf 0.25879859924316406\n",
      "2025-02-26 17:06:46,574 INFO yield speech len 0.6, rtf 0.2791412671407064\n",
      "2025-02-26 17:06:46,744 INFO yield speech len 0.6, rtf 0.28054912885030114\n",
      "2025-02-26 17:06:46,918 INFO yield speech len 0.6, rtf 0.2895998954772949\n",
      "2025-02-26 17:06:46,962 INFO llm job done\n",
      "2025-02-26 17:06:47,124 INFO yield speech len 0.6, rtf 0.3419188658396403\n",
      "2025-02-26 17:06:47,289 INFO yield speech len 0.6, rtf 0.27089953422546387\n",
      "2025-02-26 17:06:47,446 INFO yield speech len 0.6, rtf 0.2599589029947917\n",
      "2025-02-26 17:06:47,590 INFO yield speech len 0.6, rtf 0.23868083953857422\n",
      "2025-02-26 17:06:47,767 INFO yield speech len 0.6, rtf 0.29074668884277344\n",
      "2025-02-26 17:06:47,920 INFO yield speech len 0.6, rtf 0.2542336781819662\n",
      "2025-02-26 17:06:48,107 INFO yield speech len 0.6, rtf 0.3082199891408285\n",
      "2025-02-26 17:06:48,287 INFO yield speech len 0.44, rtf 0.4066548564217307\n",
      "100%|██████████| 1/1 [00:03<00:00,  3.35s/it]\n"
     ]
    }
   ],
   "source": [
    "# instruct usage\n",
    "i = 0\n",
    "async for j in cosyvoice.inference_instruct2('收到好友从远方寄来的生日礼物，那份意外的惊喜与深深的祝福让我心中充满了甜蜜的快乐，笑容如花儿般绽放。', '用四川话说这句话', prompt_speech_16k, stream=True):\n",
    "    torchaudio.save('instruct2_{}.wav'.format(i), j['tts_speech'], cosyvoice.sample_rate)\n",
    "    i += 1"
   ]
  },
  {
   "cell_type": "code",
   "execution_count": 24,
   "metadata": {},
   "outputs": [
    {
     "name": "stderr",
     "output_type": "stream",
     "text": [
      "  0%|          | 0/1 [00:00<?, ?it/s]2025-02-26 17:07:10,462 INFO synthesis text 收到好友从远方寄来的生日礼物，那份意外的惊喜与深深的祝福让我心中充满了甜蜜的快乐，笑容如花儿般绽放。\n",
      "2025-02-26 17:07:11,721 INFO llm job done\n",
      "2025-02-26 17:07:11,897 INFO yield speech len 9.8, rtf 0.14634431624899105\n",
      "100%|██████████| 1/1 [00:01<00:00,  1.45s/it]\n"
     ]
    }
   ],
   "source": [
    "i = 0\n",
    "async for j in cosyvoice.inference_zero_shot_by_spk_id('收到好友从远方寄来的生日礼物，那份意外的惊喜与深深的祝福让我心中充满了甜蜜的快乐，笑容如花儿般绽放。', spk_id='xiaohe', stream=False):\n",
    "    torchaudio.save('instruct_tts_{}.wav'.format(i), j['tts_speech'], cosyvoice.sample_rate)\n",
    "    i += 1\n"
   ]
  },
  {
   "cell_type": "code",
   "execution_count": 25,
   "metadata": {},
   "outputs": [
    {
     "name": "stderr",
     "output_type": "stream",
     "text": [
      "  0%|          | 0/1 [00:00<?, ?it/s]2025-02-26 17:07:33,201 INFO synthesis text 收到好友从远方寄来的生日礼物，那份意外的惊喜与深深的祝福让我心中充满了甜蜜的快乐，笑容如花儿般绽放。\n",
      "2025-02-26 17:07:33,434 INFO yield speech len 0.44, rtf 0.5313304337588224\n",
      "2025-02-26 17:07:33,576 INFO yield speech len 0.6, rtf 0.23354053497314453\n",
      "2025-02-26 17:07:33,723 INFO yield speech len 0.6, rtf 0.24321635564168295\n",
      "2025-02-26 17:07:33,869 INFO yield speech len 0.6, rtf 0.24231036504109701\n",
      "2025-02-26 17:07:34,019 INFO yield speech len 0.6, rtf 0.24783531824747723\n",
      "2025-02-26 17:07:34,172 INFO yield speech len 0.6, rtf 0.2529684702555339\n",
      "2025-02-26 17:07:34,329 INFO yield speech len 0.6, rtf 0.2608327070871989\n",
      "2025-02-26 17:07:34,497 INFO yield speech len 0.6, rtf 0.27759591738382977\n",
      "2025-02-26 17:07:34,669 INFO yield speech len 0.6, rtf 0.2857200304667155\n",
      "2025-02-26 17:07:34,848 INFO yield speech len 0.6, rtf 0.29676993687947595\n",
      "2025-02-26 17:07:34,935 INFO llm job done\n",
      "2025-02-26 17:07:35,018 INFO yield speech len 0.6, rtf 0.2811717987060547\n",
      "2025-02-26 17:07:35,139 INFO yield speech len 0.6, rtf 0.1997824509938558\n",
      "2025-02-26 17:07:35,308 INFO yield speech len 0.6, rtf 0.28032104174296063\n",
      "2025-02-26 17:07:35,484 INFO yield speech len 0.6, rtf 0.29019435246785485\n",
      "2025-02-26 17:07:35,647 INFO yield speech len 0.6, rtf 0.2710402011871338\n",
      "2025-02-26 17:07:35,832 INFO yield speech len 0.6, rtf 0.30594706535339355\n",
      "2025-02-26 17:07:36,018 INFO yield speech len 0.6, rtf 0.30721108118693036\n",
      "2025-02-26 17:07:36,164 INFO yield speech len 0.6, rtf 0.2414206663767497\n",
      "2025-02-26 17:07:36,336 INFO yield speech len 0.6, rtf 0.2855495611826579\n",
      "2025-02-26 17:07:36,560 INFO yield speech len 0.04, rtf 5.563479661941528\n",
      "100%|██████████| 1/1 [00:03<00:00,  3.37s/it]\n"
     ]
    }
   ],
   "source": [
    "i = 0\n",
    "async for j in cosyvoice.inference_zero_shot_by_spk_id('收到好友从远方寄来的生日礼物，那份意外的惊喜与深深的祝福让我心中充满了甜蜜的快乐，笑容如花儿般绽放。', spk_id='xiaohe', stream=True):\n",
    "    torchaudio.save('instruct_tts_{}.wav'.format(i), j['tts_speech'], cosyvoice.sample_rate)\n",
    "    i += 1\n"
   ]
  },
  {
   "cell_type": "code",
   "execution_count": 26,
   "metadata": {},
   "outputs": [
    {
     "name": "stderr",
     "output_type": "stream",
     "text": [
      "  0%|          | 0/1 [00:00<?, ?it/s]2025-02-26 17:08:34,764 INFO synthesis text 收到好友从远方寄来的生日礼物，那份意外的惊喜与深深的祝福让我心中充满了甜蜜的快乐，笑容如花儿般绽放。\n",
      "2025-02-26 17:08:35,821 INFO llm job done\n",
      "2025-02-26 17:08:36,015 INFO yield speech len 11.12, rtf 0.11250694021046591\n",
      "100%|██████████| 1/1 [00:01<00:00,  1.27s/it]\n"
     ]
    }
   ],
   "source": [
    "i = 0\n",
    "async for j in cosyvoice.inference_instruct2_by_spk_id('收到好友从远方寄来的生日礼物，那份意外的惊喜与深深的祝福让我心中充满了甜蜜的快乐，笑容如花儿般绽放。', '使用台湾话说', spk_id='xiaohe', stream=False):\n",
    "    torchaudio.save('instruct_sft_{}.wav'.format(i), j['tts_speech'], cosyvoice.sample_rate)\n",
    "    i += 1\n"
   ]
  },
  {
   "cell_type": "code",
   "execution_count": 27,
   "metadata": {},
   "outputs": [
    {
     "name": "stderr",
     "output_type": "stream",
     "text": [
      "  0%|          | 0/1 [00:00<?, ?it/s]2025-02-26 17:08:38,010 INFO synthesis text 收到好友从远方寄来的生日礼物，那份意外的惊喜与深深的祝福让我心中充满了甜蜜的快乐，笑容如花儿般绽放。\n",
      "2025-02-26 17:08:38,296 INFO yield speech len 0.44, rtf 0.6502178582278165\n",
      "2025-02-26 17:08:38,424 INFO yield speech len 0.6, rtf 0.21149277687072754\n",
      "2025-02-26 17:08:38,557 INFO yield speech len 0.6, rtf 0.22017240524291992\n",
      "2025-02-26 17:08:38,757 INFO yield speech len 0.6, rtf 0.3317844867706299\n",
      "2025-02-26 17:08:38,903 INFO yield speech len 0.6, rtf 0.24203856786092123\n",
      "2025-02-26 17:08:39,060 INFO yield speech len 0.6, rtf 0.25875767072041833\n",
      "2025-02-26 17:08:39,222 INFO yield speech len 0.6, rtf 0.2682145436604818\n",
      "2025-02-26 17:08:39,390 INFO yield speech len 0.6, rtf 0.2777973810831706\n",
      "2025-02-26 17:08:39,571 INFO yield speech len 0.6, rtf 0.3009188175201416\n",
      "2025-02-26 17:08:39,749 INFO yield speech len 0.6, rtf 0.2949170271555583\n",
      "2025-02-26 17:08:39,807 INFO llm job done\n",
      "2025-02-26 17:08:39,919 INFO yield speech len 0.6, rtf 0.28105696042378747\n",
      "2025-02-26 17:08:40,034 INFO yield speech len 0.6, rtf 0.18976132074991864\n",
      "2025-02-26 17:08:40,187 INFO yield speech len 0.6, rtf 0.25279879570007324\n",
      "2025-02-26 17:08:40,363 INFO yield speech len 0.6, rtf 0.29025832811991376\n",
      "2025-02-26 17:08:40,492 INFO yield speech len 0.6, rtf 0.2140045166015625\n",
      "2025-02-26 17:08:40,644 INFO yield speech len 0.6, rtf 0.25135040283203125\n",
      "2025-02-26 17:08:40,835 INFO yield speech len 0.6, rtf 0.31532367070515954\n",
      "2025-02-26 17:08:41,016 INFO yield speech len 0.6, rtf 0.29997825622558594\n",
      "2025-02-26 17:08:41,172 INFO yield speech len 0.6, rtf 0.2592567602793376\n",
      "2025-02-26 17:08:41,475 INFO yield speech len 0.12, rtf 2.5105794270833335\n",
      "100%|██████████| 1/1 [00:03<00:00,  3.47s/it]\n"
     ]
    }
   ],
   "source": [
    "i = 0\n",
    "async for j in cosyvoice.inference_instruct2_by_spk_id('收到好友从远方寄来的生日礼物，那份意外的惊喜与深深的祝福让我心中充满了甜蜜的快乐，笑容如花儿般绽放。', '使用台湾话说', spk_id='xiaohe', stream=True):\n",
    "    torchaudio.save('instruct_sft_{}.wav'.format(i), j['tts_speech'], cosyvoice.sample_rate)\n",
    "    i += 1\n"
   ]
  },
  {
   "cell_type": "code",
   "execution_count": 8,
   "metadata": {},
   "outputs": [],
   "source": [
    "import asyncio\n",
    "import torchaudio\n",
    "from typing import AsyncGenerator\n",
    "\n",
    "async def test_concurrent_instruct(num_tasks: int = 3, semaphore_limit: int = 5, stream=False):\n",
    "    \"\"\"\n",
    "    异步并发测试函数，用于验证多个推理任务并行执行能力\n",
    "    \n",
    "    参数：\n",
    "    num_tasks: 并发任务数量，默认3个\n",
    "    \n",
    "    功能特点：\n",
    "    1. 动态创建多个异步生成器任务\n",
    "    2. 使用信号量控制并发度（默认限制5个）\n",
    "    3. 实时跟踪任务完成进度\n",
    "    4. 自动处理异常并记录错误\n",
    "    \"\"\"\n",
    "    semaphore = asyncio.Semaphore(semaphore_limit)  # 并发控制\n",
    "    \n",
    "    async def single_task(task_id: int):\n",
    "        \"\"\"单个推理任务处理流程\"\"\"\n",
    "        async with semaphore:\n",
    "            try:\n",
    "                # text_gen = (chunk for chunk in [\n",
    "                #     f'这是任务{task_id}的第一句话，',\n",
    "                #     f'测试并发处理能力，',\n",
    "                #     f'当前进度：{task_id}-第三部分'\n",
    "                # ])\n",
    "                text_gen = f'''这是任务{task_id}，国际象棋是一种两人对弈的策略游戏，使用一个8x8的棋盘。\n",
    "                每位玩家有16个棋子，包括国王、皇后、车、象、马和兵。目标是将对方的国王置于无法逃脱的“将死”状态。'''\n",
    "                # 记录保存索引\n",
    "                save_index = 0\n",
    "                \n",
    "                # 流式处理\n",
    "                audio_data: torch.Tensor = None\n",
    "                async for chunk in cosyvoice.inference_zero_shot(\n",
    "                    text_gen,\n",
    "                    prompt_text,\n",
    "                    prompt_speech_16k,\n",
    "                    stream=stream,\n",
    "                ):\n",
    "                    audio_data = torch.concat([audio_data, chunk['tts_speech']], dim=1) if audio_data is not None else chunk['tts_speech']\n",
    "                    save_index += 1\n",
    "                    print(f'任务 {task_id} 进度：{save_index}')\n",
    "                # 保存音频片段\n",
    "                torchaudio.save('tts_speech_{}.wav'.format(task_id), audio_data, cosyvoice.sample_rate)\n",
    "                    \n",
    "                print(f'任务 {task_id} 完成，生成 {save_index} 个片段')\n",
    "                \n",
    "            except Exception as e:\n",
    "                print(f'任务 {task_id} 异常: {str(e)}')\n",
    "    \n",
    "    # 创建并发任务\n",
    "    tasks = [single_task(i) for i in range(num_tasks)]\n",
    "    \n",
    "    # 执行并等待\n",
    "    await asyncio.gather(*tasks)\n"
   ]
  },
  {
   "cell_type": "code",
   "execution_count": 9,
   "metadata": {},
   "outputs": [
    {
     "name": "stderr",
     "output_type": "stream",
     "text": [
      "  0%|          | 0/2 [00:00<?, ?it/s]2025-02-26 16:47:03,556 INFO synthesis text 这是任务零，国际象棋是一种两人对弈的策略游戏，使用一个八x八的棋盘。每位玩家有十六个棋子，包括国王、皇后、车、象、马和兵。\n",
      "2025-02-26 16:47:03,628 INFO synthesis text 这是任务一，国际象棋是一种两人对弈的策略游戏，使用一个八x八的棋盘。每位玩家有十六个棋子，包括国王、皇后、车、象、马和兵。\n",
      "\n",
      "\u001b[A2025-02-26 16:47:03,688 INFO synthesis text 这是任务二，国际象棋是一种两人对弈的策略游戏，使用一个八x八的棋盘。每位玩家有十六个棋子，包括国王、皇后、车、象、马和兵。\n",
      "\n",
      "\n",
      "\u001b[A\u001b[A2025-02-26 16:47:03,747 INFO synthesis text 这是任务三，国际象棋是一种两人对弈的策略游戏，使用一个八x八的棋盘。每位玩家有十六个棋子，包括国王、皇后、车、象、马和兵。\n",
      "\n",
      "\n",
      "\n",
      "\u001b[A\u001b[A\u001b[A2025-02-26 16:47:03,855 INFO synthesis text 这是任务四，国际象棋是一种两人对弈的策略游戏，使用一个八x八的棋盘。每位玩家有十六个棋子，包括国王、皇后、车、象、马和兵。\n",
      "2025-02-26 16:47:05,532 INFO llm job done\n",
      "2025-02-26 16:47:05,535 INFO llm job done\n",
      "2025-02-26 16:47:05,760 INFO llm job done\n",
      "2025-02-26 16:47:05,798 INFO llm job done\n",
      "2025-02-26 16:47:06,202 INFO llm job done\n",
      "2025-02-26 16:47:06,438 INFO yield speech len 15.52, rtf 0.18569886991658163\n",
      " 50%|█████     | 1/2 [00:03<00:03,  3.01s/it]2025-02-26 16:47:06,611 INFO synthesis text 目标是将对方的国王置于无法逃脱的“将死”状态。\n",
      "2025-02-26 16:47:06,615 INFO yield speech len 15.52, rtf 0.19242849546609467\n"
     ]
    },
    {
     "name": "stdout",
     "output_type": "stream",
     "text": [
      "任务 0 进度：1\n",
      "任务 1 进度：1\n"
     ]
    },
    {
     "name": "stderr",
     "output_type": "stream",
     "text": [
      "2025-02-26 16:47:06,776 INFO synthesis text 目标是将对方的国王置于无法逃脱的“将死”状态。\n",
      "2025-02-26 16:47:06,968 INFO yield speech len 16.16, rtf 0.20302570987455915\n",
      "\n",
      "\u001b[A2025-02-26 16:47:07,146 INFO synthesis text 目标是将对方的国王置于无法逃脱的“将死”状态。\n",
      "2025-02-26 16:47:07,149 INFO yield speech len 16.08, rtf 0.21155137031232543\n",
      "\n",
      "\n",
      "\u001b[A\u001b[A"
     ]
    },
    {
     "name": "stdout",
     "output_type": "stream",
     "text": [
      "任务 2 进度：1\n",
      "任务 3 进度：1\n"
     ]
    },
    {
     "name": "stderr",
     "output_type": "stream",
     "text": [
      "2025-02-26 16:47:07,223 INFO synthesis text 目标是将对方的国王置于无法逃脱的“将死”状态。\n",
      "2025-02-26 16:47:07,228 INFO yield speech len 17.08, rtf 0.19751154845994867\n",
      "\n",
      "\n",
      "\n",
      "\u001b[A\u001b[A\u001b[A"
     ]
    },
    {
     "name": "stdout",
     "output_type": "stream",
     "text": [
      "任务 4 进度：1\n"
     ]
    },
    {
     "name": "stderr",
     "output_type": "stream",
     "text": [
      "2025-02-26 16:47:07,445 INFO synthesis text 目标是将对方的国王置于无法逃脱的“将死”状态。\n",
      "2025-02-26 16:47:07,614 INFO llm job done\n",
      "2025-02-26 16:47:07,697 INFO llm job done\n",
      "2025-02-26 16:47:07,885 INFO yield speech len 5.92, rtf 0.21518323872540449\n",
      "100%|██████████| 2/2 [00:04<00:00,  2.23s/it]\n"
     ]
    },
    {
     "name": "stdout",
     "output_type": "stream",
     "text": [
      "任务 0 进度：2\n",
      "任务 0 完成，生成 2 个片段\n"
     ]
    },
    {
     "name": "stderr",
     "output_type": "stream",
     "text": [
      "  0%|          | 0/2 [00:00<?, ?it/s]2025-02-26 16:47:08,109 INFO synthesis text 这是任务五，国际象棋是一种两人对弈的策略游戏，使用一个八x八的棋盘。每位玩家有十六个棋子，包括国王、皇后、车、象、马和兵。\n",
      "2025-02-26 16:47:08,113 INFO yield speech len 5.8, rtf 0.23045642622585955\n",
      "100%|██████████| 2/2 [00:04<00:00,  2.27s/it]\n"
     ]
    },
    {
     "name": "stdout",
     "output_type": "stream",
     "text": [
      "任务 1 进度：2\n",
      "任务 1 完成，生成 2 个片段\n"
     ]
    },
    {
     "name": "stderr",
     "output_type": "stream",
     "text": [
      "2025-02-26 16:47:08,196 INFO synthesis text 这是任务六，国际象棋是一种两人对弈的策略游戏，使用一个八x八的棋盘。每位玩家有十六个棋子，包括国王、皇后、车、象、马和兵。\n",
      "2025-02-26 16:47:08,196 INFO llm job done\n",
      "2025-02-26 16:47:08,197 INFO llm job done\n",
      "2025-02-26 16:47:08,423 INFO yield speech len 5.64, rtf 0.22635857264200848\n",
      "\n",
      "100%|██████████| 2/2 [00:04<00:00,  2.39s/it]\n"
     ]
    },
    {
     "name": "stdout",
     "output_type": "stream",
     "text": [
      "任务 2 进度：2\n",
      "任务 2 完成，生成 2 个片段\n"
     ]
    },
    {
     "name": "stderr",
     "output_type": "stream",
     "text": [
      "\n",
      "\u001b[A2025-02-26 16:47:08,498 INFO synthesis text 这是任务七，国际象棋是一种两人对弈的策略游戏，使用一个八x八的棋盘。每位玩家有十六个棋子，包括国王、皇后、车、象、马和兵。\n",
      "2025-02-26 16:47:08,500 INFO yield speech len 5.52, rtf 0.23130031599514728\n",
      "\n",
      "\n",
      "100%|██████████| 2/2 [00:04<00:00,  2.40s/it]\n"
     ]
    },
    {
     "name": "stdout",
     "output_type": "stream",
     "text": [
      "任务 3 进度：2\n",
      "任务 3 完成，生成 2 个片段\n"
     ]
    },
    {
     "name": "stderr",
     "output_type": "stream",
     "text": [
      "\n",
      "\n",
      "\u001b[A\u001b[A2025-02-26 16:47:08,581 INFO synthesis text 这是任务八，国际象棋是一种两人对弈的策略游戏，使用一个八x八的棋盘。每位玩家有十六个棋子，包括国王、皇后、车、象、马和兵。\n",
      "2025-02-26 16:47:08,582 INFO llm job done\n",
      "2025-02-26 16:47:08,732 INFO yield speech len 5.6, rtf 0.2297764165060861\n",
      "\n",
      "\n",
      "\n",
      "100%|██████████| 2/2 [00:04<00:00,  2.49s/it]\n"
     ]
    },
    {
     "name": "stdout",
     "output_type": "stream",
     "text": [
      "任务 4 进度：2\n",
      "任务 4 完成，生成 2 个片段\n"
     ]
    },
    {
     "name": "stderr",
     "output_type": "stream",
     "text": [
      "\n",
      "\n",
      "\n",
      "\u001b[A\u001b[A\u001b[A2025-02-26 16:47:08,808 INFO synthesis text 这是任务九，国际象棋是一种两人对弈的策略游戏，使用一个八x八的棋盘。每位玩家有十六个棋子，包括国王、皇后、车、象、马和兵。\n",
      "2025-02-26 16:47:10,040 INFO llm job done\n",
      "2025-02-26 16:47:10,044 INFO llm job done\n",
      "2025-02-26 16:47:10,341 INFO llm job done\n",
      "2025-02-26 16:47:10,485 INFO llm job done\n",
      "2025-02-26 16:47:10,769 INFO llm job done\n",
      "2025-02-26 16:47:10,831 INFO yield speech len 16.44, rtf 0.16032197759679342\n",
      "2025-02-26 16:47:10,955 INFO synthesis text 目标是将对方的国王置于无法逃脱的“将死”状态。\n",
      "2025-02-26 16:47:10,959 INFO yield speech len 17.44, rtf 0.1633924628616473\n",
      " 50%|█████     | 1/2 [00:02<00:02,  3.00s/it]"
     ]
    },
    {
     "name": "stdout",
     "output_type": "stream",
     "text": [
      "任务 6 进度：1\n",
      "任务 5 进度：1\n"
     ]
    },
    {
     "name": "stderr",
     "output_type": "stream",
     "text": [
      "2025-02-26 16:47:11,098 INFO synthesis text 目标是将对方的国王置于无法逃脱的“将死”状态。\n",
      "2025-02-26 16:47:11,390 INFO yield speech len 13.8, rtf 0.18711739692135132\n",
      "\n",
      "\n",
      "\n",
      "\u001b[A\u001b[A\u001b[A2025-02-26 16:47:11,487 INFO synthesis text 目标是将对方的国王置于无法逃脱的“将死”状态。\n"
     ]
    },
    {
     "name": "stdout",
     "output_type": "stream",
     "text": [
      "任务 9 进度：1\n"
     ]
    },
    {
     "name": "stderr",
     "output_type": "stream",
     "text": [
      "2025-02-26 16:47:11,622 INFO yield speech len 16.44, rtf 0.190029237102128\n",
      "\n",
      "\u001b[A2025-02-26 16:47:11,701 INFO synthesis text 目标是将对方的国王置于无法逃脱的“将死”状态。\n",
      "2025-02-26 16:47:11,706 INFO yield speech len 16.28, rtf 0.19192490589413652\n",
      "\n",
      "\n",
      "\u001b[A\u001b[A2025-02-26 16:47:11,764 INFO synthesis text 目标是将对方的国王置于无法逃脱的“将死”状态。\n"
     ]
    },
    {
     "name": "stdout",
     "output_type": "stream",
     "text": [
      "任务 7 进度：1\n",
      "任务 8 进度：1\n"
     ]
    },
    {
     "name": "stderr",
     "output_type": "stream",
     "text": [
      "2025-02-26 16:47:12,021 INFO llm job done\n",
      "2025-02-26 16:47:12,171 INFO yield speech len 5.48, rtf 0.22179236377242706\n",
      "100%|██████████| 2/2 [00:04<00:00,  2.02s/it]\n",
      "2025-02-26 16:47:12,189 INFO llm job done\n",
      "2025-02-26 16:47:12,341 INFO yield speech len 5.96, rtf 0.20855485192881335\n",
      "100%|██████████| 2/2 [00:04<00:00,  2.19s/it]\n",
      "2025-02-26 16:47:12,359 INFO llm job done\n"
     ]
    },
    {
     "name": "stdout",
     "output_type": "stream",
     "text": [
      "任务 6 进度：2\n",
      "任务 6 完成，生成 2 个片段\n",
      "任务 5 进度：2\n",
      "任务 5 完成，生成 2 个片段\n"
     ]
    },
    {
     "name": "stderr",
     "output_type": "stream",
     "text": [
      "2025-02-26 16:47:12,510 INFO yield speech len 5.92, rtf 0.17267280333750956\n",
      "\n",
      "\n",
      "\n",
      "100%|██████████| 2/2 [00:03<00:00,  1.88s/it]\n",
      "2025-02-26 16:47:12,536 INFO llm job done\n",
      "2025-02-26 16:47:12,690 INFO yield speech len 6.28, rtf 0.1574483646708689\n",
      "\n",
      "100%|██████████| 2/2 [00:04<00:00,  2.12s/it]\n",
      "2025-02-26 16:47:12,698 INFO llm job done\n"
     ]
    },
    {
     "name": "stdout",
     "output_type": "stream",
     "text": [
      "任务 9 进度：2\n",
      "任务 9 完成，生成 2 个片段\n",
      "任务 7 进度：2\n",
      "任务 7 完成，生成 2 个片段\n"
     ]
    },
    {
     "name": "stderr",
     "output_type": "stream",
     "text": [
      "2025-02-26 16:47:12,876 INFO yield speech len 6.32, rtf 0.17597411252275297\n",
      "\n",
      "\n",
      "100%|██████████| 2/2 [00:04<00:00,  2.18s/it]\n"
     ]
    },
    {
     "name": "stdout",
     "output_type": "stream",
     "text": [
      "任务 8 进度：2\n",
      "任务 8 完成，生成 2 个片段\n",
      "--- 9.508625507354736 seconds ---\n"
     ]
    }
   ],
   "source": [
    "import time\n",
    "start_time = time.time()\n",
    "await test_concurrent_instruct(10, semaphore_limit=5)\n",
    "print(\"--- %s seconds ---\" % (time.time() - start_time))"
   ]
  },
  {
   "cell_type": "code",
   "execution_count": 11,
   "metadata": {},
   "outputs": [
    {
     "name": "stderr",
     "output_type": "stream",
     "text": [
      "  0%|          | 0/2 [00:00<?, ?it/s]2025-02-26 16:47:54,321 INFO synthesis text 这是任务零，国际象棋是一种两人对弈的策略游戏，使用一个八x八的棋盘。每位玩家有十六个棋子，包括国王、皇后、车、象、马和兵。\n",
      "2025-02-26 16:47:54,396 INFO synthesis text 这是任务一，国际象棋是一种两人对弈的策略游戏，使用一个八x八的棋盘。每位玩家有十六个棋子，包括国王、皇后、车、象、马和兵。\n",
      "\n",
      "\u001b[A2025-02-26 16:47:54,455 INFO synthesis text 这是任务二，国际象棋是一种两人对弈的策略游戏，使用一个八x八的棋盘。每位玩家有十六个棋子，包括国王、皇后、车、象、马和兵。\n",
      "\n",
      "\n",
      "\u001b[A\u001b[A2025-02-26 16:47:54,513 INFO synthesis text 这是任务三，国际象棋是一种两人对弈的策略游戏，使用一个八x八的棋盘。每位玩家有十六个棋子，包括国王、皇后、车、象、马和兵。\n",
      "\n",
      "\n",
      "\n",
      "\u001b[A\u001b[A\u001b[A2025-02-26 16:47:54,571 INFO synthesis text 这是任务四，国际象棋是一种两人对弈的策略游戏，使用一个八x八的棋盘。每位玩家有十六个棋子，包括国王、皇后、车、象、马和兵。\n",
      "\n",
      "\n",
      "\n",
      "\n",
      "\u001b[A\u001b[A\u001b[A\u001b[A2025-02-26 16:47:54,629 INFO synthesis text 这是任务五，国际象棋是一种两人对弈的策略游戏，使用一个八x八的棋盘。每位玩家有十六个棋子，包括国王、皇后、车、象、马和兵。\n",
      "\n",
      "\n",
      "\n",
      "\n",
      "\n",
      "\u001b[A\u001b[A\u001b[A\u001b[A\u001b[A2025-02-26 16:47:54,687 INFO synthesis text 这是任务六，国际象棋是一种两人对弈的策略游戏，使用一个八x八的棋盘。每位玩家有十六个棋子，包括国王、皇后、车、象、马和兵。\n",
      "\n",
      "\n",
      "\n",
      "\n",
      "\n",
      "\n",
      "\u001b[A\u001b[A\u001b[A\u001b[A\u001b[A\u001b[A2025-02-26 16:47:54,750 INFO synthesis text 这是任务七，国际象棋是一种两人对弈的策略游戏，使用一个八x八的棋盘。每位玩家有十六个棋子，包括国王、皇后、车、象、马和兵。\n",
      "\n",
      "\n",
      "\n",
      "\n",
      "\n",
      "\n",
      "\n",
      "\u001b[A\u001b[A\u001b[A\u001b[A\u001b[A\u001b[A\u001b[A2025-02-26 16:47:54,872 INFO synthesis text 这是任务八，国际象棋是一种两人对弈的策略游戏，使用一个八x八的棋盘。每位玩家有十六个棋子，包括国王、皇后、车、象、马和兵。\n",
      "\n",
      "\n",
      "\n",
      "\n",
      "\n",
      "\n",
      "\n",
      "\n",
      "\u001b[A\u001b[A\u001b[A\u001b[A\u001b[A\u001b[A\u001b[A\u001b[A2025-02-26 16:47:55,051 INFO synthesis text 这是任务九，国际象棋是一种两人对弈的策略游戏，使用一个八x八的棋盘。每位玩家有十六个棋子，包括国王、皇后、车、象、马和兵。\n",
      "2025-02-26 16:47:56,192 INFO llm job done\n",
      "2025-02-26 16:47:56,451 INFO yield speech len 12.68, rtf 0.15282012310689932\n",
      "\n",
      "\n",
      "\u001b[A\u001b[A2025-02-26 16:47:56,506 INFO synthesis text 目标是将对方的国王置于无法逃脱的“将死”状态。\n",
      "2025-02-26 16:47:56,589 INFO llm job done\n",
      "2025-02-26 16:47:56,590 INFO llm job done\n",
      "2025-02-26 16:47:56,593 INFO llm job done\n"
     ]
    },
    {
     "name": "stdout",
     "output_type": "stream",
     "text": [
      "任务 3 进度：1\n"
     ]
    },
    {
     "name": "stderr",
     "output_type": "stream",
     "text": [
      "2025-02-26 16:47:56,986 INFO llm job done\n",
      "2025-02-26 16:47:57,423 INFO llm job done\n",
      "2025-02-26 16:47:57,479 INFO llm job done\n",
      "2025-02-26 16:47:57,574 INFO llm job done\n",
      "2025-02-26 16:47:57,714 INFO yield speech len 14.84, rtf 0.20396961677427883\n",
      "\n",
      "\n",
      "\n",
      "\n",
      "\n",
      "\u001b[A\u001b[A\u001b[A\u001b[A\u001b[A2025-02-26 16:47:57,825 INFO synthesis text 目标是将对方的国王置于无法逃脱的“将死”状态。\n",
      "2025-02-26 16:47:57,830 INFO yield speech len 14.88, rtf 0.21510901310110603\n",
      "\n",
      "\n",
      "\n",
      "\n",
      "\u001b[A\u001b[A\u001b[A\u001b[A"
     ]
    },
    {
     "name": "stdout",
     "output_type": "stream",
     "text": [
      "任务 6 进度：1\n",
      "任务 5 进度：1\n"
     ]
    },
    {
     "name": "stderr",
     "output_type": "stream",
     "text": [
      "2025-02-26 16:47:57,940 INFO synthesis text 目标是将对方的国王置于无法逃脱的“将死”状态。\n",
      "2025-02-26 16:47:57,944 INFO yield speech len 14.88, rtf 0.24346066738969535\n",
      " 50%|█████     | 1/2 [00:03<00:03,  3.74s/it]2025-02-26 16:47:58,056 INFO synthesis text 目标是将对方的国王置于无法逃脱的“将死”状态。\n",
      "2025-02-26 16:47:58,066 INFO llm job done\n",
      "2025-02-26 16:47:58,141 INFO llm job done\n"
     ]
    },
    {
     "name": "stdout",
     "output_type": "stream",
     "text": [
      "任务 0 进度：1\n"
     ]
    },
    {
     "name": "stderr",
     "output_type": "stream",
     "text": [
      "2025-02-26 16:47:58,355 INFO yield speech len 15.84, rtf 0.24989039608926483\n",
      "2025-02-26 16:47:58,469 INFO synthesis text 目标是将对方的国王置于无法逃脱的“将死”状态。\n"
     ]
    },
    {
     "name": "stdout",
     "output_type": "stream",
     "text": [
      "任务 1 进度：1\n"
     ]
    },
    {
     "name": "stderr",
     "output_type": "stream",
     "text": [
      "2025-02-26 16:47:58,891 INFO llm job done\n",
      "2025-02-26 16:47:59,150 INFO yield speech len 16.84, rtf 0.24338475032543627\n",
      "\n",
      "\n",
      "\n",
      "\n",
      "\n",
      "\n",
      "\n",
      "\n",
      "\u001b[A\u001b[A\u001b[A\u001b[A\u001b[A\u001b[A\u001b[A\u001b[A2025-02-26 16:47:59,238 INFO synthesis text 目标是将对方的国王置于无法逃脱的“将死”状态。\n"
     ]
    },
    {
     "name": "stdout",
     "output_type": "stream",
     "text": [
      "任务 9 进度：1\n"
     ]
    },
    {
     "name": "stderr",
     "output_type": "stream",
     "text": [
      "2025-02-26 16:47:59,370 INFO yield speech len 17.2, rtf 0.2790134867956472\n",
      "\n",
      "\n",
      "\n",
      "\u001b[A\u001b[A\u001b[A2025-02-26 16:47:59,549 INFO synthesis text 目标是将对方的国王置于无法逃脱的“将死”状态。\n",
      "2025-02-26 16:47:59,558 INFO yield speech len 17.0, rtf 0.30017005696016197\n",
      "\n",
      "\u001b[A"
     ]
    },
    {
     "name": "stdout",
     "output_type": "stream",
     "text": [
      "任务 4 进度：1\n",
      "任务 2 进度：1\n"
     ]
    },
    {
     "name": "stderr",
     "output_type": "stream",
     "text": [
      "2025-02-26 16:47:59,659 INFO synthesis text 目标是将对方的国王置于无法逃脱的“将死”状态。\n",
      "2025-02-26 16:47:59,891 INFO yield speech len 17.96, rtf 0.279484307580111\n",
      "\n",
      "\n",
      "\n",
      "\n",
      "\n",
      "\n",
      "\n",
      "\u001b[A\u001b[A\u001b[A\u001b[A\u001b[A\u001b[A\u001b[A2025-02-26 16:48:00,007 INFO synthesis text 目标是将对方的国王置于无法逃脱的“将死”状态。\n",
      "2025-02-26 16:48:00,011 INFO yield speech len 18.48, rtf 0.28467726655852743\n",
      "\n",
      "\n",
      "\n",
      "\n",
      "\n",
      "\n",
      "\u001b[A\u001b[A\u001b[A\u001b[A\u001b[A\u001b[A2025-02-26 16:48:00,067 INFO synthesis text 目标是将对方的国王置于无法逃脱的“将死”状态。\n",
      "2025-02-26 16:48:00,068 INFO yield speech len 6.16, rtf 0.5782120800637579\n",
      "\n",
      "\n",
      "100%|██████████| 2/2 [00:05<00:00,  2.80s/it]\n",
      "2025-02-26 16:48:00,078 INFO llm job done\n",
      "2025-02-26 16:48:00,079 INFO llm job done\n",
      "2025-02-26 16:48:00,079 INFO llm job done\n"
     ]
    },
    {
     "name": "stdout",
     "output_type": "stream",
     "text": [
      "任务 8 进度：1\n",
      "任务 7 进度：1\n",
      "任务 3 进度：2\n",
      "任务 3 完成，生成 2 个片段\n"
     ]
    },
    {
     "name": "stderr",
     "output_type": "stream",
     "text": [
      "2025-02-26 16:48:00,444 INFO yield speech len 5.32, rtf 0.47067453090409583\n",
      "\n",
      "\n",
      "\n",
      "\n",
      "100%|██████████| 2/2 [00:05<00:00,  2.93s/it]\n",
      "2025-02-26 16:48:00,452 INFO yield speech len 5.2, rtf 0.4607104338132418\n",
      "100%|██████████| 2/2 [00:06<00:00,  3.13s/it]\n",
      "2025-02-26 16:48:00,480 INFO yield speech len 5.96, rtf 0.445455872772524\n",
      "\n",
      "\n",
      "\n",
      "\n",
      "\n",
      "100%|██████████| 2/2 [00:05<00:00,  2.92s/it]\n",
      "2025-02-26 16:48:00,550 INFO llm job done\n"
     ]
    },
    {
     "name": "stdout",
     "output_type": "stream",
     "text": [
      "任务 5 进度：2\n",
      "任务 5 完成，生成 2 个片段\n",
      "任务 0 进度：2\n",
      "任务 0 完成，生成 2 个片段\n",
      "任务 6 进度：2\n",
      "任务 6 完成，生成 2 个片段\n"
     ]
    },
    {
     "name": "stderr",
     "output_type": "stream",
     "text": [
      "2025-02-26 16:48:00,721 INFO yield speech len 6.8, rtf 0.33109552720013785\n",
      "100%|██████████| 2/2 [00:06<00:00,  3.19s/it]\n",
      "2025-02-26 16:48:00,732 INFO llm job done\n",
      "2025-02-26 16:48:00,866 INFO llm job done\n",
      "2025-02-26 16:48:00,877 INFO yield speech len 5.08, rtf 0.2614749698188361\n",
      "\n",
      "\n",
      "\n",
      "100%|██████████| 2/2 [00:06<00:00,  3.18s/it]\n"
     ]
    },
    {
     "name": "stdout",
     "output_type": "stream",
     "text": [
      "任务 1 进度：2\n",
      "任务 1 完成，生成 2 个片段\n",
      "任务 4 进度：2\n",
      "任务 4 完成，生成 2 个片段\n"
     ]
    },
    {
     "name": "stderr",
     "output_type": "stream",
     "text": [
      "2025-02-26 16:48:01,033 INFO yield speech len 6.4, rtf 0.2803751826286316\n",
      "\n",
      "\n",
      "\n",
      "\n",
      "\n",
      "\n",
      "\n",
      "\n",
      "100%|██████████| 2/2 [00:06<00:00,  3.07s/it]\n",
      "2025-02-26 16:48:01,103 INFO llm job done\n",
      "2025-02-26 16:48:01,232 INFO llm job done\n"
     ]
    },
    {
     "name": "stdout",
     "output_type": "stream",
     "text": [
      "任务 9 进度：2\n",
      "任务 9 完成，生成 2 个片段\n"
     ]
    },
    {
     "name": "stderr",
     "output_type": "stream",
     "text": [
      "2025-02-26 16:48:01,241 INFO llm job done\n",
      "2025-02-26 16:48:01,281 INFO yield speech len 6.92, rtf 0.23439478322949714\n",
      "\n",
      "100%|██████████| 2/2 [00:06<00:00,  3.44s/it]\n"
     ]
    },
    {
     "name": "stdout",
     "output_type": "stream",
     "text": [
      "任务 2 进度：2\n",
      "任务 2 完成，生成 2 个片段\n"
     ]
    },
    {
     "name": "stderr",
     "output_type": "stream",
     "text": [
      "2025-02-26 16:48:01,969 INFO yield speech len 6.24, rtf 0.31434473318931383\n",
      "\n",
      "\n",
      "\n",
      "\n",
      "\n",
      "\n",
      "\n",
      "100%|██████████| 2/2 [00:07<00:00,  3.60s/it]\n",
      "2025-02-26 16:48:02,024 INFO yield speech len 5.64, rtf 0.3468641575346602\n",
      "\n",
      "\n",
      "\n",
      "\n",
      "\n",
      "\n",
      "100%|██████████| 2/2 [00:07<00:00,  3.67s/it]"
     ]
    },
    {
     "name": "stdout",
     "output_type": "stream",
     "text": [
      "任务 8 进度：2\n",
      "任务 8 完成，生成 2 个片段\n",
      "任务 7 进度：2\n",
      "任务 7 完成，生成 2 个片段\n",
      "--- 7.937297105789185 seconds ---\n"
     ]
    },
    {
     "name": "stderr",
     "output_type": "stream",
     "text": [
      "\n"
     ]
    }
   ],
   "source": [
    "import time\n",
    "start_time = time.time()\n",
    "await test_concurrent_instruct(10, semaphore_limit=10)\n",
    "print(\"--- %s seconds ---\" % (time.time() - start_time))"
   ]
  },
  {
   "cell_type": "code",
   "execution_count": 12,
   "metadata": {},
   "outputs": [
    {
     "name": "stderr",
     "output_type": "stream",
     "text": [
      "  0%|          | 0/2 [00:00<?, ?it/s]2025-02-26 16:48:14,449 INFO synthesis text 这是任务零，国际象棋是一种两人对弈的策略游戏，使用一个八x八的棋盘。每位玩家有十六个棋子，包括国王、皇后、车、象、马和兵。\n",
      "2025-02-26 16:48:14,511 INFO synthesis text 这是任务一，国际象棋是一种两人对弈的策略游戏，使用一个八x八的棋盘。每位玩家有十六个棋子，包括国王、皇后、车、象、马和兵。\n",
      "2025-02-26 16:48:14,800 INFO yield speech len 0.44, rtf 0.7984752004796808\n",
      "2025-02-26 16:48:14,808 INFO yield speech len 0.44, rtf 0.6746427579359575\n"
     ]
    },
    {
     "name": "stdout",
     "output_type": "stream",
     "text": [
      "任务 0 进度：1\n",
      "任务 1 进度：1\n"
     ]
    },
    {
     "name": "stderr",
     "output_type": "stream",
     "text": [
      "2025-02-26 16:48:15,007 INFO yield speech len 0.6, rtf 0.3436867396036784\n",
      "2025-02-26 16:48:15,010 INFO yield speech len 0.6, rtf 0.3361491362253825\n"
     ]
    },
    {
     "name": "stdout",
     "output_type": "stream",
     "text": [
      "任务 0 进度：2\n",
      "任务 1 进度：2\n"
     ]
    },
    {
     "name": "stderr",
     "output_type": "stream",
     "text": [
      "2025-02-26 16:48:15,225 INFO yield speech len 0.6, rtf 0.35626649856567383\n",
      "2025-02-26 16:48:15,229 INFO yield speech len 0.6, rtf 0.3679104646046957\n"
     ]
    },
    {
     "name": "stdout",
     "output_type": "stream",
     "text": [
      "任务 1 进度：3\n",
      "任务 0 进度：3\n"
     ]
    },
    {
     "name": "stderr",
     "output_type": "stream",
     "text": [
      "2025-02-26 16:48:15,476 INFO yield speech len 0.6, rtf 0.4179469744364421\n",
      "2025-02-26 16:48:15,477 INFO yield speech len 0.6, rtf 0.41285713513692224\n"
     ]
    },
    {
     "name": "stdout",
     "output_type": "stream",
     "text": [
      "任务 1 进度：4\n",
      "任务 0 进度：4\n"
     ]
    },
    {
     "name": "stderr",
     "output_type": "stream",
     "text": [
      "2025-02-26 16:48:15,698 INFO yield speech len 0.6, rtf 0.3672548135121664\n",
      "2025-02-26 16:48:15,725 INFO yield speech len 0.6, rtf 0.41308720906575525\n"
     ]
    },
    {
     "name": "stdout",
     "output_type": "stream",
     "text": [
      "任务 0 进度：5\n",
      "任务 1 进度：5\n"
     ]
    },
    {
     "name": "stderr",
     "output_type": "stream",
     "text": [
      "2025-02-26 16:48:15,969 INFO yield speech len 0.6, rtf 0.45023202896118164\n",
      "2025-02-26 16:48:16,036 INFO yield speech len 0.6, rtf 0.5171581109364828\n"
     ]
    },
    {
     "name": "stdout",
     "output_type": "stream",
     "text": [
      "任务 0 进度：6\n",
      "任务 1 进度：6\n"
     ]
    },
    {
     "name": "stderr",
     "output_type": "stream",
     "text": [
      "2025-02-26 16:48:16,213 INFO yield speech len 0.6, rtf 0.40151476860046387\n",
      "2025-02-26 16:48:16,245 INFO yield speech len 0.6, rtf 0.34585793813069665\n"
     ]
    },
    {
     "name": "stdout",
     "output_type": "stream",
     "text": [
      "任务 0 进度：7\n",
      "任务 1 进度：7\n"
     ]
    },
    {
     "name": "stderr",
     "output_type": "stream",
     "text": [
      "2025-02-26 16:48:16,449 INFO yield speech len 0.6, rtf 0.39238810539245605\n",
      "2025-02-26 16:48:16,479 INFO yield speech len 0.6, rtf 0.3890824317932129\n"
     ]
    },
    {
     "name": "stdout",
     "output_type": "stream",
     "text": [
      "任务 0 进度：8\n",
      "任务 1 进度：8\n"
     ]
    },
    {
     "name": "stderr",
     "output_type": "stream",
     "text": [
      "2025-02-26 16:48:16,718 INFO yield speech len 0.6, rtf 0.4466676712036133\n",
      "2025-02-26 16:48:16,724 INFO yield speech len 0.6, rtf 0.4067345460255941\n"
     ]
    },
    {
     "name": "stdout",
     "output_type": "stream",
     "text": [
      "任务 0 进度：9\n",
      "任务 1 进度：9\n"
     ]
    },
    {
     "name": "stderr",
     "output_type": "stream",
     "text": [
      "2025-02-26 16:48:16,988 INFO yield speech len 0.6, rtf 0.4495493570963542\n",
      "2025-02-26 16:48:16,998 INFO yield speech len 0.6, rtf 0.4558352629343669\n"
     ]
    },
    {
     "name": "stdout",
     "output_type": "stream",
     "text": [
      "任务 0 进度：10\n",
      "任务 1 进度：10\n"
     ]
    },
    {
     "name": "stderr",
     "output_type": "stream",
     "text": [
      "2025-02-26 16:48:17,256 INFO yield speech len 0.6, rtf 0.4453674952189128\n",
      "2025-02-26 16:48:17,279 INFO yield speech len 0.6, rtf 0.46741048494974774\n"
     ]
    },
    {
     "name": "stdout",
     "output_type": "stream",
     "text": [
      "任务 0 进度：11\n",
      "任务 1 进度：11\n"
     ]
    },
    {
     "name": "stderr",
     "output_type": "stream",
     "text": [
      "2025-02-26 16:48:17,540 INFO yield speech len 0.6, rtf 0.47120889027913415\n",
      "2025-02-26 16:48:17,577 INFO yield speech len 0.6, rtf 0.49555102984110516\n"
     ]
    },
    {
     "name": "stdout",
     "output_type": "stream",
     "text": [
      "任务 0 进度：12\n",
      "任务 1 进度：12\n"
     ]
    },
    {
     "name": "stderr",
     "output_type": "stream",
     "text": [
      "2025-02-26 16:48:17,828 INFO yield speech len 0.6, rtf 0.47887126604715985\n",
      "2025-02-26 16:48:17,833 INFO llm job done\n",
      "2025-02-26 16:48:17,876 INFO yield speech len 0.6, rtf 0.4971245924631755\n"
     ]
    },
    {
     "name": "stdout",
     "output_type": "stream",
     "text": [
      "任务 0 进度：13\n",
      "任务 1 进度：13\n"
     ]
    },
    {
     "name": "stderr",
     "output_type": "stream",
     "text": [
      "2025-02-26 16:48:18,125 INFO yield speech len 0.6, rtf 0.4948115348815918\n",
      "2025-02-26 16:48:18,208 INFO yield speech len 0.6, rtf 0.5516672134399414\n"
     ]
    },
    {
     "name": "stdout",
     "output_type": "stream",
     "text": [
      "任务 0 进度：14\n",
      "任务 1 进度：14\n"
     ]
    },
    {
     "name": "stderr",
     "output_type": "stream",
     "text": [
      "2025-02-26 16:48:18,361 INFO yield speech len 0.6, rtf 0.39128541946411133\n",
      "2025-02-26 16:48:18,540 INFO yield speech len 0.6, rtf 0.5524698893229167\n"
     ]
    },
    {
     "name": "stdout",
     "output_type": "stream",
     "text": [
      "任务 0 进度：15\n",
      "任务 1 进度：15\n"
     ]
    },
    {
     "name": "stderr",
     "output_type": "stream",
     "text": [
      "2025-02-26 16:48:18,670 INFO yield speech len 0.6, rtf 0.5145299434661865\n",
      "2025-02-26 16:48:18,855 INFO yield speech len 0.6, rtf 0.5240746339162191\n"
     ]
    },
    {
     "name": "stdout",
     "output_type": "stream",
     "text": [
      "任务 0 进度：16\n",
      "任务 1 进度：16\n"
     ]
    },
    {
     "name": "stderr",
     "output_type": "stream",
     "text": [
      "2025-02-26 16:48:18,971 INFO yield speech len 0.6, rtf 0.49971063931783044\n"
     ]
    },
    {
     "name": "stdout",
     "output_type": "stream",
     "text": [
      "任务 0 进度：17\n"
     ]
    },
    {
     "name": "stderr",
     "output_type": "stream",
     "text": [
      "2025-02-26 16:48:19,209 INFO yield speech len 0.6, rtf 0.589657227198283\n",
      "2025-02-26 16:48:19,276 INFO yield speech len 0.6, rtf 0.5079205830891927\n",
      "2025-02-26 16:48:19,295 INFO llm job done\n"
     ]
    },
    {
     "name": "stdout",
     "output_type": "stream",
     "text": [
      "任务 1 进度：17\n",
      "任务 0 进度：18\n"
     ]
    },
    {
     "name": "stderr",
     "output_type": "stream",
     "text": [
      "2025-02-26 16:48:19,651 INFO yield speech len 0.6, rtf 0.7343737284342449\n",
      "2025-02-26 16:48:19,716 INFO yield speech len 0.6, rtf 0.7314475377400717\n"
     ]
    },
    {
     "name": "stdout",
     "output_type": "stream",
     "text": [
      "任务 1 进度：18\n",
      "任务 0 进度：19\n"
     ]
    },
    {
     "name": "stderr",
     "output_type": "stream",
     "text": [
      "2025-02-26 16:48:20,141 INFO yield speech len 0.6, rtf 0.8154459794362386\n",
      "2025-02-26 16:48:20,285 INFO yield speech len 0.6, rtf 0.948013464609782\n"
     ]
    },
    {
     "name": "stdout",
     "output_type": "stream",
     "text": [
      "任务 1 进度：19\n",
      "任务 0 进度：20\n"
     ]
    },
    {
     "name": "stderr",
     "output_type": "stream",
     "text": [
      "2025-02-26 16:48:20,618 INFO yield speech len 0.6, rtf 0.7918012142181396\n",
      "2025-02-26 16:48:20,753 INFO yield speech len 0.6, rtf 0.7785936196645101\n"
     ]
    },
    {
     "name": "stdout",
     "output_type": "stream",
     "text": [
      "任务 1 进度：20\n",
      "任务 0 进度：21\n"
     ]
    },
    {
     "name": "stderr",
     "output_type": "stream",
     "text": [
      "2025-02-26 16:48:21,062 INFO yield speech len 0.6, rtf 0.7349658012390137\n",
      "2025-02-26 16:48:21,243 INFO yield speech len 0.6, rtf 0.8154420057932537\n"
     ]
    },
    {
     "name": "stdout",
     "output_type": "stream",
     "text": [
      "任务 1 进度：21\n",
      "任务 0 进度：22\n"
     ]
    },
    {
     "name": "stderr",
     "output_type": "stream",
     "text": [
      "2025-02-26 16:48:21,401 INFO yield speech len 0.6, rtf 0.5609599749247234\n"
     ]
    },
    {
     "name": "stdout",
     "output_type": "stream",
     "text": [
      "任务 1 进度：22\n"
     ]
    },
    {
     "name": "stderr",
     "output_type": "stream",
     "text": [
      "2025-02-26 16:48:21,612 INFO yield speech len 0.6, rtf 0.6133381525675456\n",
      "2025-02-26 16:48:21,743 INFO yield speech len 0.6, rtf 0.5682023366292318\n"
     ]
    },
    {
     "name": "stdout",
     "output_type": "stream",
     "text": [
      "任务 0 进度：23\n",
      "任务 1 进度：23\n"
     ]
    },
    {
     "name": "stderr",
     "output_type": "stream",
     "text": [
      "2025-02-26 16:48:22,008 INFO yield speech len 0.6, rtf 0.6582013765970867\n",
      "2025-02-26 16:48:22,107 INFO yield speech len 0.6, rtf 0.6061196327209473\n"
     ]
    },
    {
     "name": "stdout",
     "output_type": "stream",
     "text": [
      "任务 0 进度：24\n",
      "任务 1 进度：24\n"
     ]
    },
    {
     "name": "stderr",
     "output_type": "stream",
     "text": [
      "2025-02-26 16:48:22,591 INFO yield speech len 0.6, rtf 0.8056306838989258\n",
      "2025-02-26 16:48:22,592 INFO yield speech len 0.04, rtf 14.57708477973938\n",
      " 50%|█████     | 1/2 [00:08<00:08,  8.27s/it]2025-02-26 16:48:22,654 INFO synthesis text 目标是将对方的国王置于无法逃脱的“将死”状态。\n"
     ]
    },
    {
     "name": "stdout",
     "output_type": "stream",
     "text": [
      "任务 1 进度：25\n",
      "任务 0 进度：25\n"
     ]
    },
    {
     "name": "stderr",
     "output_type": "stream",
     "text": [
      "2025-02-26 16:48:22,870 INFO yield speech len 0.6, rtf 0.46279191970825195\n"
     ]
    },
    {
     "name": "stdout",
     "output_type": "stream",
     "text": [
      "任务 1 进度：26\n"
     ]
    },
    {
     "name": "stderr",
     "output_type": "stream",
     "text": [
      "2025-02-26 16:48:23,239 INFO yield speech len 0.6, rtf 0.6149137020111084\n",
      "2025-02-26 16:48:23,314 INFO yield speech len 0.44, rtf 1.5005388043143533\n"
     ]
    },
    {
     "name": "stdout",
     "output_type": "stream",
     "text": [
      "任务 1 进度：27\n",
      "任务 0 进度：26\n"
     ]
    },
    {
     "name": "stderr",
     "output_type": "stream",
     "text": [
      "2025-02-26 16:48:23,589 INFO yield speech len 0.6, rtf 0.5813936392466228\n",
      "2025-02-26 16:48:23,689 INFO yield speech len 0.6, rtf 0.6230815251668295\n"
     ]
    },
    {
     "name": "stdout",
     "output_type": "stream",
     "text": [
      "任务 1 进度：28\n",
      "任务 0 进度：27\n"
     ]
    },
    {
     "name": "stderr",
     "output_type": "stream",
     "text": [
      "2025-02-26 16:48:23,976 INFO yield speech len 0.6, rtf 0.6448745727539062\n",
      "2025-02-26 16:48:24,075 INFO yield speech len 0.6, rtf 0.6421176592508953\n"
     ]
    },
    {
     "name": "stdout",
     "output_type": "stream",
     "text": [
      "任务 1 进度：29\n",
      "任务 0 进度：28\n"
     ]
    },
    {
     "name": "stderr",
     "output_type": "stream",
     "text": [
      "2025-02-26 16:48:24,381 INFO yield speech len 0.6, rtf 0.6735281149546306\n",
      "2025-02-26 16:48:24,518 INFO yield speech len 0.6, rtf 0.7364928722381592\n"
     ]
    },
    {
     "name": "stdout",
     "output_type": "stream",
     "text": [
      "任务 1 进度：30\n",
      "任务 0 进度：29\n"
     ]
    },
    {
     "name": "stderr",
     "output_type": "stream",
     "text": [
      "2025-02-26 16:48:24,832 INFO yield speech len 0.32, rtf 1.407776027917862\n",
      "2025-02-26 16:48:24,900 INFO synthesis text 目标是将对方的国王置于无法逃脱的“将死”状态。\n",
      "2025-02-26 16:48:24,904 INFO yield speech len 0.6, rtf 0.6401745478312175\n",
      "2025-02-26 16:48:24,907 INFO llm job done\n"
     ]
    },
    {
     "name": "stdout",
     "output_type": "stream",
     "text": [
      "任务 1 进度：31\n",
      "任务 0 进度：30\n"
     ]
    },
    {
     "name": "stderr",
     "output_type": "stream",
     "text": [
      "2025-02-26 16:48:25,080 INFO yield speech len 0.6, rtf 0.28932412465413415\n",
      "2025-02-26 16:48:25,243 INFO yield speech len 0.6, rtf 0.27104775110880536\n"
     ]
    },
    {
     "name": "stdout",
     "output_type": "stream",
     "text": [
      "任务 0 进度：31\n",
      "任务 0 进度：32\n"
     ]
    },
    {
     "name": "stderr",
     "output_type": "stream",
     "text": [
      "2025-02-26 16:48:25,315 INFO yield speech len 0.44, rtf 0.9423217990181663\n",
      "2025-02-26 16:48:25,363 INFO yield speech len 0.6, rtf 0.19858797391255698\n"
     ]
    },
    {
     "name": "stdout",
     "output_type": "stream",
     "text": [
      "任务 1 进度：32\n",
      "任务 0 进度：33\n"
     ]
    },
    {
     "name": "stderr",
     "output_type": "stream",
     "text": [
      "2025-02-26 16:48:25,561 INFO yield speech len 0.6, rtf 0.32965620358784997\n",
      "2025-02-26 16:48:25,575 INFO yield speech len 0.6, rtf 0.431967576344808\n",
      "2025-02-26 16:48:25,718 INFO yield speech len 0.6, rtf 0.2597002188364665\n"
     ]
    },
    {
     "name": "stdout",
     "output_type": "stream",
     "text": [
      "任务 0 进度：34\n",
      "任务 1 进度：33\n",
      "任务 0 进度：35\n"
     ]
    },
    {
     "name": "stderr",
     "output_type": "stream",
     "text": [
      "2025-02-26 16:48:25,777 INFO yield speech len 0.6, rtf 0.33445676167805993\n",
      "2025-02-26 16:48:25,907 INFO yield speech len 0.08, rtf 2.353137731552124\n",
      "100%|██████████| 2/2 [00:11<00:00,  5.79s/it]\n",
      "2025-02-26 16:48:25,945 INFO yield speech len 0.6, rtf 0.2796415487925212\n"
     ]
    },
    {
     "name": "stdout",
     "output_type": "stream",
     "text": [
      "任务 1 进度：34\n",
      "任务 0 进度：36\n",
      "任务 0 完成，生成 36 个片段\n",
      "任务 1 进度：35\n"
     ]
    },
    {
     "name": "stderr",
     "output_type": "stream",
     "text": [
      "2025-02-26 16:48:26,001 INFO llm job done\n",
      "2025-02-26 16:48:26,114 INFO yield speech len 0.6, rtf 0.28070926666259766\n",
      "2025-02-26 16:48:26,263 INFO yield speech len 0.6, rtf 0.2451475461324056\n"
     ]
    },
    {
     "name": "stdout",
     "output_type": "stream",
     "text": [
      "任务 1 进度：36\n",
      "任务 1 进度：37\n"
     ]
    },
    {
     "name": "stderr",
     "output_type": "stream",
     "text": [
      "2025-02-26 16:48:26,414 INFO yield speech len 0.6, rtf 0.25022824605305993\n",
      "2025-02-26 16:48:26,583 INFO yield speech len 0.44, rtf 0.38031773133711383\n",
      "100%|██████████| 2/2 [00:12<00:00,  6.06s/it]"
     ]
    },
    {
     "name": "stdout",
     "output_type": "stream",
     "text": [
      "任务 1 进度：38\n",
      "任务 1 进度：39\n",
      "任务 1 完成，生成 39 个片段\n",
      "--- 12.34912109375 seconds ---\n"
     ]
    },
    {
     "name": "stderr",
     "output_type": "stream",
     "text": [
      "\n"
     ]
    }
   ],
   "source": [
    "import time\n",
    "start_time = time.time()\n",
    "await test_concurrent_instruct(2, semaphore_limit=5, stream=True)\n",
    "print(\"--- %s seconds ---\" % (time.time() - start_time))"
   ]
  },
  {
   "cell_type": "code",
   "execution_count": 13,
   "metadata": {},
   "outputs": [
    {
     "name": "stderr",
     "output_type": "stream",
     "text": [
      "  0%|          | 0/2 [00:00<?, ?it/s]2025-02-26 16:48:49,059 INFO synthesis text 这是任务零，国际象棋是一种两人对弈的策略游戏，使用一个八x八的棋盘。每位玩家有十六个棋子，包括国王、皇后、车、象、马和兵。\n",
      "2025-02-26 16:48:49,186 INFO synthesis text 这是任务一，国际象棋是一种两人对弈的策略游戏，使用一个八x八的棋盘。每位玩家有十六个棋子，包括国王、皇后、车、象、马和兵。\n",
      "\n",
      "\u001b[A2025-02-26 16:48:49,244 INFO synthesis text 这是任务二，国际象棋是一种两人对弈的策略游戏，使用一个八x八的棋盘。每位玩家有十六个棋子，包括国王、皇后、车、象、马和兵。\n",
      "\n",
      "\n",
      "\u001b[A\u001b[A2025-02-26 16:48:49,303 INFO synthesis text 这是任务三，国际象棋是一种两人对弈的策略游戏，使用一个八x八的棋盘。每位玩家有十六个棋子，包括国王、皇后、车、象、马和兵。\n",
      "\n",
      "\n",
      "\n",
      "\u001b[A\u001b[A\u001b[A2025-02-26 16:48:49,360 INFO synthesis text 这是任务四，国际象棋是一种两人对弈的策略游戏，使用一个八x八的棋盘。每位玩家有十六个棋子，包括国王、皇后、车、象、马和兵。\n",
      "2025-02-26 16:48:49,869 INFO yield speech len 0.44, rtf 1.8395754424008457\n",
      "2025-02-26 16:48:49,874 INFO yield speech len 0.44, rtf 1.4301847327839246\n",
      "2025-02-26 16:48:49,877 INFO yield speech len 0.44, rtf 1.5705520456487483\n",
      "2025-02-26 16:48:49,883 INFO yield speech len 0.44, rtf 1.3180196285247803\n",
      "2025-02-26 16:48:49,887 INFO yield speech len 0.44, rtf 1.196555657820268\n"
     ]
    },
    {
     "name": "stdout",
     "output_type": "stream",
     "text": [
      "任务 0 进度：1\n",
      "任务 2 进度：1\n",
      "任务 1 进度：1\n",
      "任务 3 进度：1\n",
      "任务 4 进度：1\n"
     ]
    },
    {
     "name": "stderr",
     "output_type": "stream",
     "text": [
      "2025-02-26 16:48:50,233 INFO yield speech len 0.6, rtf 0.6066962083180746\n",
      "2025-02-26 16:48:50,262 INFO yield speech len 0.6, rtf 0.6459923585255941\n",
      "2025-02-26 16:48:50,271 INFO yield speech len 0.6, rtf 0.6469436486562093\n",
      "2025-02-26 16:48:50,274 INFO yield speech len 0.6, rtf 0.6617097059885662\n",
      "2025-02-26 16:48:50,276 INFO yield speech len 0.6, rtf 0.6475210189819336\n",
      "2025-02-26 16:48:50,420 INFO yield speech len 0.6, rtf 0.31037092208862305\n"
     ]
    },
    {
     "name": "stdout",
     "output_type": "stream",
     "text": [
      "任务 0 进度：2\n",
      "任务 2 进度：2\n",
      "任务 3 进度：2\n",
      "任务 1 进度：2\n",
      "任务 4 进度：2\n",
      "任务 0 进度：3\n"
     ]
    },
    {
     "name": "stderr",
     "output_type": "stream",
     "text": [
      "2025-02-26 16:48:50,607 INFO yield speech len 0.6, rtf 0.5746316909790039\n"
     ]
    },
    {
     "name": "stdout",
     "output_type": "stream",
     "text": [
      "任务 2 进度：3\n"
     ]
    },
    {
     "name": "stderr",
     "output_type": "stream",
     "text": [
      "2025-02-26 16:48:50,830 INFO yield speech len 0.6, rtf 0.9257678190867107\n",
      "2025-02-26 16:48:50,835 INFO yield speech len 0.6, rtf 0.9324089686075847\n",
      "2025-02-26 16:48:50,836 INFO yield speech len 0.6, rtf 0.9404496351877849\n",
      "2025-02-26 16:48:50,923 INFO yield speech len 0.6, rtf 0.8364367485046387\n",
      "2025-02-26 16:48:50,953 INFO yield speech len 0.6, rtf 0.5745836098988851\n"
     ]
    },
    {
     "name": "stdout",
     "output_type": "stream",
     "text": [
      "任务 1 进度：3\n",
      "任务 4 进度：3\n",
      "任务 3 进度：3\n",
      "任务 0 进度：4\n",
      "任务 2 进度：4\n"
     ]
    },
    {
     "name": "stderr",
     "output_type": "stream",
     "text": [
      "2025-02-26 16:48:51,228 INFO yield speech len 0.6, rtf 0.6531143188476562\n",
      "2025-02-26 16:48:51,251 INFO yield speech len 0.6, rtf 0.6998586654663086\n",
      "2025-02-26 16:48:51,258 INFO yield speech len 0.6, rtf 0.702433188756307\n",
      "2025-02-26 16:48:51,309 INFO yield speech len 0.6, rtf 0.6421148777008057\n",
      "2025-02-26 16:48:51,339 INFO yield speech len 0.6, rtf 0.6419968605041504\n"
     ]
    },
    {
     "name": "stdout",
     "output_type": "stream",
     "text": [
      "任务 4 进度：4\n",
      "任务 1 进度：4\n",
      "任务 3 进度：4\n",
      "任务 0 进度：5\n",
      "任务 2 进度：5\n"
     ]
    },
    {
     "name": "stderr",
     "output_type": "stream",
     "text": [
      "2025-02-26 16:48:51,575 INFO yield speech len 0.6, rtf 0.5769121646881104\n",
      "2025-02-26 16:48:51,628 INFO yield speech len 0.6, rtf 0.6266287962595622\n",
      "2025-02-26 16:48:51,690 INFO yield speech len 0.6, rtf 0.7184429963429769\n"
     ]
    },
    {
     "name": "stdout",
     "output_type": "stream",
     "text": [
      "任务 4 进度：5\n",
      "任务 1 进度：5\n",
      "任务 3 进度：5\n"
     ]
    },
    {
     "name": "stderr",
     "output_type": "stream",
     "text": [
      "2025-02-26 16:48:51,785 INFO yield speech len 0.6, rtf 0.7923495769500732\n",
      "2025-02-26 16:48:51,828 INFO yield speech len 0.6, rtf 0.8140408992767334\n",
      "2025-02-26 16:48:51,980 INFO yield speech len 0.6, rtf 0.6739826997121176\n"
     ]
    },
    {
     "name": "stdout",
     "output_type": "stream",
     "text": [
      "任务 0 进度：6\n",
      "任务 2 进度：6\n",
      "任务 4 进度：6\n"
     ]
    },
    {
     "name": "stderr",
     "output_type": "stream",
     "text": [
      "2025-02-26 16:48:52,055 INFO yield speech len 0.6, rtf 0.7108529408772787\n",
      "2025-02-26 16:48:52,169 INFO yield speech len 0.6, rtf 0.7965147495269775\n"
     ]
    },
    {
     "name": "stdout",
     "output_type": "stream",
     "text": [
      "任务 1 进度：6\n",
      "任务 3 进度：6\n"
     ]
    },
    {
     "name": "stderr",
     "output_type": "stream",
     "text": [
      "2025-02-26 16:48:52,265 INFO yield speech len 0.6, rtf 0.7980819543202718\n",
      "2025-02-26 16:48:52,319 INFO yield speech len 0.6, rtf 0.8175476392110189\n",
      "2025-02-26 16:48:52,414 INFO yield speech len 0.6, rtf 0.7226669788360596\n"
     ]
    },
    {
     "name": "stdout",
     "output_type": "stream",
     "text": [
      "任务 0 进度：7\n",
      "任务 2 进度：7\n",
      "任务 4 进度：7\n"
     ]
    },
    {
     "name": "stderr",
     "output_type": "stream",
     "text": [
      "2025-02-26 16:48:52,530 INFO yield speech len 0.6, rtf 0.7902741432189941\n",
      "2025-02-26 16:48:52,595 INFO yield speech len 0.6, rtf 0.7095142205556234\n"
     ]
    },
    {
     "name": "stdout",
     "output_type": "stream",
     "text": [
      "任务 1 进度：7\n",
      "任务 3 进度：7\n"
     ]
    },
    {
     "name": "stderr",
     "output_type": "stream",
     "text": [
      "2025-02-26 16:48:52,742 INFO yield speech len 0.6, rtf 0.7950977484385173\n",
      "2025-02-26 16:48:52,844 INFO yield speech len 0.6, rtf 0.8728408813476562\n",
      "2025-02-26 16:48:52,876 INFO yield speech len 0.6, rtf 0.7690246899922689\n"
     ]
    },
    {
     "name": "stdout",
     "output_type": "stream",
     "text": [
      "任务 0 进度：8\n",
      "任务 2 进度：8\n",
      "任务 4 进度：8\n"
     ]
    },
    {
     "name": "stderr",
     "output_type": "stream",
     "text": [
      "2025-02-26 16:48:53,031 INFO yield speech len 0.6, rtf 0.8341447512308757\n",
      "2025-02-26 16:48:53,097 INFO yield speech len 0.6, rtf 0.8355534076690674\n"
     ]
    },
    {
     "name": "stdout",
     "output_type": "stream",
     "text": [
      "任务 1 进度：8\n",
      "任务 3 进度：8\n"
     ]
    },
    {
     "name": "stderr",
     "output_type": "stream",
     "text": [
      "2025-02-26 16:48:53,249 INFO yield speech len 0.6, rtf 0.8429479598999023\n",
      "2025-02-26 16:48:53,345 INFO yield speech len 0.6, rtf 0.8338193098704021\n",
      "2025-02-26 16:48:53,416 INFO yield speech len 0.6, rtf 0.8979562918345134\n"
     ]
    },
    {
     "name": "stdout",
     "output_type": "stream",
     "text": [
      "任务 0 进度：9\n",
      "任务 2 进度：9\n",
      "任务 4 进度：9\n"
     ]
    },
    {
     "name": "stderr",
     "output_type": "stream",
     "text": [
      "2025-02-26 16:48:53,546 INFO yield speech len 0.6, rtf 0.857458511988322\n",
      "2025-02-26 16:48:53,644 INFO yield speech len 0.6, rtf 0.9098807970682781\n"
     ]
    },
    {
     "name": "stdout",
     "output_type": "stream",
     "text": [
      "任务 1 进度：9\n",
      "任务 3 进度：9\n"
     ]
    },
    {
     "name": "stderr",
     "output_type": "stream",
     "text": [
      "2025-02-26 16:48:53,798 INFO yield speech len 0.6, rtf 0.9139716625213623\n",
      "2025-02-26 16:48:53,799 INFO llm job done\n",
      "2025-02-26 16:48:53,882 INFO llm job done\n",
      "2025-02-26 16:48:53,907 INFO yield speech len 0.6, rtf 0.9356351693471273\n",
      "2025-02-26 16:48:53,971 INFO yield speech len 0.6, rtf 0.9243357181549072\n"
     ]
    },
    {
     "name": "stdout",
     "output_type": "stream",
     "text": [
      "任务 0 进度：10\n",
      "任务 2 进度：10\n",
      "任务 4 进度：10\n"
     ]
    },
    {
     "name": "stderr",
     "output_type": "stream",
     "text": [
      "2025-02-26 16:48:54,080 INFO yield speech len 0.6, rtf 0.8886253833770752\n",
      "2025-02-26 16:48:54,217 INFO yield speech len 0.6, rtf 0.9535805384318035\n"
     ]
    },
    {
     "name": "stdout",
     "output_type": "stream",
     "text": [
      "任务 1 进度：10\n",
      "任务 3 进度：10\n"
     ]
    },
    {
     "name": "stderr",
     "output_type": "stream",
     "text": [
      "2025-02-26 16:48:54,376 INFO yield speech len 0.6, rtf 0.9620046615600586\n",
      "2025-02-26 16:48:54,447 INFO yield speech len 0.6, rtf 0.8980576197306316\n",
      "2025-02-26 16:48:54,467 INFO llm job done\n",
      "2025-02-26 16:48:54,497 INFO yield speech len 0.6, rtf 0.8751082420349121\n"
     ]
    },
    {
     "name": "stdout",
     "output_type": "stream",
     "text": [
      "任务 0 进度：11\n",
      "任务 2 进度：11\n",
      "任务 4 进度：11\n"
     ]
    },
    {
     "name": "stderr",
     "output_type": "stream",
     "text": [
      "2025-02-26 16:48:54,638 INFO llm job done\n",
      "2025-02-26 16:48:54,641 INFO yield speech len 0.6, rtf 0.934048096338908\n",
      "2025-02-26 16:48:54,840 INFO yield speech len 0.6, rtf 1.0374120871225994\n"
     ]
    },
    {
     "name": "stdout",
     "output_type": "stream",
     "text": [
      "任务 1 进度：11\n",
      "任务 3 进度：11\n"
     ]
    },
    {
     "name": "stderr",
     "output_type": "stream",
     "text": [
      "2025-02-26 16:48:55,050 INFO yield speech len 0.6, rtf 1.1228708426157634\n",
      "2025-02-26 16:48:55,091 INFO yield speech len 0.6, rtf 1.0721949736277263\n",
      "2025-02-26 16:48:55,125 INFO yield speech len 0.6, rtf 1.0452210903167725\n",
      "2025-02-26 16:48:55,200 INFO yield speech len 0.6, rtf 0.9304324785868328\n"
     ]
    },
    {
     "name": "stdout",
     "output_type": "stream",
     "text": [
      "任务 0 进度：12\n",
      "任务 2 进度：12\n",
      "任务 4 进度：12\n",
      "任务 1 进度：12\n"
     ]
    },
    {
     "name": "stderr",
     "output_type": "stream",
     "text": [
      "2025-02-26 16:48:55,255 INFO llm job done\n",
      "2025-02-26 16:48:55,412 INFO yield speech len 0.6, rtf 0.952376921971639\n"
     ]
    },
    {
     "name": "stdout",
     "output_type": "stream",
     "text": [
      "任务 3 进度：12\n"
     ]
    },
    {
     "name": "stderr",
     "output_type": "stream",
     "text": [
      "2025-02-26 16:48:55,839 INFO yield speech len 0.6, rtf 1.312598784764608\n",
      "2025-02-26 16:48:55,901 INFO yield speech len 0.6, rtf 1.349484920501709\n",
      "2025-02-26 16:48:55,949 INFO yield speech len 0.6, rtf 1.3728880882263184\n",
      "2025-02-26 16:48:55,986 INFO yield speech len 0.6, rtf 1.3089478015899658\n",
      "2025-02-26 16:48:56,031 INFO yield speech len 0.6, rtf 1.027886470158895\n"
     ]
    },
    {
     "name": "stdout",
     "output_type": "stream",
     "text": [
      "任务 0 进度：13\n",
      "任务 2 进度：13\n",
      "任务 4 进度：13\n",
      "任务 1 进度：13\n",
      "任务 3 进度：13\n"
     ]
    },
    {
     "name": "stderr",
     "output_type": "stream",
     "text": [
      "2025-02-26 16:48:56,496 INFO yield speech len 0.6, rtf 1.0894147555033367\n",
      "2025-02-26 16:48:56,539 INFO yield speech len 0.6, rtf 1.0552501678466797\n",
      "2025-02-26 16:48:56,672 INFO yield speech len 0.6, rtf 1.1989585558573406\n",
      "2025-02-26 16:48:56,689 INFO yield speech len 0.6, rtf 1.1673792203267417\n"
     ]
    },
    {
     "name": "stdout",
     "output_type": "stream",
     "text": [
      "任务 0 进度：14\n",
      "任务 2 进度：14\n",
      "任务 4 进度：14\n",
      "任务 1 进度：14\n"
     ]
    },
    {
     "name": "stderr",
     "output_type": "stream",
     "text": [
      "2025-02-26 16:48:56,730 INFO yield speech len 0.6, rtf 1.1630741755167644\n"
     ]
    },
    {
     "name": "stdout",
     "output_type": "stream",
     "text": [
      "任务 3 进度：14\n"
     ]
    },
    {
     "name": "stderr",
     "output_type": "stream",
     "text": [
      "2025-02-26 16:48:57,190 INFO yield speech len 0.6, rtf 1.1527538299560547\n",
      "2025-02-26 16:48:57,215 INFO yield speech len 0.6, rtf 1.1229530970255535\n",
      "2025-02-26 16:48:57,336 INFO yield speech len 0.6, rtf 1.1015013853708904\n",
      "2025-02-26 16:48:57,369 INFO yield speech len 0.6, rtf 1.128609577814738\n"
     ]
    },
    {
     "name": "stdout",
     "output_type": "stream",
     "text": [
      "任务 0 进度：15\n",
      "任务 2 进度：15\n",
      "任务 4 进度：15\n",
      "任务 1 进度：15\n"
     ]
    },
    {
     "name": "stderr",
     "output_type": "stream",
     "text": [
      "2025-02-26 16:48:57,448 INFO yield speech len 0.6, rtf 1.193357308705648\n"
     ]
    },
    {
     "name": "stdout",
     "output_type": "stream",
     "text": [
      "任务 3 进度：15\n"
     ]
    },
    {
     "name": "stderr",
     "output_type": "stream",
     "text": [
      "2025-02-26 16:48:57,978 INFO yield speech len 0.6, rtf 1.3085941473642986\n",
      "2025-02-26 16:48:58,129 INFO yield speech len 0.6, rtf 1.5184378623962402\n",
      "2025-02-26 16:48:58,167 INFO yield speech len 0.6, rtf 1.3785946369171143\n",
      "2025-02-26 16:48:58,181 INFO yield speech len 0.6, rtf 1.3485181331634521\n"
     ]
    },
    {
     "name": "stdout",
     "output_type": "stream",
     "text": [
      "任务 0 进度：16\n",
      "任务 2 进度：16\n",
      "任务 4 进度：16\n"
     ]
    },
    {
     "name": "stderr",
     "output_type": "stream",
     "text": [
      "2025-02-26 16:48:58,230 INFO yield speech len 0.6, rtf 1.3020392258961997\n"
     ]
    },
    {
     "name": "stdout",
     "output_type": "stream",
     "text": [
      "任务 1 进度：16\n",
      "任务 3 进度：16\n"
     ]
    },
    {
     "name": "stderr",
     "output_type": "stream",
     "text": [
      "2025-02-26 16:48:58,542 INFO yield speech len 0.6, rtf 0.9339845180511475\n"
     ]
    },
    {
     "name": "stdout",
     "output_type": "stream",
     "text": [
      "任务 0 进度：17\n"
     ]
    },
    {
     "name": "stderr",
     "output_type": "stream",
     "text": [
      "2025-02-26 16:48:58,951 INFO yield speech len 0.6, rtf 1.364289919535319\n",
      "2025-02-26 16:48:58,957 INFO yield speech len 0.6, rtf 1.3124620914459229\n"
     ]
    },
    {
     "name": "stdout",
     "output_type": "stream",
     "text": [
      "任务 2 进度：17\n",
      "任务 4 进度：17\n"
     ]
    },
    {
     "name": "stderr",
     "output_type": "stream",
     "text": [
      "2025-02-26 16:48:59,169 INFO yield speech len 0.6, rtf 1.640764077504476\n",
      "2025-02-26 16:48:59,196 INFO yield speech len 0.6, rtf 1.6064858436584473\n"
     ]
    },
    {
     "name": "stdout",
     "output_type": "stream",
     "text": [
      "任务 1 进度：17\n",
      "任务 3 进度：17\n"
     ]
    },
    {
     "name": "stderr",
     "output_type": "stream",
     "text": [
      "2025-02-26 16:48:59,549 INFO yield speech len 0.6, rtf 1.6746032238006592\n",
      "2025-02-26 16:48:59,728 INFO yield speech len 0.6, rtf 1.2898786862691245\n"
     ]
    },
    {
     "name": "stdout",
     "output_type": "stream",
     "text": [
      "任务 0 进度：18\n",
      "任务 2 进度：18\n"
     ]
    },
    {
     "name": "stderr",
     "output_type": "stream",
     "text": [
      "2025-02-26 16:48:59,801 INFO yield speech len 0.6, rtf 1.401881774266561\n"
     ]
    },
    {
     "name": "stdout",
     "output_type": "stream",
     "text": [
      "任务 4 进度：18\n"
     ]
    },
    {
     "name": "stderr",
     "output_type": "stream",
     "text": [
      "2025-02-26 16:49:00,034 INFO yield speech len 0.6, rtf 1.3929895559946697\n",
      "2025-02-26 16:49:00,146 INFO yield speech len 0.6, rtf 1.6234918435414634\n"
     ]
    },
    {
     "name": "stdout",
     "output_type": "stream",
     "text": [
      "任务 3 进度：18\n",
      "任务 1 进度：18\n"
     ]
    },
    {
     "name": "stderr",
     "output_type": "stream",
     "text": [
      "2025-02-26 16:49:00,527 INFO yield speech len 0.6, rtf 1.6251262029012046\n",
      "2025-02-26 16:49:00,616 INFO yield speech len 0.6, rtf 1.474597454071045\n"
     ]
    },
    {
     "name": "stdout",
     "output_type": "stream",
     "text": [
      "任务 0 进度：19\n",
      "任务 2 进度：19\n"
     ]
    },
    {
     "name": "stderr",
     "output_type": "stream",
     "text": [
      "2025-02-26 16:49:00,771 INFO yield speech len 0.6, rtf 1.6157241662343345\n"
     ]
    },
    {
     "name": "stdout",
     "output_type": "stream",
     "text": [
      "任务 4 进度：19\n"
     ]
    },
    {
     "name": "stderr",
     "output_type": "stream",
     "text": [
      "2025-02-26 16:49:01,006 INFO yield speech len 0.6, rtf 1.6156025727589927\n",
      "2025-02-26 16:49:01,142 INFO yield speech len 0.6, rtf 1.6580291589101157\n"
     ]
    },
    {
     "name": "stdout",
     "output_type": "stream",
     "text": [
      "任务 3 进度：19\n",
      "任务 1 进度：19\n"
     ]
    },
    {
     "name": "stderr",
     "output_type": "stream",
     "text": [
      "2025-02-26 16:49:01,573 INFO yield speech len 0.6, rtf 1.7392269770304363\n",
      "2025-02-26 16:49:01,662 INFO yield speech len 0.6, rtf 1.7400805155436199\n",
      "2025-02-26 16:49:01,736 INFO yield speech len 0.6, rtf 1.6017921765645347\n"
     ]
    },
    {
     "name": "stdout",
     "output_type": "stream",
     "text": [
      "任务 0 进度：20\n",
      "任务 2 进度：20\n",
      "任务 4 进度：20\n"
     ]
    },
    {
     "name": "stderr",
     "output_type": "stream",
     "text": [
      "2025-02-26 16:49:01,955 INFO yield speech len 0.6, rtf 1.577613353729248\n"
     ]
    },
    {
     "name": "stdout",
     "output_type": "stream",
     "text": [
      "任务 3 进度：20\n"
     ]
    },
    {
     "name": "stderr",
     "output_type": "stream",
     "text": [
      "2025-02-26 16:49:02,183 INFO yield speech len 0.6, rtf 1.7318860689798992\n"
     ]
    },
    {
     "name": "stdout",
     "output_type": "stream",
     "text": [
      "任务 1 进度：20\n"
     ]
    },
    {
     "name": "stderr",
     "output_type": "stream",
     "text": [
      "2025-02-26 16:49:02,653 INFO yield speech len 0.6, rtf 1.7956451574961345\n",
      "2025-02-26 16:49:02,762 INFO yield speech len 0.6, rtf 1.8296023209889731\n",
      "2025-02-26 16:49:02,825 INFO yield speech len 0.6, rtf 1.811505953470866\n",
      "2025-02-26 16:49:02,856 INFO yield speech len 0.6, rtf 1.4992670218149822\n"
     ]
    },
    {
     "name": "stdout",
     "output_type": "stream",
     "text": [
      "任务 0 进度：21\n",
      "任务 2 进度：21\n",
      "任务 4 进度：21\n",
      "任务 3 进度：21\n"
     ]
    },
    {
     "name": "stderr",
     "output_type": "stream",
     "text": [
      "2025-02-26 16:49:03,185 INFO yield speech len 0.6, rtf 1.6666062672932944\n"
     ]
    },
    {
     "name": "stdout",
     "output_type": "stream",
     "text": [
      "任务 1 进度：21\n"
     ]
    },
    {
     "name": "stderr",
     "output_type": "stream",
     "text": [
      "2025-02-26 16:49:03,751 INFO yield speech len 0.6, rtf 1.8263943990071616\n",
      "2025-02-26 16:49:03,871 INFO yield speech len 0.6, rtf 1.8427316347757976\n",
      "2025-02-26 16:49:03,874 INFO yield speech len 0.6, rtf 1.7447781562805176\n",
      "2025-02-26 16:49:03,918 INFO yield speech len 0.6, rtf 1.7651081085205078\n"
     ]
    },
    {
     "name": "stdout",
     "output_type": "stream",
     "text": [
      "任务 0 进度：22\n",
      "任务 2 进度：22\n",
      "任务 4 进度：22\n",
      "任务 3 进度：22\n"
     ]
    },
    {
     "name": "stderr",
     "output_type": "stream",
     "text": [
      "2025-02-26 16:49:03,998 INFO yield speech len 0.6, rtf 1.351468563079834\n"
     ]
    },
    {
     "name": "stdout",
     "output_type": "stream",
     "text": [
      "任务 1 进度：22\n"
     ]
    },
    {
     "name": "stderr",
     "output_type": "stream",
     "text": [
      "2025-02-26 16:49:04,572 INFO yield speech len 0.6, rtf 1.3628260294596355\n",
      "2025-02-26 16:49:04,716 INFO yield speech len 0.6, rtf 1.4044729868570964\n"
     ]
    },
    {
     "name": "stdout",
     "output_type": "stream",
     "text": [
      "任务 0 进度：23\n",
      "任务 2 进度：23\n"
     ]
    },
    {
     "name": "stderr",
     "output_type": "stream",
     "text": [
      "2025-02-26 16:49:04,841 INFO yield speech len 0.6, rtf 1.537534793217977\n",
      "2025-02-26 16:49:04,844 INFO yield speech len 0.6, rtf 1.6141176223754883\n",
      "2025-02-26 16:49:04,994 INFO yield speech len 0.6, rtf 1.6554951667785645\n"
     ]
    },
    {
     "name": "stdout",
     "output_type": "stream",
     "text": [
      "任务 3 进度：23\n",
      "任务 4 进度：23\n",
      "任务 1 进度：23\n"
     ]
    },
    {
     "name": "stderr",
     "output_type": "stream",
     "text": [
      "2025-02-26 16:49:05,998 INFO yield speech len 0.6, rtf 2.372586727142334\n"
     ]
    },
    {
     "name": "stdout",
     "output_type": "stream",
     "text": [
      "任务 0 进度：24\n"
     ]
    },
    {
     "name": "stderr",
     "output_type": "stream",
     "text": [
      "2025-02-26 16:49:06,355 INFO yield speech len 0.28, rtf 5.850079229899815\n",
      "\n",
      "\u001b[A2025-02-26 16:49:06,444 INFO synthesis text 目标是将对方的国王置于无法逃脱的“将死”状态。\n",
      "2025-02-26 16:49:06,448 INFO yield speech len 0.08, rtf 20.04215121269226\n",
      "\n",
      "\n",
      "\n",
      "\u001b[A\u001b[A\u001b[A"
     ]
    },
    {
     "name": "stdout",
     "output_type": "stream",
     "text": [
      "任务 2 进度：24\n",
      "任务 4 进度：24\n"
     ]
    },
    {
     "name": "stderr",
     "output_type": "stream",
     "text": [
      "2025-02-26 16:49:06,563 INFO synthesis text 目标是将对方的国王置于无法逃脱的“将死”状态。\n",
      "2025-02-26 16:49:06,567 INFO yield speech len 0.6, rtf 2.874443531036377\n",
      "2025-02-26 16:49:06,576 INFO yield speech len 0.6, rtf 2.6323870817820234\n",
      "2025-02-26 16:49:06,744 INFO yield speech len 0.6, rtf 1.2380035718282065\n"
     ]
    },
    {
     "name": "stdout",
     "output_type": "stream",
     "text": [
      "任务 3 进度：24\n",
      "任务 1 进度：24\n",
      "任务 0 进度：25\n"
     ]
    },
    {
     "name": "stderr",
     "output_type": "stream",
     "text": [
      "2025-02-26 16:49:07,298 INFO yield speech len 0.6, rtf 1.2179124355316162\n",
      "2025-02-26 16:49:07,387 INFO yield speech len 0.6, rtf 1.3510477542877197\n"
     ]
    },
    {
     "name": "stdout",
     "output_type": "stream",
     "text": [
      "任务 3 进度：25\n",
      "任务 1 进度：25\n"
     ]
    },
    {
     "name": "stderr",
     "output_type": "stream",
     "text": [
      "2025-02-26 16:49:07,685 INFO yield speech len 0.6, rtf 1.5674765904744468\n",
      "2025-02-26 16:49:07,757 INFO yield speech len 0.44, rtf 2.9831832105463203\n",
      "2025-02-26 16:49:07,819 INFO yield speech len 0.44, rtf 2.8544252569025215\n"
     ]
    },
    {
     "name": "stdout",
     "output_type": "stream",
     "text": [
      "任务 0 进度：26\n",
      "任务 2 进度：25\n",
      "任务 4 进度：25\n"
     ]
    },
    {
     "name": "stderr",
     "output_type": "stream",
     "text": [
      "2025-02-26 16:49:08,265 INFO yield speech len 0.6, rtf 1.6098920504252117\n",
      "2025-02-26 16:49:08,416 INFO yield speech len 0.52, rtf 1.9775065091940072\n"
     ]
    },
    {
     "name": "stdout",
     "output_type": "stream",
     "text": [
      "任务 3 进度：26\n",
      "任务 1 进度：26\n"
     ]
    },
    {
     "name": "stderr",
     "output_type": "stream",
     "text": [
      "2025-02-26 16:49:08,497 INFO synthesis text 目标是将对方的国王置于无法逃脱的“将死”状态。\n",
      "2025-02-26 16:49:08,631 INFO yield speech len 0.6, rtf 1.575453281402588\n",
      "2025-02-26 16:49:08,754 INFO yield speech len 0.6, rtf 1.6618450482686362\n",
      "2025-02-26 16:49:08,761 INFO yield speech len 0.6, rtf 1.568965514500936\n"
     ]
    },
    {
     "name": "stdout",
     "output_type": "stream",
     "text": [
      "任务 0 进度：27\n",
      "任务 2 进度：26\n",
      "任务 4 进度：26\n"
     ]
    },
    {
     "name": "stderr",
     "output_type": "stream",
     "text": [
      "2025-02-26 16:49:08,961 INFO llm job done\n",
      "2025-02-26 16:49:08,980 INFO llm job done\n",
      "2025-02-26 16:49:09,120 INFO yield speech len 0.36, rtf 2.3717290825313992\n",
      "\n",
      "\n",
      "\u001b[A\u001b[A2025-02-26 16:49:09,177 INFO synthesis text 目标是将对方的国王置于无法逃脱的“将死”状态。\n",
      "2025-02-26 16:49:09,296 INFO yield speech len 0.6, rtf 1.107455094655355\n"
     ]
    },
    {
     "name": "stdout",
     "output_type": "stream",
     "text": [
      "任务 3 进度：27\n",
      "任务 0 进度：28\n"
     ]
    },
    {
     "name": "stderr",
     "output_type": "stream",
     "text": [
      "2025-02-26 16:49:09,456 INFO yield speech len 0.6, rtf 1.1579557259877524\n",
      "2025-02-26 16:49:09,467 INFO yield speech len 0.44, rtf 2.2031616080891\n",
      "2025-02-26 16:49:09,499 INFO yield speech len 0.6, rtf 1.2404990196228027\n"
     ]
    },
    {
     "name": "stdout",
     "output_type": "stream",
     "text": [
      "任务 4 进度：27\n",
      "任务 1 进度：27\n",
      "任务 2 进度：27\n"
     ]
    },
    {
     "name": "stderr",
     "output_type": "stream",
     "text": [
      "2025-02-26 16:49:09,891 INFO yield speech len 0.6, rtf 0.9901487827301025\n",
      "2025-02-26 16:49:10,040 INFO yield speech len 0.44, rtf 1.9619426944039084\n",
      "2025-02-26 16:49:10,087 INFO yield speech len 0.6, rtf 1.0500435034434001\n"
     ]
    },
    {
     "name": "stdout",
     "output_type": "stream",
     "text": [
      "任务 0 进度：29\n",
      "任务 3 进度：28\n",
      "任务 4 进度：28\n"
     ]
    },
    {
     "name": "stderr",
     "output_type": "stream",
     "text": [
      "2025-02-26 16:49:10,142 INFO yield speech len 0.6, rtf 1.0703078905741374\n",
      "2025-02-26 16:49:10,162 INFO yield speech len 0.6, rtf 1.1585958798726401\n"
     ]
    },
    {
     "name": "stdout",
     "output_type": "stream",
     "text": [
      "任务 2 进度：28\n",
      "任务 1 进度：28\n"
     ]
    },
    {
     "name": "stderr",
     "output_type": "stream",
     "text": [
      "2025-02-26 16:49:10,519 INFO llm job done\n",
      "2025-02-26 16:49:10,546 INFO yield speech len 0.12, rtf 5.448840061823527\n",
      " 50%|█████     | 1/2 [00:21<00:21, 21.56s/it]2025-02-26 16:49:10,603 INFO synthesis text 目标是将对方的国王置于无法逃脱的“将死”状态。\n",
      "2025-02-26 16:49:10,635 INFO yield speech len 0.6, rtf 0.9126468499501547\n",
      "2025-02-26 16:49:10,661 INFO yield speech len 0.6, rtf 1.0336740811665854\n",
      "2025-02-26 16:49:10,676 INFO yield speech len 0.6, rtf 0.8885653813680013\n",
      "2025-02-26 16:49:10,693 INFO llm job done\n",
      "2025-02-26 16:49:10,720 INFO yield speech len 0.6, rtf 0.9275595347086589\n"
     ]
    },
    {
     "name": "stdout",
     "output_type": "stream",
     "text": [
      "任务 0 进度：30\n",
      "任务 4 进度：29\n",
      "任务 3 进度：29\n",
      "任务 2 进度：29\n",
      "任务 1 进度：29\n"
     ]
    },
    {
     "name": "stderr",
     "output_type": "stream",
     "text": [
      "2025-02-26 16:49:10,973 INFO yield speech len 0.6, rtf 0.562271277109782\n",
      "2025-02-26 16:49:11,026 INFO yield speech len 0.6, rtf 0.5815776189168295\n",
      "2025-02-26 16:49:11,123 INFO yield speech len 0.6, rtf 0.7677741845448812\n",
      "2025-02-26 16:49:11,164 INFO yield speech len 0.6, rtf 0.7384848594665527\n"
     ]
    },
    {
     "name": "stdout",
     "output_type": "stream",
     "text": [
      "任务 4 进度：30\n",
      "任务 2 进度：30\n",
      "任务 3 进度：30\n",
      "任务 1 进度：30\n"
     ]
    },
    {
     "name": "stderr",
     "output_type": "stream",
     "text": [
      "2025-02-26 16:49:11,340 INFO yield speech len 0.44, rtf 1.6753651879050515\n",
      "2025-02-26 16:49:11,478 INFO yield speech len 0.6, rtf 0.8407855033874512\n",
      "2025-02-26 16:49:11,524 INFO yield speech len 0.6, rtf 0.8282744884490967\n"
     ]
    },
    {
     "name": "stdout",
     "output_type": "stream",
     "text": [
      "任务 0 进度：31\n",
      "任务 4 进度：31\n",
      "任务 2 进度：31\n"
     ]
    },
    {
     "name": "stderr",
     "output_type": "stream",
     "text": [
      "2025-02-26 16:49:11,634 INFO yield speech len 0.6, rtf 0.8499415715535482\n",
      "2025-02-26 16:49:11,675 INFO yield speech len 0.6, rtf 0.8517738183339437\n"
     ]
    },
    {
     "name": "stdout",
     "output_type": "stream",
     "text": [
      "任务 3 进度：31\n",
      "任务 1 进度：31\n"
     ]
    },
    {
     "name": "stderr",
     "output_type": "stream",
     "text": [
      "2025-02-26 16:49:11,887 INFO llm job done\n",
      "2025-02-26 16:49:11,893 INFO yield speech len 0.6, rtf 0.9208448727925619\n",
      "2025-02-26 16:49:12,009 INFO yield speech len 0.6, rtf 0.8827229340871176\n"
     ]
    },
    {
     "name": "stdout",
     "output_type": "stream",
     "text": [
      "任务 0 进度：32\n",
      "任务 4 进度：32\n"
     ]
    },
    {
     "name": "stderr",
     "output_type": "stream",
     "text": [
      "2025-02-26 16:49:12,195 INFO yield speech len 0.6, rtf 1.1167506376902263\n"
     ]
    },
    {
     "name": "stdout",
     "output_type": "stream",
     "text": [
      "任务 2 进度：32\n"
     ]
    },
    {
     "name": "stderr",
     "output_type": "stream",
     "text": [
      "2025-02-26 16:49:12,651 INFO yield speech len 0.6, rtf 1.6947623093922934\n",
      "2025-02-26 16:49:12,778 INFO yield speech len 0.6, rtf 1.8371816476186118\n"
     ]
    },
    {
     "name": "stdout",
     "output_type": "stream",
     "text": [
      "任务 3 进度：32\n",
      "任务 1 进度：32\n"
     ]
    },
    {
     "name": "stderr",
     "output_type": "stream",
     "text": [
      "2025-02-26 16:49:13,437 INFO yield speech len 0.6, rtf 2.5713328520456953\n"
     ]
    },
    {
     "name": "stdout",
     "output_type": "stream",
     "text": [
      "任务 0 进度：33\n"
     ]
    },
    {
     "name": "stderr",
     "output_type": "stream",
     "text": [
      "2025-02-26 16:49:13,714 INFO yield speech len 0.6, rtf 2.838443120320638\n",
      "2025-02-26 16:49:13,829 INFO yield speech len 0.6, rtf 2.7186624209086103\n"
     ]
    },
    {
     "name": "stdout",
     "output_type": "stream",
     "text": [
      "任务 4 进度：33\n",
      "任务 2 进度：33\n"
     ]
    },
    {
     "name": "stderr",
     "output_type": "stream",
     "text": [
      "2025-02-26 16:49:14,186 INFO yield speech len 0.6, rtf 2.5540558497111006\n"
     ]
    },
    {
     "name": "stdout",
     "output_type": "stream",
     "text": [
      "任务 3 进度：33\n"
     ]
    },
    {
     "name": "stderr",
     "output_type": "stream",
     "text": [
      "2025-02-26 16:49:14,427 INFO yield speech len 0.6, rtf 2.744302749633789\n"
     ]
    },
    {
     "name": "stdout",
     "output_type": "stream",
     "text": [
      "任务 1 进度：33\n"
     ]
    },
    {
     "name": "stderr",
     "output_type": "stream",
     "text": [
      "2025-02-26 16:49:14,945 INFO yield speech len 0.6, rtf 2.5099114576975508\n",
      "2025-02-26 16:49:15,087 INFO yield speech len 0.6, rtf 2.2834249337514243\n"
     ]
    },
    {
     "name": "stdout",
     "output_type": "stream",
     "text": [
      "任务 0 进度：34\n",
      "任务 4 进度：34\n"
     ]
    },
    {
     "name": "stderr",
     "output_type": "stream",
     "text": [
      "2025-02-26 16:49:15,265 INFO yield speech len 0.6, rtf 2.3917023340861006\n"
     ]
    },
    {
     "name": "stdout",
     "output_type": "stream",
     "text": [
      "任务 2 进度：34\n"
     ]
    },
    {
     "name": "stderr",
     "output_type": "stream",
     "text": [
      "2025-02-26 16:49:15,762 INFO yield speech len 0.6, rtf 2.622547149658203\n"
     ]
    },
    {
     "name": "stdout",
     "output_type": "stream",
     "text": [
      "任务 3 进度：34\n"
     ]
    },
    {
     "name": "stderr",
     "output_type": "stream",
     "text": [
      "2025-02-26 16:49:16,015 INFO yield speech len 0.6, rtf 2.64504075050354\n"
     ]
    },
    {
     "name": "stdout",
     "output_type": "stream",
     "text": [
      "任务 1 进度：34\n"
     ]
    },
    {
     "name": "stderr",
     "output_type": "stream",
     "text": [
      "2025-02-26 16:49:16,646 INFO yield speech len 0.6, rtf 2.832890748977661\n"
     ]
    },
    {
     "name": "stdout",
     "output_type": "stream",
     "text": [
      "任务 0 进度：35\n"
     ]
    },
    {
     "name": "stderr",
     "output_type": "stream",
     "text": [
      "2025-02-26 16:49:16,968 INFO yield speech len 0.6, rtf 2.8360652923583984\n",
      "2025-02-26 16:49:16,985 INFO yield speech len 0.28, rtf 6.769071306501115\n",
      "\n",
      "\n",
      "\n",
      "100%|██████████| 2/2 [00:27<00:00, 13.84s/it]\n"
     ]
    },
    {
     "name": "stdout",
     "output_type": "stream",
     "text": [
      "任务 2 进度：35\n",
      "任务 4 进度：35\n",
      "任务 4 完成，生成 35 个片段\n"
     ]
    },
    {
     "name": "stderr",
     "output_type": "stream",
     "text": [
      "2025-02-26 16:49:17,377 INFO yield speech len 0.6, rtf 2.686423460642497\n"
     ]
    },
    {
     "name": "stdout",
     "output_type": "stream",
     "text": [
      "任务 3 进度：35\n"
     ]
    },
    {
     "name": "stderr",
     "output_type": "stream",
     "text": [
      "2025-02-26 16:49:17,610 INFO yield speech len 0.6, rtf 2.653677860895793\n"
     ]
    },
    {
     "name": "stdout",
     "output_type": "stream",
     "text": [
      "任务 1 进度：35\n"
     ]
    },
    {
     "name": "stderr",
     "output_type": "stream",
     "text": [
      "2025-02-26 16:49:18,139 INFO yield speech len 0.6, rtf 2.4837438265482588\n"
     ]
    },
    {
     "name": "stdout",
     "output_type": "stream",
     "text": [
      "任务 0 进度：36\n"
     ]
    },
    {
     "name": "stderr",
     "output_type": "stream",
     "text": [
      "2025-02-26 16:49:18,431 INFO yield speech len 0.08, rtf 18.264010548591614\n",
      "\n",
      "100%|██████████| 2/2 [00:29<00:00, 14.62s/it]\n"
     ]
    },
    {
     "name": "stdout",
     "output_type": "stream",
     "text": [
      "任务 2 进度：36\n",
      "任务 2 完成，生成 36 个片段\n"
     ]
    },
    {
     "name": "stderr",
     "output_type": "stream",
     "text": [
      "2025-02-26 16:49:18,781 INFO yield speech len 0.32, rtf 4.379982501268387\n",
      "\n",
      "\n",
      "100%|██████████| 2/2 [00:29<00:00, 14.77s/it]\n",
      "2025-02-26 16:49:18,851 INFO yield speech len 0.6, rtf 2.0633141199747724\n",
      "2025-02-26 16:49:18,888 INFO yield speech len 0.6, rtf 1.2472732861836753\n"
     ]
    },
    {
     "name": "stdout",
     "output_type": "stream",
     "text": [
      "任务 3 进度：36\n",
      "任务 3 完成，生成 36 个片段\n",
      "任务 1 进度：36\n",
      "任务 0 进度：37\n"
     ]
    },
    {
     "name": "stderr",
     "output_type": "stream",
     "text": [
      "2025-02-26 16:49:19,761 INFO yield speech len 0.6, rtf 1.4504416783650718\n",
      "2025-02-26 16:49:19,829 INFO yield speech len 0.32, rtf 3.048519790172577\n",
      "100%|██████████| 2/2 [00:30<00:00, 15.38s/it]\n",
      "2025-02-26 16:49:19,958 INFO yield speech len 0.48, rtf 0.40528873602549237\n",
      "100%|██████████| 2/2 [00:30<00:00, 15.48s/it]\n"
     ]
    },
    {
     "name": "stdout",
     "output_type": "stream",
     "text": [
      "任务 0 进度：38\n",
      "任务 1 进度：37\n",
      "任务 1 完成，生成 37 个片段\n",
      "任务 0 进度：39\n",
      "任务 0 完成，生成 39 个片段\n",
      "--- 31.008228540420532 seconds ---\n"
     ]
    }
   ],
   "source": [
    "import time\n",
    "start_time = time.time()\n",
    "await test_concurrent_instruct(5, semaphore_limit=5, stream=True)\n",
    "print(\"--- %s seconds ---\" % (time.time() - start_time))"
   ]
  },
  {
   "cell_type": "code",
   "execution_count": 14,
   "metadata": {},
   "outputs": [
    {
     "name": "stderr",
     "output_type": "stream",
     "text": [
      "  0%|          | 0/2 [00:00<?, ?it/s]2025-02-26 16:58:03,030 INFO synthesis text 这是任务零，国际象棋是一种两人对弈的策略游戏，使用一个八x八的棋盘。每位玩家有十六个棋子，包括国王、皇后、车、象、马和兵。\n",
      "2025-02-26 16:58:03,089 INFO synthesis text 这是任务一，国际象棋是一种两人对弈的策略游戏，使用一个八x八的棋盘。每位玩家有十六个棋子，包括国王、皇后、车、象、马和兵。\n",
      "\n",
      "\u001b[A2025-02-26 16:58:03,148 INFO synthesis text 这是任务二，国际象棋是一种两人对弈的策略游戏，使用一个八x八的棋盘。每位玩家有十六个棋子，包括国王、皇后、车、象、马和兵。\n",
      "\n",
      "\n",
      "\u001b[A\u001b[A2025-02-26 16:58:03,206 INFO synthesis text 这是任务三，国际象棋是一种两人对弈的策略游戏，使用一个八x八的棋盘。每位玩家有十六个棋子，包括国王、皇后、车、象、马和兵。\n",
      "\n",
      "\n",
      "\n",
      "\u001b[A\u001b[A\u001b[A2025-02-26 16:58:03,266 INFO synthesis text 这是任务四，国际象棋是一种两人对弈的策略游戏，使用一个八x八的棋盘。每位玩家有十六个棋子，包括国王、皇后、车、象、马和兵。\n",
      "\n",
      "\n",
      "\n",
      "\n",
      "\u001b[A\u001b[A\u001b[A\u001b[A2025-02-26 16:58:03,325 INFO synthesis text 这是任务五，国际象棋是一种两人对弈的策略游戏，使用一个八x八的棋盘。每位玩家有十六个棋子，包括国王、皇后、车、象、马和兵。\n",
      "\n",
      "\n",
      "\n",
      "\n",
      "\n",
      "\u001b[A\u001b[A\u001b[A\u001b[A\u001b[A2025-02-26 16:58:03,386 INFO synthesis text 这是任务六，国际象棋是一种两人对弈的策略游戏，使用一个八x八的棋盘。每位玩家有十六个棋子，包括国王、皇后、车、象、马和兵。\n",
      "\n",
      "\n",
      "\n",
      "\n",
      "\n",
      "\n",
      "\u001b[A\u001b[A\u001b[A\u001b[A\u001b[A\u001b[A2025-02-26 16:58:03,448 INFO synthesis text 这是任务七，国际象棋是一种两人对弈的策略游戏，使用一个八x八的棋盘。每位玩家有十六个棋子，包括国王、皇后、车、象、马和兵。\n",
      "\n",
      "\n",
      "\n",
      "\n",
      "\n",
      "\n",
      "\n",
      "\u001b[A\u001b[A\u001b[A\u001b[A\u001b[A\u001b[A\u001b[A2025-02-26 16:58:03,508 INFO synthesis text 这是任务八，国际象棋是一种两人对弈的策略游戏，使用一个八x八的棋盘。每位玩家有十六个棋子，包括国王、皇后、车、象、马和兵。\n",
      "\n",
      "\n",
      "\n",
      "\n",
      "\n",
      "\n",
      "\n",
      "\n",
      "\u001b[A\u001b[A\u001b[A\u001b[A\u001b[A\u001b[A\u001b[A\u001b[A2025-02-26 16:58:03,568 INFO synthesis text 这是任务九，国际象棋是一种两人对弈的策略游戏，使用一个八x八的棋盘。每位玩家有十六个棋子，包括国王、皇后、车、象、马和兵。\n",
      "2025-02-26 16:58:04,254 INFO yield speech len 0.44, rtf 1.6940501603213223\n",
      "2025-02-26 16:58:04,266 INFO yield speech len 0.44, rtf 1.5874635089527478\n",
      "2025-02-26 16:58:04,319 INFO yield speech len 0.44, rtf 2.5314612822099165\n",
      "2025-02-26 16:58:04,328 INFO yield speech len 0.44, rtf 2.279730276627974\n",
      "2025-02-26 16:58:04,364 INFO yield speech len 0.44, rtf 3.031112930991433\n",
      "2025-02-26 16:58:04,366 INFO yield speech len 0.44, rtf 2.9021788727153432\n",
      "2025-02-26 16:58:04,369 INFO yield speech len 0.44, rtf 2.2332792932336982\n",
      "2025-02-26 16:58:04,436 INFO yield speech len 0.44, rtf 2.245481989600442\n",
      "2025-02-26 16:58:04,438 INFO yield speech len 0.44, rtf 2.9317471114071934\n",
      "2025-02-26 16:58:04,441 INFO yield speech len 0.44, rtf 2.6709323579614814\n"
     ]
    },
    {
     "name": "stdout",
     "output_type": "stream",
     "text": [
      "任务 8 进度：1\n",
      "任务 9 进度：1\n",
      "任务 3 进度：1\n",
      "任务 5 进度：1\n",
      "任务 0 进度：1\n",
      "任务 1 进度：1\n",
      "任务 6 进度：1\n",
      "任务 7 进度：1\n",
      "任务 2 进度：1\n",
      "任务 4 进度：1\n"
     ]
    },
    {
     "name": "stderr",
     "output_type": "stream",
     "text": [
      "2025-02-26 16:58:04,774 INFO yield speech len 0.6, rtf 0.8665215969085693\n",
      "2025-02-26 16:58:04,775 INFO yield speech len 0.6, rtf 0.8472200234731039\n",
      "2025-02-26 16:58:04,887 INFO yield speech len 0.6, rtf 0.9444197018941244\n",
      "2025-02-26 16:58:04,893 INFO yield speech len 0.6, rtf 0.9392706553141277\n",
      "2025-02-26 16:58:04,951 INFO yield speech len 0.6, rtf 0.9750930468241374\n"
     ]
    },
    {
     "name": "stdout",
     "output_type": "stream",
     "text": [
      "任务 8 进度：2\n",
      "任务 9 进度：2\n",
      "任务 3 进度：2\n",
      "任务 5 进度：2\n",
      "任务 1 进度：2\n"
     ]
    },
    {
     "name": "stderr",
     "output_type": "stream",
     "text": [
      "2025-02-26 16:58:04,975 INFO yield speech len 0.6, rtf 1.017893155415853\n",
      "2025-02-26 16:58:04,991 INFO yield speech len 0.6, rtf 1.0371887683868408\n",
      "2025-02-26 16:58:05,108 INFO yield speech len 0.6, rtf 1.1152080694834392\n",
      "2025-02-26 16:58:05,129 INFO yield speech len 0.6, rtf 1.1529552936553955\n",
      "2025-02-26 16:58:05,144 INFO yield speech len 0.6, rtf 1.1708132425944011\n"
     ]
    },
    {
     "name": "stdout",
     "output_type": "stream",
     "text": [
      "任务 0 进度：2\n",
      "任务 6 进度：2\n",
      "任务 2 进度：2\n",
      "任务 7 进度：2\n",
      "任务 4 进度：2\n"
     ]
    },
    {
     "name": "stderr",
     "output_type": "stream",
     "text": [
      "2025-02-26 16:58:05,450 INFO yield speech len 0.6, rtf 1.1251274744669597\n",
      "2025-02-26 16:58:05,452 INFO yield speech len 0.6, rtf 1.1275331179300945\n",
      "2025-02-26 16:58:05,536 INFO yield speech len 0.6, rtf 1.0805829366048179\n",
      "2025-02-26 16:58:05,558 INFO yield speech len 0.6, rtf 1.1086523532867432\n",
      "2025-02-26 16:58:05,585 INFO yield speech len 0.6, rtf 1.0551226139068604\n",
      "2025-02-26 16:58:05,635 INFO yield speech len 0.6, rtf 1.0977609952290854\n"
     ]
    },
    {
     "name": "stdout",
     "output_type": "stream",
     "text": [
      "任务 8 进度：3\n",
      "任务 9 进度：3\n",
      "任务 3 进度：3\n",
      "任务 5 进度：3\n",
      "任务 1 进度：3\n",
      "任务 0 进度：3\n"
     ]
    },
    {
     "name": "stderr",
     "output_type": "stream",
     "text": [
      "2025-02-26 16:58:05,663 INFO yield speech len 0.6, rtf 1.1190430323282878\n",
      "2025-02-26 16:58:05,834 INFO yield speech len 0.6, rtf 1.2090941270192466\n",
      "2025-02-26 16:58:05,841 INFO yield speech len 0.6, rtf 1.1847138404846191\n"
     ]
    },
    {
     "name": "stdout",
     "output_type": "stream",
     "text": [
      "任务 6 进度：3\n",
      "任务 2 进度：3\n",
      "任务 7 进度：3\n"
     ]
    },
    {
     "name": "stderr",
     "output_type": "stream",
     "text": [
      "2025-02-26 16:58:05,868 INFO yield speech len 0.6, rtf 1.204235553741455\n"
     ]
    },
    {
     "name": "stdout",
     "output_type": "stream",
     "text": [
      "任务 4 进度：3\n"
     ]
    },
    {
     "name": "stderr",
     "output_type": "stream",
     "text": [
      "2025-02-26 16:58:06,181 INFO yield speech len 0.6, rtf 1.2137254079182944\n",
      "2025-02-26 16:58:06,203 INFO yield speech len 0.6, rtf 1.253976821899414\n",
      "2025-02-26 16:58:06,327 INFO yield speech len 0.6, rtf 1.3190003236134848\n",
      "2025-02-26 16:58:06,330 INFO yield speech len 0.6, rtf 1.2854115168253581\n",
      "2025-02-26 16:58:06,354 INFO yield speech len 0.6, rtf 1.280715068181356\n"
     ]
    },
    {
     "name": "stdout",
     "output_type": "stream",
     "text": [
      "任务 9 进度：4\n",
      "任务 8 进度：4\n",
      "任务 3 进度：4\n",
      "任务 5 进度：4\n",
      "任务 1 进度：4\n"
     ]
    },
    {
     "name": "stderr",
     "output_type": "stream",
     "text": [
      "2025-02-26 16:58:06,413 INFO yield speech len 0.6, rtf 1.2966835498809814\n",
      "2025-02-26 16:58:06,444 INFO yield speech len 0.6, rtf 1.300038496653239\n"
     ]
    },
    {
     "name": "stdout",
     "output_type": "stream",
     "text": [
      "任务 0 进度：4\n",
      "任务 6 进度：4\n"
     ]
    },
    {
     "name": "stderr",
     "output_type": "stream",
     "text": [
      "2025-02-26 16:58:06,624 INFO yield speech len 0.6, rtf 1.314991315205892\n",
      "2025-02-26 16:58:06,625 INFO yield speech len 0.6, rtf 1.3065667947133384\n",
      "2025-02-26 16:58:06,690 INFO yield speech len 0.6, rtf 1.3699603080749512\n"
     ]
    },
    {
     "name": "stdout",
     "output_type": "stream",
     "text": [
      "任务 2 进度：4\n",
      "任务 7 进度：4\n",
      "任务 4 进度：4\n"
     ]
    },
    {
     "name": "stderr",
     "output_type": "stream",
     "text": [
      "2025-02-26 16:58:06,981 INFO yield speech len 0.6, rtf 1.3319611549377441\n",
      "2025-02-26 16:58:07,041 INFO yield speech len 0.6, rtf 1.3936408360799155\n",
      "2025-02-26 16:58:07,128 INFO yield speech len 0.6, rtf 1.3330137729644775\n",
      "2025-02-26 16:58:07,132 INFO yield speech len 0.6, rtf 1.3354865709940593\n",
      "2025-02-26 16:58:07,151 INFO yield speech len 0.6, rtf 1.3278146584828696\n"
     ]
    },
    {
     "name": "stdout",
     "output_type": "stream",
     "text": [
      "任务 9 进度：5\n",
      "任务 8 进度：5\n",
      "任务 3 进度：5\n",
      "任务 5 进度：5\n",
      "任务 1 进度：5\n"
     ]
    },
    {
     "name": "stderr",
     "output_type": "stream",
     "text": [
      "2025-02-26 16:58:07,212 INFO yield speech len 0.6, rtf 1.329484780629476\n",
      "2025-02-26 16:58:07,266 INFO yield speech len 0.6, rtf 1.3685417175292969\n"
     ]
    },
    {
     "name": "stdout",
     "output_type": "stream",
     "text": [
      "任务 0 进度：5\n",
      "任务 6 进度：5\n"
     ]
    },
    {
     "name": "stderr",
     "output_type": "stream",
     "text": [
      "2025-02-26 16:58:07,479 INFO yield speech len 0.6, rtf 1.4222113291422527\n",
      "2025-02-26 16:58:07,510 INFO yield speech len 0.6, rtf 1.4750289916992188\n",
      "2025-02-26 16:58:07,597 INFO yield speech len 0.6, rtf 1.5093151728312175\n"
     ]
    },
    {
     "name": "stdout",
     "output_type": "stream",
     "text": [
      "任务 7 进度：5\n",
      "任务 2 进度：5\n",
      "任务 4 进度：5\n"
     ]
    },
    {
     "name": "stderr",
     "output_type": "stream",
     "text": [
      "2025-02-26 16:58:07,854 INFO yield speech len 0.6, rtf 1.4529756704966228\n",
      "2025-02-26 16:58:07,913 INFO yield speech len 0.6, rtf 1.4533865451812744\n",
      "2025-02-26 16:58:07,999 INFO yield speech len 0.6, rtf 1.4508819580078125\n",
      "2025-02-26 16:58:08,039 INFO yield speech len 0.6, rtf 1.5114847819010417\n"
     ]
    },
    {
     "name": "stdout",
     "output_type": "stream",
     "text": [
      "任务 9 进度：6\n",
      "任务 8 进度：6\n",
      "任务 3 进度：6\n",
      "任务 5 进度：6\n"
     ]
    },
    {
     "name": "stderr",
     "output_type": "stream",
     "text": [
      "2025-02-26 16:58:08,070 INFO yield speech len 0.6, rtf 1.530165672302246\n",
      "2025-02-26 16:58:08,143 INFO yield speech len 0.6, rtf 1.5496885776519775\n",
      "2025-02-26 16:58:08,166 INFO yield speech len 0.6, rtf 1.4996151129404705\n"
     ]
    },
    {
     "name": "stdout",
     "output_type": "stream",
     "text": [
      "任务 1 进度：6\n",
      "任务 0 进度：6\n",
      "任务 6 进度：6\n"
     ]
    },
    {
     "name": "stderr",
     "output_type": "stream",
     "text": [
      "2025-02-26 16:58:08,402 INFO yield speech len 0.6, rtf 1.5374982357025146\n",
      "2025-02-26 16:58:08,443 INFO yield speech len 0.6, rtf 1.5547287464141846\n",
      "2025-02-26 16:58:08,444 INFO llm job done\n",
      "2025-02-26 16:58:08,523 INFO yield speech len 0.6, rtf 1.5421791871388755\n"
     ]
    },
    {
     "name": "stdout",
     "output_type": "stream",
     "text": [
      "任务 7 进度：6\n",
      "任务 2 进度：6\n",
      "任务 4 进度：6\n"
     ]
    },
    {
     "name": "stderr",
     "output_type": "stream",
     "text": [
      "2025-02-26 16:58:08,695 INFO llm job done\n",
      "2025-02-26 16:58:08,768 INFO llm job done\n",
      "2025-02-26 16:58:08,789 INFO yield speech len 0.6, rtf 1.55765970547994\n",
      "2025-02-26 16:58:08,895 INFO yield speech len 0.6, rtf 1.635496218999227\n",
      "2025-02-26 16:58:08,901 INFO llm job done\n",
      "2025-02-26 16:58:08,959 INFO yield speech len 0.6, rtf 1.598793665568034\n"
     ]
    },
    {
     "name": "stdout",
     "output_type": "stream",
     "text": [
      "任务 9 进度：7\n",
      "任务 8 进度：7\n",
      "任务 3 进度：7\n"
     ]
    },
    {
     "name": "stderr",
     "output_type": "stream",
     "text": [
      "2025-02-26 16:58:09,001 INFO yield speech len 0.6, rtf 1.6006592909495037\n",
      "2025-02-26 16:58:09,106 INFO yield speech len 0.6, rtf 1.6041560967763266\n",
      "2025-02-26 16:58:09,129 INFO yield speech len 0.6, rtf 1.6041811307271323\n",
      "2025-02-26 16:58:09,135 INFO yield speech len 0.6, rtf 1.7727839946746826\n"
     ]
    },
    {
     "name": "stdout",
     "output_type": "stream",
     "text": [
      "任务 5 进度：7\n",
      "任务 0 进度：7\n",
      "任务 6 进度：7\n",
      "任务 1 进度：7\n"
     ]
    },
    {
     "name": "stderr",
     "output_type": "stream",
     "text": [
      "2025-02-26 16:58:09,203 INFO llm job done\n",
      "2025-02-26 16:58:09,266 INFO llm job done\n",
      "2025-02-26 16:58:09,314 INFO llm job done\n",
      "2025-02-26 16:58:09,350 INFO yield speech len 0.6, rtf 1.5793335437774658\n",
      "2025-02-26 16:58:09,388 INFO yield speech len 0.6, rtf 1.5746605396270752\n",
      "2025-02-26 16:58:09,390 INFO llm job done\n",
      "2025-02-26 16:58:09,476 INFO yield speech len 0.6, rtf 1.5878613789876304\n"
     ]
    },
    {
     "name": "stdout",
     "output_type": "stream",
     "text": [
      "任务 7 进度：7\n",
      "任务 2 进度：7\n",
      "任务 4 进度：7\n"
     ]
    },
    {
     "name": "stderr",
     "output_type": "stream",
     "text": [
      "2025-02-26 16:58:09,636 INFO llm job done\n",
      "2025-02-26 16:58:09,743 INFO yield speech len 0.6, rtf 1.411950985590617\n",
      "2025-02-26 16:58:09,806 INFO yield speech len 0.6, rtf 1.6946605841318767\n",
      "2025-02-26 16:58:09,916 INFO llm job done\n"
     ]
    },
    {
     "name": "stdout",
     "output_type": "stream",
     "text": [
      "任务 8 进度：8\n",
      "任务 9 进度：8\n"
     ]
    },
    {
     "name": "stderr",
     "output_type": "stream",
     "text": [
      "2025-02-26 16:58:09,955 INFO yield speech len 0.6, rtf 1.6586395104726157\n",
      "2025-02-26 16:58:10,051 INFO yield speech len 0.6, rtf 1.7489270369211833\n",
      "2025-02-26 16:58:10,152 INFO yield speech len 0.6, rtf 1.7428338527679443\n"
     ]
    },
    {
     "name": "stdout",
     "output_type": "stream",
     "text": [
      "任务 3 进度：8\n",
      "任务 5 进度：8\n",
      "任务 0 进度：8\n"
     ]
    },
    {
     "name": "stderr",
     "output_type": "stream",
     "text": [
      "2025-02-26 16:58:10,233 INFO yield speech len 0.6, rtf 1.8291783332824707\n",
      "2025-02-26 16:58:10,331 INFO yield speech len 0.6, rtf 2.001314163208008\n"
     ]
    },
    {
     "name": "stdout",
     "output_type": "stream",
     "text": [
      "任务 1 进度：8\n",
      "任务 6 进度：8\n"
     ]
    },
    {
     "name": "stderr",
     "output_type": "stream",
     "text": [
      "2025-02-26 16:58:10,642 INFO yield speech len 0.6, rtf 2.15139905611674\n",
      "2025-02-26 16:58:10,807 INFO yield speech len 0.6, rtf 2.3627416292826338\n"
     ]
    },
    {
     "name": "stdout",
     "output_type": "stream",
     "text": [
      "任务 7 进度：8\n",
      "任务 2 进度：8\n"
     ]
    },
    {
     "name": "stderr",
     "output_type": "stream",
     "text": [
      "2025-02-26 16:58:10,978 INFO yield speech len 0.6, rtf 2.5016025702158613\n"
     ]
    },
    {
     "name": "stdout",
     "output_type": "stream",
     "text": [
      "任务 4 进度：8\n"
     ]
    },
    {
     "name": "stderr",
     "output_type": "stream",
     "text": [
      "2025-02-26 16:58:11,335 INFO yield speech len 0.6, rtf 2.546599308649699\n",
      "2025-02-26 16:58:11,380 INFO yield speech len 0.6, rtf 2.727686961491903\n",
      "2025-02-26 16:58:11,492 INFO yield speech len 0.6, rtf 2.5593797365824384\n"
     ]
    },
    {
     "name": "stdout",
     "output_type": "stream",
     "text": [
      "任务 9 进度：9\n",
      "任务 8 进度：9\n",
      "任务 3 进度：9\n"
     ]
    },
    {
     "name": "stderr",
     "output_type": "stream",
     "text": [
      "2025-02-26 16:58:11,630 INFO yield speech len 0.6, rtf 2.6279218991597495\n",
      "2025-02-26 16:58:11,646 INFO yield speech len 0.6, rtf 2.4864383538564048\n",
      "2025-02-26 16:58:11,757 INFO yield speech len 0.6, rtf 2.535727024078369\n",
      "2025-02-26 16:58:11,811 INFO yield speech len 0.6, rtf 2.4633713563283286\n"
     ]
    },
    {
     "name": "stdout",
     "output_type": "stream",
     "text": [
      "任务 5 进度：9\n",
      "任务 0 进度：9\n",
      "任务 1 进度：9\n",
      "任务 6 进度：9\n"
     ]
    },
    {
     "name": "stderr",
     "output_type": "stream",
     "text": [
      "2025-02-26 16:58:12,295 INFO yield speech len 0.6, rtf 2.7474240461985273\n",
      "2025-02-26 16:58:12,420 INFO yield speech len 0.6, rtf 2.6855087280273438\n"
     ]
    },
    {
     "name": "stdout",
     "output_type": "stream",
     "text": [
      "任务 7 进度：9\n",
      "任务 2 进度：9\n"
     ]
    },
    {
     "name": "stderr",
     "output_type": "stream",
     "text": [
      "2025-02-26 16:58:12,629 INFO yield speech len 0.6, rtf 2.7468478679656982\n"
     ]
    },
    {
     "name": "stdout",
     "output_type": "stream",
     "text": [
      "任务 4 进度：9\n"
     ]
    },
    {
     "name": "stderr",
     "output_type": "stream",
     "text": [
      "2025-02-26 16:58:12,962 INFO yield speech len 0.6, rtf 2.7062582969665527\n",
      "2025-02-26 16:58:13,051 INFO yield speech len 0.6, rtf 2.7788543701171875\n",
      "2025-02-26 16:58:13,113 INFO yield speech len 0.6, rtf 2.697952191034953\n",
      "2025-02-26 16:58:13,163 INFO yield speech len 0.6, rtf 2.5497007369995117\n"
     ]
    },
    {
     "name": "stdout",
     "output_type": "stream",
     "text": [
      "任务 9 进度：10\n",
      "任务 8 进度：10\n",
      "任务 3 进度：10\n"
     ]
    },
    {
     "name": "stderr",
     "output_type": "stream",
     "text": [
      "2025-02-26 16:58:13,317 INFO yield speech len 0.6, rtf 2.7788877487182617\n",
      "2025-02-26 16:58:13,339 INFO yield speech len 0.6, rtf 2.6319475968678794\n"
     ]
    },
    {
     "name": "stdout",
     "output_type": "stream",
     "text": [
      "任务 5 进度：10\n",
      "任务 0 进度：10\n",
      "任务 1 进度：10\n"
     ]
    },
    {
     "name": "stderr",
     "output_type": "stream",
     "text": [
      "2025-02-26 16:58:13,376 INFO yield speech len 0.6, rtf 2.6060406366984052\n"
     ]
    },
    {
     "name": "stdout",
     "output_type": "stream",
     "text": [
      "任务 6 进度：10\n"
     ]
    },
    {
     "name": "stderr",
     "output_type": "stream",
     "text": [
      "2025-02-26 16:58:13,921 INFO yield speech len 0.6, rtf 2.7072771390279136\n",
      "2025-02-26 16:58:14,025 INFO yield speech len 0.6, rtf 2.6734785238901777\n"
     ]
    },
    {
     "name": "stdout",
     "output_type": "stream",
     "text": [
      "任务 7 进度：10\n",
      "任务 2 进度：10\n"
     ]
    },
    {
     "name": "stderr",
     "output_type": "stream",
     "text": [
      "2025-02-26 16:58:14,299 INFO yield speech len 0.6, rtf 2.7794035275777182\n"
     ]
    },
    {
     "name": "stdout",
     "output_type": "stream",
     "text": [
      "任务 4 进度：10\n"
     ]
    },
    {
     "name": "stderr",
     "output_type": "stream",
     "text": [
      "2025-02-26 16:58:14,722 INFO yield speech len 0.6, rtf 2.929014364878337\n",
      "2025-02-26 16:58:14,789 INFO yield speech len 0.6, rtf 2.892308632532756\n",
      "2025-02-26 16:58:14,824 INFO yield speech len 0.6, rtf 2.8475972016652427\n",
      "2025-02-26 16:58:14,856 INFO yield speech len 0.6, rtf 2.816668748855591\n"
     ]
    },
    {
     "name": "stdout",
     "output_type": "stream",
     "text": [
      "任务 9 进度：11\n",
      "任务 8 进度：11\n",
      "任务 3 进度：11\n",
      "任务 5 进度：11\n"
     ]
    },
    {
     "name": "stderr",
     "output_type": "stream",
     "text": [
      "2025-02-26 16:58:14,945 INFO yield speech len 0.6, rtf 2.7095870176951093\n",
      "2025-02-26 16:58:14,967 INFO yield speech len 0.6, rtf 2.709144353866577\n",
      "2025-02-26 16:58:14,990 INFO yield speech len 0.6, rtf 2.687051296234131\n"
     ]
    },
    {
     "name": "stdout",
     "output_type": "stream",
     "text": [
      "任务 0 进度：11\n",
      "任务 1 进度：11\n",
      "任务 6 进度：11\n"
     ]
    },
    {
     "name": "stderr",
     "output_type": "stream",
     "text": [
      "2025-02-26 16:58:15,422 INFO yield speech len 0.6, rtf 2.4990912278493247\n",
      "2025-02-26 16:58:15,545 INFO yield speech len 0.6, rtf 2.5281627972920737\n"
     ]
    },
    {
     "name": "stdout",
     "output_type": "stream",
     "text": [
      "任务 7 进度：11\n",
      "任务 2 进度：11\n"
     ]
    },
    {
     "name": "stderr",
     "output_type": "stream",
     "text": [
      "2025-02-26 16:58:15,773 INFO yield speech len 0.6, rtf 2.4536768595377607\n"
     ]
    },
    {
     "name": "stdout",
     "output_type": "stream",
     "text": [
      "任务 4 进度：11\n"
     ]
    },
    {
     "name": "stderr",
     "output_type": "stream",
     "text": [
      "2025-02-26 16:58:16,248 INFO yield speech len 0.6, rtf 2.538762489954631\n",
      "2025-02-26 16:58:16,384 INFO yield speech len 0.6, rtf 2.6551393667856855\n",
      "2025-02-26 16:58:16,437 INFO yield speech len 0.6, rtf 2.68449068069458\n"
     ]
    },
    {
     "name": "stdout",
     "output_type": "stream",
     "text": [
      "任务 9 进度：12\n",
      "任务 8 进度：12\n",
      "任务 3 进度：12\n"
     ]
    },
    {
     "name": "stderr",
     "output_type": "stream",
     "text": [
      "2025-02-26 16:58:16,460 INFO yield speech len 0.6, rtf 2.670275370279948\n",
      "2025-02-26 16:58:16,471 INFO yield speech len 0.6, rtf 2.5383512179056806\n",
      "2025-02-26 16:58:16,495 INFO yield speech len 0.6, rtf 2.5420971711476645\n",
      "2025-02-26 16:58:16,506 INFO yield speech len 0.6, rtf 2.522958517074585\n"
     ]
    },
    {
     "name": "stdout",
     "output_type": "stream",
     "text": [
      "任务 5 进度：12\n",
      "任务 0 进度：12\n",
      "任务 1 进度：12\n",
      "任务 6 进度：12\n"
     ]
    },
    {
     "name": "stderr",
     "output_type": "stream",
     "text": [
      "2025-02-26 16:58:16,826 INFO yield speech len 0.6, rtf 2.3360236485799155\n",
      "2025-02-26 16:58:16,900 INFO yield speech len 0.6, rtf 2.2550861040751142\n"
     ]
    },
    {
     "name": "stdout",
     "output_type": "stream",
     "text": [
      "任务 7 进度：12\n",
      "任务 2 进度：12\n"
     ]
    },
    {
     "name": "stderr",
     "output_type": "stream",
     "text": [
      "2025-02-26 16:58:17,214 INFO yield speech len 0.6, rtf 2.4005301793416343\n"
     ]
    },
    {
     "name": "stdout",
     "output_type": "stream",
     "text": [
      "任务 4 进度：12\n"
     ]
    },
    {
     "name": "stderr",
     "output_type": "stream",
     "text": [
      "2025-02-26 16:58:17,748 INFO yield speech len 0.6, rtf 2.4944667021433515\n",
      "2025-02-26 16:58:17,864 INFO yield speech len 0.6, rtf 2.4600950876871748\n"
     ]
    },
    {
     "name": "stdout",
     "output_type": "stream",
     "text": [
      "任务 9 进度：13\n",
      "任务 8 进度：13\n"
     ]
    },
    {
     "name": "stderr",
     "output_type": "stream",
     "text": [
      "2025-02-26 16:58:17,962 INFO yield speech len 0.6, rtf 2.5396279493967695\n",
      "2025-02-26 16:58:18,010 INFO yield speech len 0.6, rtf 2.5610462824503584\n",
      "2025-02-26 16:58:18,061 INFO yield speech len 0.6, rtf 2.6648008823394775\n",
      "2025-02-26 16:58:18,123 INFO yield speech len 0.6, rtf 2.6928861935933432\n",
      "2025-02-26 16:58:18,154 INFO yield speech len 0.6, rtf 2.7626188596089682\n"
     ]
    },
    {
     "name": "stdout",
     "output_type": "stream",
     "text": [
      "任务 3 进度：13\n",
      "任务 0 进度：13\n",
      "任务 5 进度：13\n",
      "任务 6 进度：13\n",
      "任务 1 进度：13\n"
     ]
    },
    {
     "name": "stderr",
     "output_type": "stream",
     "text": [
      "2025-02-26 16:58:18,219 INFO yield speech len 0.6, rtf 2.3186333974202475\n"
     ]
    },
    {
     "name": "stdout",
     "output_type": "stream",
     "text": [
      "任务 7 进度：13\n"
     ]
    },
    {
     "name": "stderr",
     "output_type": "stream",
     "text": [
      "2025-02-26 16:58:18,441 INFO yield speech len 0.6, rtf 2.564092079798381\n"
     ]
    },
    {
     "name": "stdout",
     "output_type": "stream",
     "text": [
      "任务 2 进度：13\n"
     ]
    },
    {
     "name": "stderr",
     "output_type": "stream",
     "text": [
      "2025-02-26 16:58:18,753 INFO yield speech len 0.6, rtf 2.561013698577881\n"
     ]
    },
    {
     "name": "stdout",
     "output_type": "stream",
     "text": [
      "任务 4 进度：13\n"
     ]
    },
    {
     "name": "stderr",
     "output_type": "stream",
     "text": [
      "2025-02-26 16:58:19,322 INFO yield speech len 0.6, rtf 2.6176361242930097\n",
      "2025-02-26 16:58:19,465 INFO yield speech len 0.6, rtf 2.664790153503418\n",
      "2025-02-26 16:58:19,492 INFO yield speech len 0.6, rtf 2.5444257259368896\n"
     ]
    },
    {
     "name": "stdout",
     "output_type": "stream",
     "text": [
      "任务 9 进度：14\n",
      "任务 8 进度：14\n",
      "任务 3 进度：14\n"
     ]
    },
    {
     "name": "stderr",
     "output_type": "stream",
     "text": [
      "2025-02-26 16:58:19,586 INFO yield speech len 0.6, rtf 2.62166698773702\n",
      "2025-02-26 16:58:19,588 INFO yield speech len 0.6, rtf 2.5423073768615723\n",
      "2025-02-26 16:58:19,724 INFO yield speech len 0.6, rtf 2.6654748121897383\n",
      "2025-02-26 16:58:19,751 INFO yield speech len 0.6, rtf 2.6604902744293213\n"
     ]
    },
    {
     "name": "stdout",
     "output_type": "stream",
     "text": [
      "任务 0 进度：14\n",
      "任务 5 进度：14\n",
      "任务 6 进度：14\n",
      "任务 1 进度：14\n"
     ]
    },
    {
     "name": "stderr",
     "output_type": "stream",
     "text": [
      "2025-02-26 16:58:19,844 INFO yield speech len 0.6, rtf 2.705979347229004\n"
     ]
    },
    {
     "name": "stdout",
     "output_type": "stream",
     "text": [
      "任务 7 进度：14\n"
     ]
    },
    {
     "name": "stderr",
     "output_type": "stream",
     "text": [
      "2025-02-26 16:58:20,161 INFO yield speech len 0.6, rtf 2.861471176147461\n"
     ]
    },
    {
     "name": "stdout",
     "output_type": "stream",
     "text": [
      "任务 2 进度：14\n"
     ]
    },
    {
     "name": "stderr",
     "output_type": "stream",
     "text": [
      "2025-02-26 16:58:20,455 INFO yield speech len 0.6, rtf 2.8333115577697754\n"
     ]
    },
    {
     "name": "stdout",
     "output_type": "stream",
     "text": [
      "任务 4 进度：14\n"
     ]
    },
    {
     "name": "stderr",
     "output_type": "stream",
     "text": [
      "2025-02-26 16:58:21,054 INFO yield speech len 0.6, rtf 2.883078257242839\n",
      "2025-02-26 16:58:21,169 INFO yield speech len 0.6, rtf 2.8339731693267822\n",
      "2025-02-26 16:58:21,241 INFO yield speech len 0.6, rtf 2.9099635283152265\n"
     ]
    },
    {
     "name": "stdout",
     "output_type": "stream",
     "text": [
      "任务 9 进度：15\n",
      "任务 8 进度：15\n",
      "任务 3 进度：15\n"
     ]
    },
    {
     "name": "stderr",
     "output_type": "stream",
     "text": [
      "2025-02-26 16:58:21,301 INFO yield speech len 0.6, rtf 2.85619060198466\n",
      "2025-02-26 16:58:21,314 INFO yield speech len 0.6, rtf 2.8727976481119795\n",
      "2025-02-26 16:58:21,423 INFO yield speech len 0.6, rtf 2.825242678324382\n",
      "2025-02-26 16:58:21,478 INFO yield speech len 0.6, rtf 2.8737763563791914\n",
      "2025-02-26 16:58:21,495 INFO yield speech len 0.6, rtf 2.748178243637085\n"
     ]
    },
    {
     "name": "stdout",
     "output_type": "stream",
     "text": [
      "任务 0 进度：15\n",
      "任务 5 进度：15\n",
      "任务 6 进度：15\n",
      "任务 1 进度：15\n",
      "任务 7 进度：15\n"
     ]
    },
    {
     "name": "stderr",
     "output_type": "stream",
     "text": [
      "2025-02-26 16:58:21,801 INFO yield speech len 0.6, rtf 2.7329158782958984\n"
     ]
    },
    {
     "name": "stdout",
     "output_type": "stream",
     "text": [
      "任务 2 进度：15\n"
     ]
    },
    {
     "name": "stderr",
     "output_type": "stream",
     "text": [
      "2025-02-26 16:58:22,061 INFO yield speech len 0.6, rtf 2.6750357945760093\n"
     ]
    },
    {
     "name": "stdout",
     "output_type": "stream",
     "text": [
      "任务 4 进度：15\n"
     ]
    },
    {
     "name": "stderr",
     "output_type": "stream",
     "text": [
      "2025-02-26 16:58:22,739 INFO yield speech len 0.6, rtf 2.8053673108418784\n",
      "2025-02-26 16:58:22,907 INFO yield speech len 0.6, rtf 2.892167568206787\n"
     ]
    },
    {
     "name": "stdout",
     "output_type": "stream",
     "text": [
      "任务 9 进度：16\n",
      "任务 8 进度：16\n"
     ]
    },
    {
     "name": "stderr",
     "output_type": "stream",
     "text": [
      "2025-02-26 16:58:22,971 INFO yield speech len 0.6, rtf 2.877698342005412\n",
      "2025-02-26 16:58:22,990 INFO yield speech len 0.6, rtf 2.8101189931233725\n",
      "2025-02-26 16:58:23,043 INFO yield speech len 0.6, rtf 2.8785359859466553\n",
      "2025-02-26 16:58:23,157 INFO yield speech len 0.6, rtf 2.885749340057373\n"
     ]
    },
    {
     "name": "stdout",
     "output_type": "stream",
     "text": [
      "任务 3 进度：16\n",
      "任务 0 进度：16\n",
      "任务 5 进度：16\n",
      "任务 6 进度：16\n"
     ]
    },
    {
     "name": "stderr",
     "output_type": "stream",
     "text": [
      "2025-02-26 16:58:23,191 INFO yield speech len 0.6, rtf 2.851022481918335\n",
      "2025-02-26 16:58:23,212 INFO yield speech len 0.6, rtf 2.857712507247925\n",
      "2025-02-26 16:58:23,315 INFO yield speech len 0.6, rtf 2.518404722213745\n"
     ]
    },
    {
     "name": "stdout",
     "output_type": "stream",
     "text": [
      "任务 1 进度：16\n",
      "任务 7 进度：16\n",
      "任务 2 进度：16\n"
     ]
    },
    {
     "name": "stderr",
     "output_type": "stream",
     "text": [
      "2025-02-26 16:58:23,630 INFO yield speech len 0.6, rtf 2.6107458273569746\n"
     ]
    },
    {
     "name": "stdout",
     "output_type": "stream",
     "text": [
      "任务 4 进度：16\n"
     ]
    },
    {
     "name": "stderr",
     "output_type": "stream",
     "text": [
      "2025-02-26 16:58:24,333 INFO yield speech len 0.6, rtf 2.6529558499654136\n",
      "2025-02-26 16:58:24,531 INFO yield speech len 0.6, rtf 2.4725834528605146\n"
     ]
    },
    {
     "name": "stdout",
     "output_type": "stream",
     "text": [
      "任务 9 进度：17\n",
      "任务 5 进度：17\n"
     ]
    },
    {
     "name": "stderr",
     "output_type": "stream",
     "text": [
      "2025-02-26 16:58:24,545 INFO yield speech len 0.6, rtf 2.6175538698832197\n",
      "2025-02-26 16:58:24,576 INFO yield speech len 0.6, rtf 2.638615369796753\n",
      "2025-02-26 16:58:24,688 INFO yield speech len 0.6, rtf 2.9618223508199057\n",
      "2025-02-26 16:58:24,725 INFO yield speech len 0.6, rtf 2.6060954729715986\n",
      "2025-02-26 16:58:24,740 INFO yield speech len 0.6, rtf 2.576276461283366\n"
     ]
    },
    {
     "name": "stdout",
     "output_type": "stream",
     "text": [
      "任务 3 进度：17\n",
      "任务 0 进度：17\n",
      "任务 8 进度：17\n",
      "任务 6 进度：17\n",
      "任务 1 进度：17\n"
     ]
    },
    {
     "name": "stderr",
     "output_type": "stream",
     "text": [
      "2025-02-26 16:58:24,836 INFO yield speech len 0.6, rtf 2.701096534729004\n",
      "2025-02-26 16:58:24,912 INFO yield speech len 0.6, rtf 2.660441001256307\n"
     ]
    },
    {
     "name": "stdout",
     "output_type": "stream",
     "text": [
      "任务 7 进度：17\n",
      "任务 2 进度：17\n"
     ]
    },
    {
     "name": "stderr",
     "output_type": "stream",
     "text": [
      "2025-02-26 16:58:25,232 INFO yield speech len 0.6, rtf 2.664178212483724\n"
     ]
    },
    {
     "name": "stdout",
     "output_type": "stream",
     "text": [
      "任务 4 进度：17\n"
     ]
    },
    {
     "name": "stderr",
     "output_type": "stream",
     "text": [
      "2025-02-26 16:58:25,972 INFO yield speech len 0.6, rtf 2.7294238408406577\n",
      "2025-02-26 16:58:26,170 INFO yield speech len 0.6, rtf 2.727525631586711\n"
     ]
    },
    {
     "name": "stdout",
     "output_type": "stream",
     "text": [
      "任务 9 进度：18\n",
      "任务 5 进度：18\n"
     ]
    },
    {
     "name": "stderr",
     "output_type": "stream",
     "text": [
      "2025-02-26 16:58:26,222 INFO yield speech len 0.6, rtf 2.788466215133667\n",
      "2025-02-26 16:58:26,251 INFO yield speech len 0.6, rtf 2.7868835131327314\n",
      "2025-02-26 16:58:26,342 INFO yield speech len 0.6, rtf 2.753612995147705\n",
      "2025-02-26 16:58:26,410 INFO yield speech len 0.6, rtf 2.8041044871012373\n",
      "2025-02-26 16:58:26,420 INFO yield speech len 0.6, rtf 2.7955416838328047\n"
     ]
    },
    {
     "name": "stdout",
     "output_type": "stream",
     "text": [
      "任务 3 进度：18\n",
      "任务 0 进度：18\n",
      "任务 8 进度：18\n",
      "任务 6 进度：18\n",
      "任务 1 进度：18\n"
     ]
    },
    {
     "name": "stderr",
     "output_type": "stream",
     "text": [
      "2025-02-26 16:58:26,560 INFO yield speech len 0.6, rtf 2.8688581784566245\n",
      "2025-02-26 16:58:26,653 INFO yield speech len 0.6, rtf 2.8966140747070312\n"
     ]
    },
    {
     "name": "stdout",
     "output_type": "stream",
     "text": [
      "任务 7 进度：18\n",
      "任务 2 进度：18\n"
     ]
    },
    {
     "name": "stderr",
     "output_type": "stream",
     "text": [
      "2025-02-26 16:58:26,907 INFO yield speech len 0.6, rtf 2.7880553404490156\n"
     ]
    },
    {
     "name": "stdout",
     "output_type": "stream",
     "text": [
      "任务 4 进度：18\n"
     ]
    },
    {
     "name": "stderr",
     "output_type": "stream",
     "text": [
      "2025-02-26 16:58:27,714 INFO yield speech len 0.6, rtf 2.8992112477620444\n",
      "2025-02-26 16:58:27,857 INFO yield speech len 0.6, rtf 2.805530627568563\n",
      "2025-02-26 16:58:27,864 INFO yield speech len 0.6, rtf 2.731313705444336\n"
     ]
    },
    {
     "name": "stdout",
     "output_type": "stream",
     "text": [
      "任务 9 进度：19\n",
      "任务 5 进度：19\n",
      "任务 3 进度：19\n"
     ]
    },
    {
     "name": "stderr",
     "output_type": "stream",
     "text": [
      "2025-02-26 16:58:27,954 INFO yield speech len 0.6, rtf 2.835477987925212\n",
      "2025-02-26 16:58:28,029 INFO yield speech len 0.6, rtf 2.8100744883219404\n",
      "2025-02-26 16:58:28,081 INFO yield speech len 0.6, rtf 2.7658526102701826\n",
      "2025-02-26 16:58:28,125 INFO yield speech len 0.6, rtf 2.8543436527252197\n"
     ]
    },
    {
     "name": "stdout",
     "output_type": "stream",
     "text": [
      "任务 0 进度：19\n",
      "任务 8 进度：19\n",
      "任务 1 进度：19\n",
      "任务 6 进度：19\n"
     ]
    },
    {
     "name": "stderr",
     "output_type": "stream",
     "text": [
      "2025-02-26 16:58:28,245 INFO yield speech len 0.6, rtf 2.8064803282419843\n",
      "2025-02-26 16:58:28,266 INFO yield speech len 0.6, rtf 2.6867949962615967\n"
     ]
    },
    {
     "name": "stdout",
     "output_type": "stream",
     "text": [
      "任务 7 进度：19\n",
      "任务 2 进度：19\n"
     ]
    },
    {
     "name": "stderr",
     "output_type": "stream",
     "text": [
      "2025-02-26 16:58:28,589 INFO yield speech len 0.6, rtf 2.799232006072998\n"
     ]
    },
    {
     "name": "stdout",
     "output_type": "stream",
     "text": [
      "任务 4 进度：19\n"
     ]
    },
    {
     "name": "stderr",
     "output_type": "stream",
     "text": [
      "2025-02-26 16:58:29,452 INFO yield speech len 0.6, rtf 2.8928824265797934\n",
      "2025-02-26 16:58:29,645 INFO yield speech len 0.6, rtf 2.9643412431081138\n"
     ]
    },
    {
     "name": "stdout",
     "output_type": "stream",
     "text": [
      "任务 9 进度：20\n",
      "任务 3 进度：20\n"
     ]
    },
    {
     "name": "stderr",
     "output_type": "stream",
     "text": [
      "2025-02-26 16:58:29,676 INFO yield speech len 0.6, rtf 3.0270425478617353\n",
      "2025-02-26 16:58:29,700 INFO yield speech len 0.6, rtf 2.9054864247639975\n",
      "2025-02-26 16:58:29,758 INFO yield speech len 0.6, rtf 2.8710607687632246\n",
      "2025-02-26 16:58:29,827 INFO yield speech len 0.6, rtf 2.908800045649211\n"
     ]
    },
    {
     "name": "stdout",
     "output_type": "stream",
     "text": [
      "任务 5 进度：20\n",
      "任务 0 进度：20\n",
      "任务 8 进度：20\n",
      "任务 1 进度：20\n"
     ]
    },
    {
     "name": "stderr",
     "output_type": "stream",
     "text": [
      "2025-02-26 16:58:29,883 INFO yield speech len 0.6, rtf 2.9288629690806074\n",
      "2025-02-26 16:58:30,018 INFO yield speech len 0.6, rtf 2.9503977298736572\n",
      "2025-02-26 16:58:30,035 INFO yield speech len 0.6, rtf 2.945857842763265\n"
     ]
    },
    {
     "name": "stdout",
     "output_type": "stream",
     "text": [
      "任务 6 进度：20\n",
      "任务 7 进度：20\n",
      "任务 2 进度：20\n"
     ]
    },
    {
     "name": "stderr",
     "output_type": "stream",
     "text": [
      "2025-02-26 16:58:30,410 INFO yield speech len 0.6, rtf 3.0311087767283125\n"
     ]
    },
    {
     "name": "stdout",
     "output_type": "stream",
     "text": [
      "任务 4 进度：20\n"
     ]
    },
    {
     "name": "stderr",
     "output_type": "stream",
     "text": [
      "2025-02-26 16:58:31,305 INFO yield speech len 0.6, rtf 3.082914749781291\n",
      "2025-02-26 16:58:31,496 INFO yield speech len 0.6, rtf 3.08049480120341\n"
     ]
    },
    {
     "name": "stdout",
     "output_type": "stream",
     "text": [
      "任务 9 进度：21\n",
      "任务 3 进度：21\n"
     ]
    },
    {
     "name": "stderr",
     "output_type": "stream",
     "text": [
      "2025-02-26 16:58:31,544 INFO yield speech len 0.6, rtf 3.1083297729492188\n",
      "2025-02-26 16:58:31,568 INFO yield speech len 0.6, rtf 3.109901348749797\n",
      "2025-02-26 16:58:31,678 INFO yield speech len 0.6, rtf 3.197178840637207\n"
     ]
    },
    {
     "name": "stdout",
     "output_type": "stream",
     "text": [
      "任务 5 进度：21\n",
      "任务 0 进度：21\n",
      "任务 8 进度：21\n"
     ]
    },
    {
     "name": "stderr",
     "output_type": "stream",
     "text": [
      "2025-02-26 16:58:31,756 INFO yield speech len 0.6, rtf 3.211621443430583\n",
      "2025-02-26 16:58:31,770 INFO yield speech len 0.6, rtf 3.1418633460998535\n",
      "2025-02-26 16:58:31,873 INFO yield speech len 0.6, rtf 3.0871466795603437\n",
      "2025-02-26 16:58:31,878 INFO yield speech len 0.6, rtf 3.0678586165110273\n"
     ]
    },
    {
     "name": "stdout",
     "output_type": "stream",
     "text": [
      "任务 1 进度：21\n",
      "任务 6 进度：21\n",
      "任务 7 进度：21\n",
      "任务 2 进度：21\n"
     ]
    },
    {
     "name": "stderr",
     "output_type": "stream",
     "text": [
      "2025-02-26 16:58:32,244 INFO yield speech len 0.6, rtf 3.0527591705322266\n"
     ]
    },
    {
     "name": "stdout",
     "output_type": "stream",
     "text": [
      "任务 4 进度：21\n"
     ]
    },
    {
     "name": "stderr",
     "output_type": "stream",
     "text": [
      "2025-02-26 16:58:33,194 INFO yield speech len 0.6, rtf 3.144797484079997\n"
     ]
    },
    {
     "name": "stdout",
     "output_type": "stream",
     "text": [
      "任务 9 进度：22\n"
     ]
    },
    {
     "name": "stderr",
     "output_type": "stream",
     "text": [
      "2025-02-26 16:58:33,410 INFO yield speech len 0.6, rtf 3.183018763860067\n",
      "2025-02-26 16:58:33,450 INFO yield speech len 0.6, rtf 3.1720737616221113\n",
      "2025-02-26 16:58:33,487 INFO yield speech len 0.6, rtf 3.195505539576213\n",
      "2025-02-26 16:58:33,537 INFO yield speech len 0.6, rtf 3.091719150543213\n"
     ]
    },
    {
     "name": "stdout",
     "output_type": "stream",
     "text": [
      "任务 3 进度：22\n",
      "任务 5 进度：22\n",
      "任务 0 进度：22\n",
      "任务 8 进度：22\n"
     ]
    },
    {
     "name": "stderr",
     "output_type": "stream",
     "text": [
      "2025-02-26 16:58:33,683 INFO yield speech len 0.6, rtf 3.185321092605591\n",
      "2025-02-26 16:58:33,686 INFO yield speech len 0.6, rtf 3.214307228724162\n",
      "2025-02-26 16:58:33,801 INFO yield speech len 0.6, rtf 3.201702833175659\n",
      "2025-02-26 16:58:33,877 INFO yield speech len 0.6, rtf 3.3380099137624106\n"
     ]
    },
    {
     "name": "stdout",
     "output_type": "stream",
     "text": [
      "任务 6 进度：22\n",
      "任务 1 进度：22\n",
      "任务 2 进度：22\n",
      "任务 7 进度：22\n"
     ]
    },
    {
     "name": "stderr",
     "output_type": "stream",
     "text": [
      "2025-02-26 16:58:34,250 INFO yield speech len 0.6, rtf 3.336996634801229\n"
     ]
    },
    {
     "name": "stdout",
     "output_type": "stream",
     "text": [
      "任务 4 进度：22\n"
     ]
    },
    {
     "name": "stderr",
     "output_type": "stream",
     "text": [
      "2025-02-26 16:58:35,265 INFO yield speech len 0.6, rtf 3.4470625718434653\n",
      "2025-02-26 16:58:35,430 INFO yield speech len 0.6, rtf 3.2927358150482178\n",
      "2025-02-26 16:58:35,434 INFO yield speech len 0.6, rtf 3.3682409922281904\n"
     ]
    },
    {
     "name": "stdout",
     "output_type": "stream",
     "text": [
      "任务 9 进度：23\n",
      "任务 5 进度：23\n",
      "任务 3 进度：23\n"
     ]
    },
    {
     "name": "stderr",
     "output_type": "stream",
     "text": [
      "2025-02-26 16:58:35,506 INFO yield speech len 0.6, rtf 3.3613880475362143\n",
      "2025-02-26 16:58:35,548 INFO yield speech len 0.6, rtf 3.349851369857788\n",
      "2025-02-26 16:58:35,614 INFO yield speech len 0.6, rtf 3.2101901372273765\n",
      "2025-02-26 16:58:35,664 INFO yield speech len 0.6, rtf 3.297901550928752\n",
      "2025-02-26 16:58:35,679 INFO yield speech len 0.6, rtf 3.1273003419240317\n"
     ]
    },
    {
     "name": "stdout",
     "output_type": "stream",
     "text": [
      "任务 0 进度：23\n",
      "任务 8 进度：23\n",
      "任务 1 进度：23\n",
      "任务 6 进度：23\n",
      "任务 2 进度：23\n"
     ]
    },
    {
     "name": "stderr",
     "output_type": "stream",
     "text": [
      "2025-02-26 16:58:35,751 INFO yield speech len 0.6, rtf 3.120243549346924\n"
     ]
    },
    {
     "name": "stdout",
     "output_type": "stream",
     "text": [
      "任务 7 进度：23\n"
     ]
    },
    {
     "name": "stderr",
     "output_type": "stream",
     "text": [
      "2025-02-26 16:58:36,204 INFO yield speech len 0.6, rtf 3.2521311442057295\n"
     ]
    },
    {
     "name": "stdout",
     "output_type": "stream",
     "text": [
      "任务 4 进度：23\n"
     ]
    },
    {
     "name": "stderr",
     "output_type": "stream",
     "text": [
      "2025-02-26 16:58:37,523 INFO yield speech len 0.6, rtf 3.7591830889383955\n",
      "2025-02-26 16:58:37,667 INFO yield speech len 0.6, rtf 3.5999393463134766\n"
     ]
    },
    {
     "name": "stdout",
     "output_type": "stream",
     "text": [
      "任务 9 进度：24\n",
      "任务 0 进度：24\n"
     ]
    },
    {
     "name": "stderr",
     "output_type": "stream",
     "text": [
      "2025-02-26 16:58:37,747 INFO yield speech len 0.6, rtf 3.8583076000213623\n",
      "2025-02-26 16:58:37,757 INFO yield speech len 0.6, rtf 3.8682393232981367\n"
     ]
    },
    {
     "name": "stdout",
     "output_type": "stream",
     "text": [
      "任务 5 进度：24\n",
      "任务 3 进度：24\n"
     ]
    },
    {
     "name": "stderr",
     "output_type": "stream",
     "text": [
      "2025-02-26 16:58:37,975 INFO yield speech len 0.6, rtf 3.9330077171325684\n",
      "2025-02-26 16:58:38,013 INFO yield speech len 0.6, rtf 3.9146550496419272\n",
      "2025-02-26 16:58:38,028 INFO yield speech len 0.6, rtf 3.9120646317799888\n",
      "2025-02-26 16:58:38,118 INFO yield speech len 0.56, rtf 4.585672276360648\n",
      "\n",
      "\n",
      "\n",
      "\n",
      "\n",
      "\n",
      "\n",
      "\u001b[A\u001b[A\u001b[A\u001b[A\u001b[A\u001b[A\u001b[A"
     ]
    },
    {
     "name": "stdout",
     "output_type": "stream",
     "text": [
      "任务 1 进度：24\n",
      "任务 6 进度：24\n",
      "任务 2 进度：24\n",
      "任务 8 进度：24\n"
     ]
    },
    {
     "name": "stderr",
     "output_type": "stream",
     "text": [
      "2025-02-26 16:58:38,208 INFO synthesis text 目标是将对方的国王置于无法逃脱的“将死”状态。\n",
      "2025-02-26 16:58:38,218 INFO yield speech len 0.6, rtf 4.109182755152385\n"
     ]
    },
    {
     "name": "stdout",
     "output_type": "stream",
     "text": [
      "任务 7 进度：24\n"
     ]
    },
    {
     "name": "stderr",
     "output_type": "stream",
     "text": [
      "2025-02-26 16:58:38,606 INFO yield speech len 0.6, rtf 3.999434312184652\n"
     ]
    },
    {
     "name": "stdout",
     "output_type": "stream",
     "text": [
      "任务 4 进度：24\n"
     ]
    },
    {
     "name": "stderr",
     "output_type": "stream",
     "text": [
      "2025-02-26 16:58:39,758 INFO yield speech len 0.6, rtf 3.720519542694092\n",
      "2025-02-26 16:58:39,923 INFO yield speech len 0.6, rtf 3.7559151649475098\n"
     ]
    },
    {
     "name": "stdout",
     "output_type": "stream",
     "text": [
      "任务 9 进度：25\n",
      "任务 0 进度：25\n"
     ]
    },
    {
     "name": "stderr",
     "output_type": "stream",
     "text": [
      "2025-02-26 16:58:40,055 INFO yield speech len 0.6, rtf 3.826866944630941\n",
      "2025-02-26 16:58:40,112 INFO yield speech len 0.6, rtf 3.938494920730591\n",
      "2025-02-26 16:58:40,212 INFO yield speech len 0.6, rtf 3.7227018674214682\n",
      "2025-02-26 16:58:40,214 INFO yield speech len 0.6, rtf 3.6612125237782798\n"
     ]
    },
    {
     "name": "stdout",
     "output_type": "stream",
     "text": [
      "任务 3 进度：25\n",
      "任务 5 进度：25\n",
      "任务 1 进度：25\n",
      "任务 6 进度：25\n"
     ]
    },
    {
     "name": "stderr",
     "output_type": "stream",
     "text": [
      "2025-02-26 16:58:40,281 INFO yield speech len 0.6, rtf 3.7521493434906006\n"
     ]
    },
    {
     "name": "stdout",
     "output_type": "stream",
     "text": [
      "任务 2 进度：25\n"
     ]
    },
    {
     "name": "stderr",
     "output_type": "stream",
     "text": [
      "2025-02-26 16:58:40,570 INFO yield speech len 0.6, rtf 3.918405373891195\n"
     ]
    },
    {
     "name": "stdout",
     "output_type": "stream",
     "text": [
      "任务 7 进度：25\n"
     ]
    },
    {
     "name": "stderr",
     "output_type": "stream",
     "text": [
      "2025-02-26 16:58:40,804 INFO llm job done\n",
      "2025-02-26 16:58:40,929 INFO yield speech len 0.44, rtf 6.184167211705988\n"
     ]
    },
    {
     "name": "stdout",
     "output_type": "stream",
     "text": [
      "任务 8 进度：25\n"
     ]
    },
    {
     "name": "stderr",
     "output_type": "stream",
     "text": [
      "2025-02-26 16:58:41,268 INFO yield speech len 0.6, rtf 4.434933265050253\n"
     ]
    },
    {
     "name": "stdout",
     "output_type": "stream",
     "text": [
      "任务 4 进度：25\n"
     ]
    },
    {
     "name": "stderr",
     "output_type": "stream",
     "text": [
      "2025-02-26 16:58:42,742 INFO yield speech len 0.6, rtf 4.9725910027821865\n",
      "2025-02-26 16:58:42,933 INFO yield speech len 0.6, rtf 4.698969920476278\n"
     ]
    },
    {
     "name": "stdout",
     "output_type": "stream",
     "text": [
      "任务 9 进度：26\n",
      "任务 5 进度：26\n"
     ]
    },
    {
     "name": "stderr",
     "output_type": "stream",
     "text": [
      "2025-02-26 16:58:43,084 INFO yield speech len 0.04, rtf 79.01691198348999\n",
      " 50%|█████     | 1/2 [00:40<00:40, 40.17s/it]2025-02-26 16:58:43,244 INFO synthesis text 目标是将对方的国王置于无法逃脱的“将死”状态。\n",
      "2025-02-26 16:58:43,250 INFO yield speech len 0.6, rtf 5.322242180506389\n"
     ]
    },
    {
     "name": "stdout",
     "output_type": "stream",
     "text": [
      "任务 0 进度：26\n",
      "任务 3 进度：26\n"
     ]
    },
    {
     "name": "stderr",
     "output_type": "stream",
     "text": [
      "2025-02-26 16:58:43,316 INFO yield speech len 0.6, rtf 5.1716625690460205\n",
      "2025-02-26 16:58:43,382 INFO yield speech len 0.6, rtf 5.166215896606445\n",
      "2025-02-26 16:58:43,385 INFO yield speech len 0.16, rtf 19.818800687789917\n",
      "\n",
      "\n",
      "\n",
      "\n",
      "\n",
      "\u001b[A\u001b[A\u001b[A\u001b[A\u001b[A2025-02-26 16:58:43,477 INFO synthesis text 目标是将对方的国王置于无法逃脱的“将死”状态。\n"
     ]
    },
    {
     "name": "stdout",
     "output_type": "stream",
     "text": [
      "任务 1 进度：26\n",
      "任务 2 进度：26\n",
      "任务 6 进度：26\n"
     ]
    },
    {
     "name": "stderr",
     "output_type": "stream",
     "text": [
      "2025-02-26 16:58:43,791 INFO yield speech len 0.6, rtf 5.365548928578695\n",
      "2025-02-26 16:58:43,891 INFO yield speech len 0.6, rtf 4.931270678838095\n"
     ]
    },
    {
     "name": "stdout",
     "output_type": "stream",
     "text": [
      "任务 7 进度：26\n",
      "任务 8 进度：26\n"
     ]
    },
    {
     "name": "stderr",
     "output_type": "stream",
     "text": [
      "2025-02-26 16:58:44,138 INFO yield speech len 0.48, rtf 5.97345232963562\n",
      "\n",
      "\n",
      "\n",
      "\u001b[A\u001b[A\u001b[A2025-02-26 16:58:44,237 INFO synthesis text 目标是将对方的国王置于无法逃脱的“将死”状态。\n"
     ]
    },
    {
     "name": "stdout",
     "output_type": "stream",
     "text": [
      "任务 4 进度：26\n"
     ]
    },
    {
     "name": "stderr",
     "output_type": "stream",
     "text": [
      "2025-02-26 16:58:44,827 INFO yield speech len 0.6, rtf 3.4698128700256348\n"
     ]
    },
    {
     "name": "stdout",
     "output_type": "stream",
     "text": [
      "任务 9 进度：27\n"
     ]
    },
    {
     "name": "stderr",
     "output_type": "stream",
     "text": [
      "2025-02-26 16:58:45,100 INFO yield speech len 0.6, rtf 3.610061804453532\n",
      "2025-02-26 16:58:45,228 INFO llm job done\n"
     ]
    },
    {
     "name": "stdout",
     "output_type": "stream",
     "text": [
      "任务 5 进度：27\n"
     ]
    },
    {
     "name": "stderr",
     "output_type": "stream",
     "text": [
      "2025-02-26 16:58:45,315 INFO yield speech len 0.6, rtf 3.4415292739868164\n",
      "2025-02-26 16:58:45,353 INFO yield speech len 0.6, rtf 3.3947348594665527\n",
      "2025-02-26 16:58:45,470 INFO yield speech len 0.6, rtf 3.4791100025177\n"
     ]
    },
    {
     "name": "stdout",
     "output_type": "stream",
     "text": [
      "任务 3 进度：27\n",
      "任务 1 进度：27\n",
      "任务 2 进度：27\n"
     ]
    },
    {
     "name": "stderr",
     "output_type": "stream",
     "text": [
      "2025-02-26 16:58:45,616 INFO yield speech len 0.44, rtf 5.389383706179532\n",
      "2025-02-26 16:58:45,784 INFO llm job done\n"
     ]
    },
    {
     "name": "stdout",
     "output_type": "stream",
     "text": [
      "任务 0 进度：27\n"
     ]
    },
    {
     "name": "stderr",
     "output_type": "stream",
     "text": [
      "2025-02-26 16:58:45,825 INFO yield speech len 0.6, rtf 3.38802973429362\n",
      "2025-02-26 16:58:45,873 INFO yield speech len 0.44, rtf 5.444560809568926\n",
      "2025-02-26 16:58:45,946 INFO yield speech len 0.6, rtf 3.4239494800567627\n"
     ]
    },
    {
     "name": "stdout",
     "output_type": "stream",
     "text": [
      "任务 7 进度：27\n",
      "任务 6 进度：27\n",
      "任务 8 进度：27\n"
     ]
    },
    {
     "name": "stderr",
     "output_type": "stream",
     "text": [
      "2025-02-26 16:58:46,469 INFO llm job done\n",
      "2025-02-26 16:58:46,633 INFO yield speech len 0.44, rtf 5.445165525783192\n"
     ]
    },
    {
     "name": "stdout",
     "output_type": "stream",
     "text": [
      "任务 4 进度：27\n"
     ]
    },
    {
     "name": "stderr",
     "output_type": "stream",
     "text": [
      "2025-02-26 16:58:47,239 INFO yield speech len 0.6, rtf 4.018683036168417\n"
     ]
    },
    {
     "name": "stdout",
     "output_type": "stream",
     "text": [
      "任务 9 进度：28\n"
     ]
    },
    {
     "name": "stderr",
     "output_type": "stream",
     "text": [
      "2025-02-26 16:58:47,827 INFO yield speech len 0.28, rtf 9.73644426890782\n",
      "\n",
      "\n",
      "\n",
      "\n",
      "\u001b[A\u001b[A\u001b[A\u001b[A2025-02-26 16:58:47,987 INFO synthesis text 目标是将对方的国王置于无法逃脱的“将死”状态。\n"
     ]
    },
    {
     "name": "stdout",
     "output_type": "stream",
     "text": [
      "任务 5 进度：28\n"
     ]
    },
    {
     "name": "stderr",
     "output_type": "stream",
     "text": [
      "2025-02-26 16:58:48,108 INFO yield speech len 0.6, rtf 4.651934703191122\n",
      "2025-02-26 16:58:48,158 INFO yield speech len 0.4, rtf 7.009785771369934\n",
      "2025-02-26 16:58:48,243 INFO synthesis text 目标是将对方的国王置于无法逃脱的“将死”状态。\n",
      "2025-02-26 16:58:48,249 INFO yield speech len 0.6, rtf 4.631127119064331\n",
      "2025-02-26 16:58:48,254 INFO yield speech len 0.6, rtf 4.394795099894206\n"
     ]
    },
    {
     "name": "stdout",
     "output_type": "stream",
     "text": [
      "任务 3 进度：28\n",
      "任务 1 进度：28\n",
      "任务 2 进度：28\n",
      "任务 0 进度：28\n"
     ]
    },
    {
     "name": "stderr",
     "output_type": "stream",
     "text": [
      "2025-02-26 16:58:48,412 INFO yield speech len 0.08, rtf 32.32988119125366\n",
      "\n",
      "\n",
      "\n",
      "\n",
      "\n",
      "\n",
      "\u001b[A\u001b[A\u001b[A\u001b[A\u001b[A\u001b[A2025-02-26 16:58:48,529 INFO synthesis text 目标是将对方的国王置于无法逃脱的“将死”状态。\n",
      "2025-02-26 16:58:48,535 INFO yield speech len 0.6, rtf 4.4353727499643965\n",
      "2025-02-26 16:58:48,536 INFO yield speech len 0.6, rtf 4.316939512888591\n"
     ]
    },
    {
     "name": "stdout",
     "output_type": "stream",
     "text": [
      "任务 7 进度：28\n",
      "任务 6 进度：28\n",
      "任务 8 进度：28\n"
     ]
    },
    {
     "name": "stderr",
     "output_type": "stream",
     "text": [
      "2025-02-26 16:58:48,961 INFO yield speech len 0.6, rtf 3.875962495803833\n",
      "2025-02-26 16:58:49,122 INFO yield speech len 0.6, rtf 3.1344171365102134\n"
     ]
    },
    {
     "name": "stdout",
     "output_type": "stream",
     "text": [
      "任务 4 进度：28\n",
      "任务 9 进度：29\n"
     ]
    },
    {
     "name": "stderr",
     "output_type": "stream",
     "text": [
      "2025-02-26 16:58:49,525 INFO yield speech len 0.04, rtf 35.41741371154785\n",
      "\n",
      "\n",
      "\u001b[A\u001b[A2025-02-26 16:58:49,585 INFO synthesis text 目标是将对方的国王置于无法逃脱的“将死”状态。\n",
      "2025-02-26 16:58:49,655 INFO yield speech len 0.6, rtf 2.3407749334971113\n"
     ]
    },
    {
     "name": "stdout",
     "output_type": "stream",
     "text": [
      "任务 3 进度：29\n",
      "任务 2 进度：29\n"
     ]
    },
    {
     "name": "stderr",
     "output_type": "stream",
     "text": [
      "2025-02-26 16:58:49,744 INFO yield speech len 0.6, rtf 2.483612696329753\n",
      "2025-02-26 16:58:49,761 INFO yield speech len 0.44, rtf 4.031567681919444\n"
     ]
    },
    {
     "name": "stdout",
     "output_type": "stream",
     "text": [
      "任务 0 进度：29\n",
      "任务 5 进度：29\n"
     ]
    },
    {
     "name": "stderr",
     "output_type": "stream",
     "text": [
      "2025-02-26 16:58:49,955 INFO yield speech len 0.6, rtf 2.365562915802002\n",
      "2025-02-26 16:58:49,997 INFO yield speech len 0.6, rtf 2.4331796169281006\n",
      "2025-02-26 16:58:49,998 INFO llm job done\n",
      "2025-02-26 16:58:50,008 INFO llm job done\n",
      "2025-02-26 16:58:50,014 INFO yield speech len 0.44, rtf 4.025176980278709\n"
     ]
    },
    {
     "name": "stdout",
     "output_type": "stream",
     "text": [
      "任务 6 进度：29\n",
      "任务 8 进度：29\n",
      "任务 1 进度：29\n"
     ]
    },
    {
     "name": "stderr",
     "output_type": "stream",
     "text": [
      "2025-02-26 16:58:50,259 INFO yield speech len 0.44, rtf 3.9317727088928223\n",
      "2025-02-26 16:58:50,280 INFO llm job done\n",
      "2025-02-26 16:58:50,391 INFO yield speech len 0.6, rtf 2.3830966154734297\n"
     ]
    },
    {
     "name": "stdout",
     "output_type": "stream",
     "text": [
      "任务 7 进度：29\n",
      "任务 4 进度：29\n"
     ]
    },
    {
     "name": "stderr",
     "output_type": "stream",
     "text": [
      "2025-02-26 16:58:50,660 INFO yield speech len 0.04, rtf 38.42208385467529\n",
      "\n",
      "\n",
      "\n",
      "\n",
      "\n",
      "\n",
      "\n",
      "\n",
      "\u001b[A\u001b[A\u001b[A\u001b[A\u001b[A\u001b[A\u001b[A\u001b[A2025-02-26 16:58:50,721 INFO synthesis text 目标是将对方的国王置于无法逃脱的“将死”状态。\n"
     ]
    },
    {
     "name": "stdout",
     "output_type": "stream",
     "text": [
      "任务 9 进度：30\n"
     ]
    },
    {
     "name": "stderr",
     "output_type": "stream",
     "text": [
      "2025-02-26 16:58:50,944 INFO llm job done\n",
      "2025-02-26 16:58:51,029 INFO yield speech len 0.6, rtf 2.289042075475057\n",
      "2025-02-26 16:58:51,106 INFO yield speech len 0.6, rtf 2.268238067626953\n",
      "2025-02-26 16:58:51,131 INFO yield speech len 0.6, rtf 2.283560434977214\n",
      "2025-02-26 16:58:51,188 INFO yield speech len 0.44, rtf 3.6432271653955635\n"
     ]
    },
    {
     "name": "stdout",
     "output_type": "stream",
     "text": [
      "任务 2 进度：30\n",
      "任务 0 进度：30\n",
      "任务 5 进度：30\n",
      "任务 3 进度：30\n"
     ]
    },
    {
     "name": "stderr",
     "output_type": "stream",
     "text": [
      "2025-02-26 16:58:51,252 INFO yield speech len 0.6, rtf 2.1610518296559653\n",
      "2025-02-26 16:58:51,327 INFO yield speech len 0.6, rtf 2.215433915456136\n",
      "2025-02-26 16:58:51,358 INFO yield speech len 0.6, rtf 2.2387238343556723\n"
     ]
    },
    {
     "name": "stdout",
     "output_type": "stream",
     "text": [
      "任务 6 进度：30\n",
      "任务 8 进度：30\n",
      "任务 1 进度：30\n"
     ]
    },
    {
     "name": "stderr",
     "output_type": "stream",
     "text": [
      "2025-02-26 16:58:51,541 INFO yield speech len 0.6, rtf 1.913689374923706\n",
      "2025-02-26 16:58:51,629 INFO yield speech len 0.6, rtf 2.2824613253275556\n"
     ]
    },
    {
     "name": "stdout",
     "output_type": "stream",
     "text": [
      "任务 4 进度：30\n",
      "任务 7 进度：30\n"
     ]
    },
    {
     "name": "stderr",
     "output_type": "stream",
     "text": [
      "2025-02-26 16:58:51,980 INFO yield speech len 0.44, rtf 2.8605325655503706\n",
      "2025-02-26 16:58:52,100 INFO yield speech len 0.6, rtf 1.6139113903045654\n"
     ]
    },
    {
     "name": "stdout",
     "output_type": "stream",
     "text": [
      "任务 9 进度：31\n",
      "任务 5 进度：31\n"
     ]
    },
    {
     "name": "stderr",
     "output_type": "stream",
     "text": [
      "2025-02-26 16:58:52,254 INFO yield speech len 0.6, rtf 1.9114200274149578\n",
      "2025-02-26 16:58:52,334 INFO yield speech len 0.6, rtf 1.9098536173502605\n",
      "2025-02-26 16:58:52,353 INFO yield speech len 0.16, rtf 8.27266275882721\n",
      "\n",
      "\u001b[A2025-02-26 16:58:52,455 INFO synthesis text 目标是将对方的国王置于无法逃脱的“将死”状态。\n"
     ]
    },
    {
     "name": "stdout",
     "output_type": "stream",
     "text": [
      "任务 0 进度：31\n",
      "任务 3 进度：31\n",
      "任务 2 进度：31\n"
     ]
    },
    {
     "name": "stderr",
     "output_type": "stream",
     "text": [
      "2025-02-26 16:58:52,456 INFO llm job done\n",
      "2025-02-26 16:58:52,472 INFO yield speech len 0.6, rtf 1.907260815302531\n",
      "2025-02-26 16:58:52,583 INFO yield speech len 0.6, rtf 2.2176547845204673\n",
      "2025-02-26 16:58:52,606 INFO yield speech len 0.6, rtf 2.07873543103536\n"
     ]
    },
    {
     "name": "stdout",
     "output_type": "stream",
     "text": [
      "任务 8 进度：31\n",
      "任务 6 进度：31\n",
      "任务 1 进度：31\n"
     ]
    },
    {
     "name": "stderr",
     "output_type": "stream",
     "text": [
      "2025-02-26 16:58:52,750 INFO yield speech len 0.6, rtf 2.0128583908081055\n",
      "2025-02-26 16:58:52,801 INFO yield speech len 0.6, rtf 1.950896978378296\n"
     ]
    },
    {
     "name": "stdout",
     "output_type": "stream",
     "text": [
      "任务 4 进度：31\n",
      "任务 7 进度：31\n"
     ]
    },
    {
     "name": "stderr",
     "output_type": "stream",
     "text": [
      "2025-02-26 16:58:53,110 INFO yield speech len 0.6, rtf 1.881704330444336\n",
      "2025-02-26 16:58:53,185 INFO yield speech len 0.6, rtf 1.8066378434499106\n"
     ]
    },
    {
     "name": "stdout",
     "output_type": "stream",
     "text": [
      "任务 9 进度：32\n",
      "任务 5 进度：32\n"
     ]
    },
    {
     "name": "stderr",
     "output_type": "stream",
     "text": [
      "2025-02-26 16:58:53,346 INFO yield speech len 0.6, rtf 1.8196606636047363\n",
      "2025-02-26 16:58:53,386 INFO yield speech len 0.6, rtf 1.7502613862355552\n",
      "2025-02-26 16:58:53,492 INFO yield speech len 0.6, rtf 1.6994682947794597\n",
      "2025-02-26 16:58:53,534 INFO yield speech len 0.6, rtf 1.583644151687622\n"
     ]
    },
    {
     "name": "stdout",
     "output_type": "stream",
     "text": [
      "任务 0 进度：32\n",
      "任务 3 进度：32\n",
      "任务 8 进度：32\n",
      "任务 6 进度：32\n"
     ]
    },
    {
     "name": "stderr",
     "output_type": "stream",
     "text": [
      "2025-02-26 16:58:53,570 INFO yield speech len 0.6, rtf 1.6053430239359539\n",
      "2025-02-26 16:58:53,618 INFO yield speech len 0.44, rtf 2.6442782445387407\n",
      "2025-02-26 16:58:53,660 INFO llm job done\n"
     ]
    },
    {
     "name": "stdout",
     "output_type": "stream",
     "text": [
      "任务 1 进度：32\n",
      "任务 2 进度：32\n"
     ]
    },
    {
     "name": "stderr",
     "output_type": "stream",
     "text": [
      "2025-02-26 16:58:53,822 INFO yield speech len 0.6, rtf 1.785804033279419\n",
      "2025-02-26 16:58:53,880 INFO yield speech len 0.6, rtf 1.7985947926839194\n"
     ]
    },
    {
     "name": "stdout",
     "output_type": "stream",
     "text": [
      "任务 4 进度：32\n",
      "任务 7 进度：32\n"
     ]
    },
    {
     "name": "stderr",
     "output_type": "stream",
     "text": [
      "2025-02-26 16:58:55,011 INFO yield speech len 0.6, rtf 3.167784611384074\n"
     ]
    },
    {
     "name": "stdout",
     "output_type": "stream",
     "text": [
      "任务 9 进度：33\n"
     ]
    },
    {
     "name": "stderr",
     "output_type": "stream",
     "text": [
      "2025-02-26 16:58:55,221 INFO yield speech len 0.6, rtf 3.3911975224812827\n"
     ]
    },
    {
     "name": "stdout",
     "output_type": "stream",
     "text": [
      "任务 5 进度：33\n"
     ]
    },
    {
     "name": "stderr",
     "output_type": "stream",
     "text": [
      "2025-02-26 16:58:55,567 INFO yield speech len 0.6, rtf 3.700202703475952\n"
     ]
    },
    {
     "name": "stdout",
     "output_type": "stream",
     "text": [
      "任务 0 进度：33\n"
     ]
    },
    {
     "name": "stderr",
     "output_type": "stream",
     "text": [
      "2025-02-26 16:58:56,081 INFO yield speech len 0.6, rtf 4.491496483484904\n",
      "2025-02-26 16:58:56,158 INFO yield speech len 0.6, rtf 4.3128760655721035\n",
      "2025-02-26 16:58:56,197 INFO yield speech len 0.6, rtf 4.506307442982992\n",
      "2025-02-26 16:58:56,246 INFO yield speech len 0.6, rtf 4.518405993779501\n"
     ]
    },
    {
     "name": "stdout",
     "output_type": "stream",
     "text": [
      "任务 3 进度：33\n",
      "任务 1 进度：33\n",
      "任务 8 进度：33\n",
      "任务 6 进度：33\n"
     ]
    },
    {
     "name": "stderr",
     "output_type": "stream",
     "text": [
      "2025-02-26 16:58:56,658 INFO yield speech len 0.6, rtf 5.064646005630493\n",
      "2025-02-26 16:58:56,735 INFO yield speech len 0.6, rtf 4.852140347162883\n"
     ]
    },
    {
     "name": "stdout",
     "output_type": "stream",
     "text": [
      "任务 2 进度：33\n",
      "任务 4 进度：33\n"
     ]
    },
    {
     "name": "stderr",
     "output_type": "stream",
     "text": [
      "2025-02-26 16:58:56,880 INFO yield speech len 0.6, rtf 4.998179276784262\n"
     ]
    },
    {
     "name": "stdout",
     "output_type": "stream",
     "text": [
      "任务 7 进度：33\n"
     ]
    },
    {
     "name": "stderr",
     "output_type": "stream",
     "text": [
      "2025-02-26 16:58:57,862 INFO yield speech len 0.6, rtf 4.395908912022909\n",
      "2025-02-26 16:58:57,955 INFO yield speech len 0.6, rtf 4.903181791305542\n"
     ]
    },
    {
     "name": "stdout",
     "output_type": "stream",
     "text": [
      "任务 5 进度：34\n",
      "任务 9 进度：34\n"
     ]
    },
    {
     "name": "stderr",
     "output_type": "stream",
     "text": [
      "2025-02-26 16:58:58,390 INFO yield speech len 0.6, rtf 4.697641928990683\n"
     ]
    },
    {
     "name": "stdout",
     "output_type": "stream",
     "text": [
      "任务 0 进度：34\n"
     ]
    },
    {
     "name": "stderr",
     "output_type": "stream",
     "text": [
      "2025-02-26 16:58:58,734 INFO yield speech len 0.6, rtf 4.417585929234823\n",
      "2025-02-26 16:58:58,877 INFO yield speech len 0.6, rtf 4.526985088984172\n"
     ]
    },
    {
     "name": "stdout",
     "output_type": "stream",
     "text": [
      "任务 3 进度：34\n",
      "任务 1 进度：34\n"
     ]
    },
    {
     "name": "stderr",
     "output_type": "stream",
     "text": [
      "2025-02-26 16:58:58,990 INFO yield speech len 0.6, rtf 4.570952653884888\n"
     ]
    },
    {
     "name": "stdout",
     "output_type": "stream",
     "text": [
      "任务 6 进度：34\n"
     ]
    },
    {
     "name": "stderr",
     "output_type": "stream",
     "text": [
      "2025-02-26 16:58:59,233 INFO yield speech len 0.6, rtf 5.054293870925903\n"
     ]
    },
    {
     "name": "stdout",
     "output_type": "stream",
     "text": [
      "任务 8 进度：34\n"
     ]
    },
    {
     "name": "stderr",
     "output_type": "stream",
     "text": [
      "2025-02-26 16:58:59,446 INFO yield speech len 0.6, rtf 4.641105731328329\n",
      "2025-02-26 16:58:59,479 INFO yield speech len 0.6, rtf 4.563883940378825\n"
     ]
    },
    {
     "name": "stdout",
     "output_type": "stream",
     "text": [
      "任务 2 进度：34\n",
      "任务 4 进度：34\n"
     ]
    },
    {
     "name": "stderr",
     "output_type": "stream",
     "text": [
      "2025-02-26 16:58:59,695 INFO yield speech len 0.6, rtf 4.689016342163086\n"
     ]
    },
    {
     "name": "stdout",
     "output_type": "stream",
     "text": [
      "任务 7 进度：34\n"
     ]
    },
    {
     "name": "stderr",
     "output_type": "stream",
     "text": [
      "2025-02-26 16:59:00,936 INFO yield speech len 0.6, rtf 5.121543010075888\n",
      "2025-02-26 16:59:01,099 INFO yield speech len 0.6, rtf 5.235819021860759\n"
     ]
    },
    {
     "name": "stdout",
     "output_type": "stream",
     "text": [
      "任务 5 进度：35\n",
      "任务 9 进度：35\n"
     ]
    },
    {
     "name": "stderr",
     "output_type": "stream",
     "text": [
      "2025-02-26 16:59:01,412 INFO yield speech len 0.32, rtf 9.435389935970306\n",
      "100%|██████████| 2/2 [00:58<00:00, 29.25s/it]\n"
     ]
    },
    {
     "name": "stdout",
     "output_type": "stream",
     "text": [
      "任务 0 进度：35\n",
      "任务 0 完成，生成 35 个片段\n"
     ]
    },
    {
     "name": "stderr",
     "output_type": "stream",
     "text": [
      "2025-02-26 16:59:01,912 INFO yield speech len 0.6, rtf 5.054901440938314\n",
      "2025-02-26 16:59:02,045 INFO yield speech len 0.6, rtf 5.085951089859009\n"
     ]
    },
    {
     "name": "stdout",
     "output_type": "stream",
     "text": [
      "任务 1 进度：35\n",
      "任务 6 进度：35\n"
     ]
    },
    {
     "name": "stderr",
     "output_type": "stream",
     "text": [
      "2025-02-26 16:59:02,132 INFO yield speech len 0.6, rtf 5.659589767456055\n",
      "2025-02-26 16:59:02,277 INFO yield speech len 0.04, rtf 76.03657841682434\n",
      "\n",
      "\n",
      "\n",
      "\n",
      "\n",
      "\n",
      "\n",
      "100%|██████████| 2/2 [00:58<00:00, 29.41s/it]\n"
     ]
    },
    {
     "name": "stdout",
     "output_type": "stream",
     "text": [
      "任务 3 进度：35\n",
      "任务 8 进度：35\n",
      "任务 8 完成，生成 35 个片段\n"
     ]
    },
    {
     "name": "stderr",
     "output_type": "stream",
     "text": [
      "2025-02-26 16:59:02,501 INFO yield speech len 0.6, rtf 5.091290871302287\n",
      "2025-02-26 16:59:02,595 INFO yield speech len 0.6, rtf 5.190642277399699\n"
     ]
    },
    {
     "name": "stdout",
     "output_type": "stream",
     "text": [
      "任务 2 进度：35\n",
      "任务 4 进度：35\n"
     ]
    },
    {
     "name": "stderr",
     "output_type": "stream",
     "text": [
      "2025-02-26 16:59:02,717 INFO yield speech len 0.6, rtf 5.033644437789917\n"
     ]
    },
    {
     "name": "stdout",
     "output_type": "stream",
     "text": [
      "任务 7 进度：35\n"
     ]
    },
    {
     "name": "stderr",
     "output_type": "stream",
     "text": [
      "2025-02-26 16:59:03,597 INFO yield speech len 0.6, rtf 4.430551528930664\n",
      "2025-02-26 16:59:03,721 INFO yield speech len 0.6, rtf 4.367711941401164\n"
     ]
    },
    {
     "name": "stdout",
     "output_type": "stream",
     "text": [
      "任务 5 进度：36\n",
      "任务 9 进度：36\n"
     ]
    },
    {
     "name": "stderr",
     "output_type": "stream",
     "text": [
      "2025-02-26 16:59:04,355 INFO yield speech len 0.6, rtf 4.070196549097697\n"
     ]
    },
    {
     "name": "stdout",
     "output_type": "stream",
     "text": [
      "任务 1 进度：36\n"
     ]
    },
    {
     "name": "stderr",
     "output_type": "stream",
     "text": [
      "2025-02-26 16:59:04,596 INFO yield speech len 0.6, rtf 4.104640483856201\n",
      "2025-02-26 16:59:04,647 INFO yield speech len 0.56, rtf 4.641611661229814\n",
      "\n",
      "\n",
      "\n",
      "\n",
      "\n",
      "100%|██████████| 2/2 [01:01<00:00, 30.66s/it]\n"
     ]
    },
    {
     "name": "stdout",
     "output_type": "stream",
     "text": [
      "任务 3 进度：36\n",
      "任务 6 进度：36\n",
      "任务 6 完成，生成 36 个片段\n"
     ]
    },
    {
     "name": "stderr",
     "output_type": "stream",
     "text": [
      "2025-02-26 16:59:04,984 INFO yield speech len 0.6, rtf 4.134354988733928\n",
      "2025-02-26 16:59:05,053 INFO yield speech len 0.44, rtf 5.580992048436945\n",
      "\n",
      "\n",
      "\n",
      "100%|██████████| 2/2 [01:01<00:00, 30.92s/it]\n",
      "2025-02-26 16:59:05,119 INFO yield speech len 0.6, rtf 3.999994993209839\n"
     ]
    },
    {
     "name": "stdout",
     "output_type": "stream",
     "text": [
      "任务 2 进度：36\n",
      "任务 4 进度：36\n",
      "任务 4 完成，生成 36 个片段\n",
      "任务 7 进度：36\n"
     ]
    },
    {
     "name": "stderr",
     "output_type": "stream",
     "text": [
      "2025-02-26 16:59:05,675 INFO yield speech len 0.6, rtf 3.462200959523519\n",
      "2025-02-26 16:59:05,758 INFO yield speech len 0.6, rtf 3.3926717440287275\n"
     ]
    },
    {
     "name": "stdout",
     "output_type": "stream",
     "text": [
      "任务 5 进度：37\n",
      "任务 9 进度：37\n"
     ]
    },
    {
     "name": "stderr",
     "output_type": "stream",
     "text": [
      "2025-02-26 16:59:06,355 INFO yield speech len 0.6, rtf 3.329281806945801\n",
      "2025-02-26 16:59:06,478 INFO yield speech len 0.6, rtf 3.135120471318563\n"
     ]
    },
    {
     "name": "stdout",
     "output_type": "stream",
     "text": [
      "任务 1 进度：37\n",
      "任务 3 进度：37\n"
     ]
    },
    {
     "name": "stderr",
     "output_type": "stream",
     "text": [
      "2025-02-26 16:59:06,623 INFO yield speech len 0.6, rtf 2.727157274881999\n"
     ]
    },
    {
     "name": "stdout",
     "output_type": "stream",
     "text": [
      "任务 2 进度：37\n"
     ]
    },
    {
     "name": "stderr",
     "output_type": "stream",
     "text": [
      "2025-02-26 16:59:06,879 INFO yield speech len 0.6, rtf 2.93183167775472\n"
     ]
    },
    {
     "name": "stdout",
     "output_type": "stream",
     "text": [
      "任务 7 进度：37\n"
     ]
    },
    {
     "name": "stderr",
     "output_type": "stream",
     "text": [
      "2025-02-26 16:59:07,689 INFO yield speech len 0.6, rtf 3.215014934539795\n",
      "2025-02-26 16:59:07,846 INFO yield speech len 0.6, rtf 3.6139480272928877\n"
     ]
    },
    {
     "name": "stdout",
     "output_type": "stream",
     "text": [
      "任务 9 进度：38\n",
      "任务 5 进度：38\n"
     ]
    },
    {
     "name": "stderr",
     "output_type": "stream",
     "text": [
      "2025-02-26 16:59:08,687 INFO yield speech len 0.4, rtf 5.515667200088501\n",
      "\n",
      "\n",
      "100%|██████████| 2/2 [01:05<00:00, 32.77s/it]\n",
      "2025-02-26 16:59:08,720 INFO yield speech len 0.08, rtf 29.52943444252014\n",
      "100%|██████████| 2/2 [01:05<00:00, 32.84s/it]\n",
      "2025-02-26 16:59:08,744 INFO yield speech len 0.6, rtf 3.5312088330586753\n",
      "2025-02-26 16:59:08,826 INFO yield speech len 0.36, rtf 5.403235885832045\n",
      "\n",
      "\n",
      "\n",
      "\n",
      "\n",
      "\n",
      "100%|██████████| 2/2 [01:05<00:00, 32.72s/it]\n",
      "2025-02-26 16:59:08,891 INFO yield speech len 0.6, rtf 1.9977688789367676\n"
     ]
    },
    {
     "name": "stdout",
     "output_type": "stream",
     "text": [
      "任务 3 进度：38\n",
      "任务 3 完成，生成 38 个片段\n",
      "任务 1 进度：38\n",
      "任务 1 完成，生成 38 个片段\n",
      "任务 2 进度：38\n",
      "任务 7 进度：38\n",
      "任务 7 完成，生成 38 个片段\n"
     ]
    },
    {
     "name": "stderr",
     "output_type": "stream",
     "text": [
      "2025-02-26 16:59:08,965 INFO yield speech len 0.2, rtf 5.587478876113892\n",
      "\n",
      "\n",
      "\n",
      "\n",
      "100%|██████████| 2/2 [01:05<00:00, 32.84s/it]\n",
      "2025-02-26 16:59:09,067 INFO yield speech len 0.6, rtf 0.5342972278594971\n"
     ]
    },
    {
     "name": "stdout",
     "output_type": "stream",
     "text": [
      "任务 9 进度：39\n",
      "任务 5 进度：39\n",
      "任务 5 完成，生成 39 个片段\n",
      "任务 2 进度：39\n"
     ]
    },
    {
     "name": "stderr",
     "output_type": "stream",
     "text": [
      "2025-02-26 16:59:09,102 INFO yield speech len 0.6, rtf 0.35148779551188153\n",
      "2025-02-26 16:59:09,236 INFO yield speech len 0.4, rtf 0.4206514358520508\n",
      "\n",
      "100%|██████████| 2/2 [01:06<00:00, 33.07s/it]\n"
     ]
    },
    {
     "name": "stdout",
     "output_type": "stream",
     "text": [
      "任务 9 进度：40\n",
      "任务 2 进度：40\n",
      "任务 2 完成，生成 40 个片段\n"
     ]
    },
    {
     "name": "stderr",
     "output_type": "stream",
     "text": [
      "2025-02-26 16:59:09,304 INFO yield speech len 0.36, rtf 0.5572100480397543\n",
      "\n",
      "\n",
      "\n",
      "\n",
      "\n",
      "\n",
      "\n",
      "\n",
      "100%|██████████| 2/2 [01:05<00:00, 32.89s/it]"
     ]
    },
    {
     "name": "stdout",
     "output_type": "stream",
     "text": [
      "任务 9 进度：41\n",
      "任务 9 完成，生成 41 个片段\n",
      "--- 66.42226147651672 seconds ---\n"
     ]
    },
    {
     "name": "stderr",
     "output_type": "stream",
     "text": [
      "\n"
     ]
    }
   ],
   "source": [
    "import time\n",
    "start_time = time.time()\n",
    "await test_concurrent_instruct(10, semaphore_limit=10, stream=True)\n",
    "print(\"--- %s seconds ---\" % (time.time() - start_time))"
   ]
  }
 ],
 "metadata": {
  "kernelspec": {
   "display_name": "cosyvoice2",
   "language": "python",
   "name": "python3"
  },
  "language_info": {
   "codemirror_mode": {
    "name": "ipython",
    "version": 3
   },
   "file_extension": ".py",
   "mimetype": "text/x-python",
   "name": "python",
   "nbconvert_exporter": "python",
   "pygments_lexer": "ipython3",
   "version": "3.10.16"
  }
 },
 "nbformat": 4,
 "nbformat_minor": 2
}
